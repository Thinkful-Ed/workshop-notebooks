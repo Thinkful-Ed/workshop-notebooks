{
 "cells": [
  {
   "cell_type": "markdown",
   "metadata": {},
   "source": [
    "## Initial imports and loading data with Pandas"
   ]
  },
  {
   "cell_type": "code",
   "execution_count": 110,
   "metadata": {},
   "outputs": [],
   "source": [
    "import numpy as np\n",
    "import pandas as pd\n",
    "import matplotlib.pyplot as plt\n",
    "import seaborn as sns\n",
    "from sklearn import tree\n",
    "from sklearn.ensemble import RandomForestRegressor\n",
    "from sklearn.linear_model import LinearRegression\n",
    "from sklearn.metrics import mean_squared_error, r2_score\n",
    "from sklearn.model_selection import train_test_split\n",
    "%matplotlib inline\n",
    "\n",
    "pd.set_option('mode.chained_assignment', None)"
   ]
  },
  {
   "cell_type": "code",
   "execution_count": 111,
   "metadata": {},
   "outputs": [],
   "source": [
    "data = pd.read_csv('movie_metadata.csv')"
   ]
  },
  {
   "cell_type": "markdown",
   "metadata": {},
   "source": [
    "## Taking a look at the data"
   ]
  },
  {
   "cell_type": "markdown",
   "metadata": {},
   "source": [
    "You need to \"run\" the two cells below, to do that select the cell and press:  *`Shift-Enter`*"
   ]
  },
  {
   "cell_type": "code",
   "execution_count": 112,
   "metadata": {},
   "outputs": [
    {
     "data": {
      "text/html": [
       "<div>\n",
       "<style>\n",
       "    .dataframe thead tr:only-child th {\n",
       "        text-align: right;\n",
       "    }\n",
       "\n",
       "    .dataframe thead th {\n",
       "        text-align: left;\n",
       "    }\n",
       "\n",
       "    .dataframe tbody tr th {\n",
       "        vertical-align: top;\n",
       "    }\n",
       "</style>\n",
       "<table border=\"1\" class=\"dataframe\">\n",
       "  <thead>\n",
       "    <tr style=\"text-align: right;\">\n",
       "      <th></th>\n",
       "      <th>color</th>\n",
       "      <th>director_name</th>\n",
       "      <th>num_critic_for_reviews</th>\n",
       "      <th>duration</th>\n",
       "      <th>director_facebook_likes</th>\n",
       "      <th>actor_3_facebook_likes</th>\n",
       "      <th>actor_2_name</th>\n",
       "      <th>actor_1_facebook_likes</th>\n",
       "      <th>gross</th>\n",
       "      <th>genres</th>\n",
       "      <th>...</th>\n",
       "      <th>num_user_for_reviews</th>\n",
       "      <th>language</th>\n",
       "      <th>country</th>\n",
       "      <th>content_rating</th>\n",
       "      <th>budget</th>\n",
       "      <th>title_year</th>\n",
       "      <th>actor_2_facebook_likes</th>\n",
       "      <th>imdb_score</th>\n",
       "      <th>aspect_ratio</th>\n",
       "      <th>movie_facebook_likes</th>\n",
       "    </tr>\n",
       "  </thead>\n",
       "  <tbody>\n",
       "    <tr>\n",
       "      <th>0</th>\n",
       "      <td>Color</td>\n",
       "      <td>James Cameron</td>\n",
       "      <td>723.0</td>\n",
       "      <td>178.0</td>\n",
       "      <td>0.0</td>\n",
       "      <td>855.0</td>\n",
       "      <td>Joel David Moore</td>\n",
       "      <td>1000.0</td>\n",
       "      <td>760505847.0</td>\n",
       "      <td>Action|Adventure|Fantasy|Sci-Fi</td>\n",
       "      <td>...</td>\n",
       "      <td>3054.0</td>\n",
       "      <td>English</td>\n",
       "      <td>USA</td>\n",
       "      <td>PG-13</td>\n",
       "      <td>237000000.0</td>\n",
       "      <td>2009.0</td>\n",
       "      <td>936.0</td>\n",
       "      <td>7.9</td>\n",
       "      <td>1.78</td>\n",
       "      <td>33000</td>\n",
       "    </tr>\n",
       "    <tr>\n",
       "      <th>1</th>\n",
       "      <td>Color</td>\n",
       "      <td>Gore Verbinski</td>\n",
       "      <td>302.0</td>\n",
       "      <td>169.0</td>\n",
       "      <td>563.0</td>\n",
       "      <td>1000.0</td>\n",
       "      <td>Orlando Bloom</td>\n",
       "      <td>40000.0</td>\n",
       "      <td>309404152.0</td>\n",
       "      <td>Action|Adventure|Fantasy</td>\n",
       "      <td>...</td>\n",
       "      <td>1238.0</td>\n",
       "      <td>English</td>\n",
       "      <td>USA</td>\n",
       "      <td>PG-13</td>\n",
       "      <td>300000000.0</td>\n",
       "      <td>2007.0</td>\n",
       "      <td>5000.0</td>\n",
       "      <td>7.1</td>\n",
       "      <td>2.35</td>\n",
       "      <td>0</td>\n",
       "    </tr>\n",
       "    <tr>\n",
       "      <th>2</th>\n",
       "      <td>Color</td>\n",
       "      <td>Sam Mendes</td>\n",
       "      <td>602.0</td>\n",
       "      <td>148.0</td>\n",
       "      <td>0.0</td>\n",
       "      <td>161.0</td>\n",
       "      <td>Rory Kinnear</td>\n",
       "      <td>11000.0</td>\n",
       "      <td>200074175.0</td>\n",
       "      <td>Action|Adventure|Thriller</td>\n",
       "      <td>...</td>\n",
       "      <td>994.0</td>\n",
       "      <td>English</td>\n",
       "      <td>UK</td>\n",
       "      <td>PG-13</td>\n",
       "      <td>245000000.0</td>\n",
       "      <td>2015.0</td>\n",
       "      <td>393.0</td>\n",
       "      <td>6.8</td>\n",
       "      <td>2.35</td>\n",
       "      <td>85000</td>\n",
       "    </tr>\n",
       "    <tr>\n",
       "      <th>3</th>\n",
       "      <td>Color</td>\n",
       "      <td>Christopher Nolan</td>\n",
       "      <td>813.0</td>\n",
       "      <td>164.0</td>\n",
       "      <td>22000.0</td>\n",
       "      <td>23000.0</td>\n",
       "      <td>Christian Bale</td>\n",
       "      <td>27000.0</td>\n",
       "      <td>448130642.0</td>\n",
       "      <td>Action|Thriller</td>\n",
       "      <td>...</td>\n",
       "      <td>2701.0</td>\n",
       "      <td>English</td>\n",
       "      <td>USA</td>\n",
       "      <td>PG-13</td>\n",
       "      <td>250000000.0</td>\n",
       "      <td>2012.0</td>\n",
       "      <td>23000.0</td>\n",
       "      <td>8.5</td>\n",
       "      <td>2.35</td>\n",
       "      <td>164000</td>\n",
       "    </tr>\n",
       "    <tr>\n",
       "      <th>4</th>\n",
       "      <td>NaN</td>\n",
       "      <td>Doug Walker</td>\n",
       "      <td>NaN</td>\n",
       "      <td>NaN</td>\n",
       "      <td>131.0</td>\n",
       "      <td>NaN</td>\n",
       "      <td>Rob Walker</td>\n",
       "      <td>131.0</td>\n",
       "      <td>NaN</td>\n",
       "      <td>Documentary</td>\n",
       "      <td>...</td>\n",
       "      <td>NaN</td>\n",
       "      <td>NaN</td>\n",
       "      <td>NaN</td>\n",
       "      <td>NaN</td>\n",
       "      <td>NaN</td>\n",
       "      <td>NaN</td>\n",
       "      <td>12.0</td>\n",
       "      <td>7.1</td>\n",
       "      <td>NaN</td>\n",
       "      <td>0</td>\n",
       "    </tr>\n",
       "  </tbody>\n",
       "</table>\n",
       "<p>5 rows × 28 columns</p>\n",
       "</div>"
      ],
      "text/plain": [
       "   color      director_name  num_critic_for_reviews  duration  \\\n",
       "0  Color      James Cameron                   723.0     178.0   \n",
       "1  Color     Gore Verbinski                   302.0     169.0   \n",
       "2  Color         Sam Mendes                   602.0     148.0   \n",
       "3  Color  Christopher Nolan                   813.0     164.0   \n",
       "4    NaN        Doug Walker                     NaN       NaN   \n",
       "\n",
       "   director_facebook_likes  actor_3_facebook_likes      actor_2_name  \\\n",
       "0                      0.0                   855.0  Joel David Moore   \n",
       "1                    563.0                  1000.0     Orlando Bloom   \n",
       "2                      0.0                   161.0      Rory Kinnear   \n",
       "3                  22000.0                 23000.0    Christian Bale   \n",
       "4                    131.0                     NaN        Rob Walker   \n",
       "\n",
       "   actor_1_facebook_likes        gross                           genres  \\\n",
       "0                  1000.0  760505847.0  Action|Adventure|Fantasy|Sci-Fi   \n",
       "1                 40000.0  309404152.0         Action|Adventure|Fantasy   \n",
       "2                 11000.0  200074175.0        Action|Adventure|Thriller   \n",
       "3                 27000.0  448130642.0                  Action|Thriller   \n",
       "4                   131.0          NaN                      Documentary   \n",
       "\n",
       "          ...          num_user_for_reviews language  country  content_rating  \\\n",
       "0         ...                        3054.0  English      USA           PG-13   \n",
       "1         ...                        1238.0  English      USA           PG-13   \n",
       "2         ...                         994.0  English       UK           PG-13   \n",
       "3         ...                        2701.0  English      USA           PG-13   \n",
       "4         ...                           NaN      NaN      NaN             NaN   \n",
       "\n",
       "        budget  title_year actor_2_facebook_likes imdb_score  aspect_ratio  \\\n",
       "0  237000000.0      2009.0                  936.0        7.9          1.78   \n",
       "1  300000000.0      2007.0                 5000.0        7.1          2.35   \n",
       "2  245000000.0      2015.0                  393.0        6.8          2.35   \n",
       "3  250000000.0      2012.0                23000.0        8.5          2.35   \n",
       "4          NaN         NaN                   12.0        7.1           NaN   \n",
       "\n",
       "  movie_facebook_likes  \n",
       "0                33000  \n",
       "1                    0  \n",
       "2                85000  \n",
       "3               164000  \n",
       "4                    0  \n",
       "\n",
       "[5 rows x 28 columns]"
      ]
     },
     "execution_count": 112,
     "metadata": {},
     "output_type": "execute_result"
    }
   ],
   "source": [
    "# Run this cell (to do so press Shift-Enter)\n",
    "data.head(5)"
   ]
  },
  {
   "cell_type": "code",
   "execution_count": 113,
   "metadata": {},
   "outputs": [
    {
     "data": {
      "text/plain": [
       "(5043, 28)"
      ]
     },
     "execution_count": 113,
     "metadata": {},
     "output_type": "execute_result"
    }
   ],
   "source": [
    "data.shape"
   ]
  },
  {
   "cell_type": "code",
   "execution_count": 114,
   "metadata": {},
   "outputs": [
    {
     "data": {
      "text/html": [
       "<div>\n",
       "<style>\n",
       "    .dataframe thead tr:only-child th {\n",
       "        text-align: right;\n",
       "    }\n",
       "\n",
       "    .dataframe thead th {\n",
       "        text-align: left;\n",
       "    }\n",
       "\n",
       "    .dataframe tbody tr th {\n",
       "        vertical-align: top;\n",
       "    }\n",
       "</style>\n",
       "<table border=\"1\" class=\"dataframe\">\n",
       "  <thead>\n",
       "    <tr style=\"text-align: right;\">\n",
       "      <th></th>\n",
       "      <th>num_critic_for_reviews</th>\n",
       "      <th>duration</th>\n",
       "      <th>director_facebook_likes</th>\n",
       "      <th>actor_3_facebook_likes</th>\n",
       "      <th>actor_1_facebook_likes</th>\n",
       "      <th>gross</th>\n",
       "      <th>num_voted_users</th>\n",
       "      <th>cast_total_facebook_likes</th>\n",
       "      <th>facenumber_in_poster</th>\n",
       "      <th>num_user_for_reviews</th>\n",
       "      <th>budget</th>\n",
       "      <th>title_year</th>\n",
       "      <th>actor_2_facebook_likes</th>\n",
       "      <th>imdb_score</th>\n",
       "      <th>aspect_ratio</th>\n",
       "      <th>movie_facebook_likes</th>\n",
       "    </tr>\n",
       "  </thead>\n",
       "  <tbody>\n",
       "    <tr>\n",
       "      <th>count</th>\n",
       "      <td>4993.000000</td>\n",
       "      <td>5028.000000</td>\n",
       "      <td>4939.000000</td>\n",
       "      <td>5020.000000</td>\n",
       "      <td>5036.000000</td>\n",
       "      <td>4.159000e+03</td>\n",
       "      <td>5.043000e+03</td>\n",
       "      <td>5043.000000</td>\n",
       "      <td>5030.000000</td>\n",
       "      <td>5022.000000</td>\n",
       "      <td>4.551000e+03</td>\n",
       "      <td>4935.000000</td>\n",
       "      <td>5030.000000</td>\n",
       "      <td>5043.000000</td>\n",
       "      <td>4714.000000</td>\n",
       "      <td>5043.000000</td>\n",
       "    </tr>\n",
       "    <tr>\n",
       "      <th>mean</th>\n",
       "      <td>140.194272</td>\n",
       "      <td>107.201074</td>\n",
       "      <td>686.509212</td>\n",
       "      <td>645.009761</td>\n",
       "      <td>6560.047061</td>\n",
       "      <td>4.846841e+07</td>\n",
       "      <td>8.366816e+04</td>\n",
       "      <td>9699.063851</td>\n",
       "      <td>1.371173</td>\n",
       "      <td>272.770808</td>\n",
       "      <td>3.975262e+07</td>\n",
       "      <td>2002.470517</td>\n",
       "      <td>1651.754473</td>\n",
       "      <td>6.442138</td>\n",
       "      <td>2.220403</td>\n",
       "      <td>7525.964505</td>\n",
       "    </tr>\n",
       "    <tr>\n",
       "      <th>std</th>\n",
       "      <td>121.601675</td>\n",
       "      <td>25.197441</td>\n",
       "      <td>2813.328607</td>\n",
       "      <td>1665.041728</td>\n",
       "      <td>15020.759120</td>\n",
       "      <td>6.845299e+07</td>\n",
       "      <td>1.384853e+05</td>\n",
       "      <td>18163.799124</td>\n",
       "      <td>2.013576</td>\n",
       "      <td>377.982886</td>\n",
       "      <td>2.061149e+08</td>\n",
       "      <td>12.474599</td>\n",
       "      <td>4042.438863</td>\n",
       "      <td>1.125116</td>\n",
       "      <td>1.385113</td>\n",
       "      <td>19320.445110</td>\n",
       "    </tr>\n",
       "    <tr>\n",
       "      <th>min</th>\n",
       "      <td>1.000000</td>\n",
       "      <td>7.000000</td>\n",
       "      <td>0.000000</td>\n",
       "      <td>0.000000</td>\n",
       "      <td>0.000000</td>\n",
       "      <td>1.620000e+02</td>\n",
       "      <td>5.000000e+00</td>\n",
       "      <td>0.000000</td>\n",
       "      <td>0.000000</td>\n",
       "      <td>1.000000</td>\n",
       "      <td>2.180000e+02</td>\n",
       "      <td>1916.000000</td>\n",
       "      <td>0.000000</td>\n",
       "      <td>1.600000</td>\n",
       "      <td>1.180000</td>\n",
       "      <td>0.000000</td>\n",
       "    </tr>\n",
       "    <tr>\n",
       "      <th>25%</th>\n",
       "      <td>50.000000</td>\n",
       "      <td>93.000000</td>\n",
       "      <td>7.000000</td>\n",
       "      <td>133.000000</td>\n",
       "      <td>614.000000</td>\n",
       "      <td>5.340988e+06</td>\n",
       "      <td>8.593500e+03</td>\n",
       "      <td>1411.000000</td>\n",
       "      <td>0.000000</td>\n",
       "      <td>65.000000</td>\n",
       "      <td>6.000000e+06</td>\n",
       "      <td>1999.000000</td>\n",
       "      <td>281.000000</td>\n",
       "      <td>5.800000</td>\n",
       "      <td>1.850000</td>\n",
       "      <td>0.000000</td>\n",
       "    </tr>\n",
       "    <tr>\n",
       "      <th>50%</th>\n",
       "      <td>110.000000</td>\n",
       "      <td>103.000000</td>\n",
       "      <td>49.000000</td>\n",
       "      <td>371.500000</td>\n",
       "      <td>988.000000</td>\n",
       "      <td>2.551750e+07</td>\n",
       "      <td>3.435900e+04</td>\n",
       "      <td>3090.000000</td>\n",
       "      <td>1.000000</td>\n",
       "      <td>156.000000</td>\n",
       "      <td>2.000000e+07</td>\n",
       "      <td>2005.000000</td>\n",
       "      <td>595.000000</td>\n",
       "      <td>6.600000</td>\n",
       "      <td>2.350000</td>\n",
       "      <td>166.000000</td>\n",
       "    </tr>\n",
       "    <tr>\n",
       "      <th>75%</th>\n",
       "      <td>195.000000</td>\n",
       "      <td>118.000000</td>\n",
       "      <td>194.500000</td>\n",
       "      <td>636.000000</td>\n",
       "      <td>11000.000000</td>\n",
       "      <td>6.230944e+07</td>\n",
       "      <td>9.630900e+04</td>\n",
       "      <td>13756.500000</td>\n",
       "      <td>2.000000</td>\n",
       "      <td>326.000000</td>\n",
       "      <td>4.500000e+07</td>\n",
       "      <td>2011.000000</td>\n",
       "      <td>918.000000</td>\n",
       "      <td>7.200000</td>\n",
       "      <td>2.350000</td>\n",
       "      <td>3000.000000</td>\n",
       "    </tr>\n",
       "    <tr>\n",
       "      <th>max</th>\n",
       "      <td>813.000000</td>\n",
       "      <td>511.000000</td>\n",
       "      <td>23000.000000</td>\n",
       "      <td>23000.000000</td>\n",
       "      <td>640000.000000</td>\n",
       "      <td>7.605058e+08</td>\n",
       "      <td>1.689764e+06</td>\n",
       "      <td>656730.000000</td>\n",
       "      <td>43.000000</td>\n",
       "      <td>5060.000000</td>\n",
       "      <td>1.221550e+10</td>\n",
       "      <td>2016.000000</td>\n",
       "      <td>137000.000000</td>\n",
       "      <td>9.500000</td>\n",
       "      <td>16.000000</td>\n",
       "      <td>349000.000000</td>\n",
       "    </tr>\n",
       "  </tbody>\n",
       "</table>\n",
       "</div>"
      ],
      "text/plain": [
       "       num_critic_for_reviews     duration  director_facebook_likes  \\\n",
       "count             4993.000000  5028.000000              4939.000000   \n",
       "mean               140.194272   107.201074               686.509212   \n",
       "std                121.601675    25.197441              2813.328607   \n",
       "min                  1.000000     7.000000                 0.000000   \n",
       "25%                 50.000000    93.000000                 7.000000   \n",
       "50%                110.000000   103.000000                49.000000   \n",
       "75%                195.000000   118.000000               194.500000   \n",
       "max                813.000000   511.000000             23000.000000   \n",
       "\n",
       "       actor_3_facebook_likes  actor_1_facebook_likes         gross  \\\n",
       "count             5020.000000             5036.000000  4.159000e+03   \n",
       "mean               645.009761             6560.047061  4.846841e+07   \n",
       "std               1665.041728            15020.759120  6.845299e+07   \n",
       "min                  0.000000                0.000000  1.620000e+02   \n",
       "25%                133.000000              614.000000  5.340988e+06   \n",
       "50%                371.500000              988.000000  2.551750e+07   \n",
       "75%                636.000000            11000.000000  6.230944e+07   \n",
       "max              23000.000000           640000.000000  7.605058e+08   \n",
       "\n",
       "       num_voted_users  cast_total_facebook_likes  facenumber_in_poster  \\\n",
       "count     5.043000e+03                5043.000000           5030.000000   \n",
       "mean      8.366816e+04                9699.063851              1.371173   \n",
       "std       1.384853e+05               18163.799124              2.013576   \n",
       "min       5.000000e+00                   0.000000              0.000000   \n",
       "25%       8.593500e+03                1411.000000              0.000000   \n",
       "50%       3.435900e+04                3090.000000              1.000000   \n",
       "75%       9.630900e+04               13756.500000              2.000000   \n",
       "max       1.689764e+06              656730.000000             43.000000   \n",
       "\n",
       "       num_user_for_reviews        budget   title_year  \\\n",
       "count           5022.000000  4.551000e+03  4935.000000   \n",
       "mean             272.770808  3.975262e+07  2002.470517   \n",
       "std              377.982886  2.061149e+08    12.474599   \n",
       "min                1.000000  2.180000e+02  1916.000000   \n",
       "25%               65.000000  6.000000e+06  1999.000000   \n",
       "50%              156.000000  2.000000e+07  2005.000000   \n",
       "75%              326.000000  4.500000e+07  2011.000000   \n",
       "max             5060.000000  1.221550e+10  2016.000000   \n",
       "\n",
       "       actor_2_facebook_likes   imdb_score  aspect_ratio  movie_facebook_likes  \n",
       "count             5030.000000  5043.000000   4714.000000           5043.000000  \n",
       "mean              1651.754473     6.442138      2.220403           7525.964505  \n",
       "std               4042.438863     1.125116      1.385113          19320.445110  \n",
       "min                  0.000000     1.600000      1.180000              0.000000  \n",
       "25%                281.000000     5.800000      1.850000              0.000000  \n",
       "50%                595.000000     6.600000      2.350000            166.000000  \n",
       "75%                918.000000     7.200000      2.350000           3000.000000  \n",
       "max             137000.000000     9.500000     16.000000         349000.000000  "
      ]
     },
     "execution_count": 114,
     "metadata": {},
     "output_type": "execute_result"
    }
   ],
   "source": [
    "data.describe()"
   ]
  },
  {
   "cell_type": "markdown",
   "metadata": {},
   "source": [
    "Some key points from this table:\n",
    "- Avg movie duration is 107.2 minutes\n",
    "- Avg imdb is 6.44\n",
    "- Avg number of users reviews is 272"
   ]
  },
  {
   "cell_type": "markdown",
   "metadata": {},
   "source": [
    "## Cleaning the data"
   ]
  },
  {
   "cell_type": "markdown",
   "metadata": {},
   "source": [
    "### Dealing with duplicates"
   ]
  },
  {
   "cell_type": "code",
   "execution_count": 115,
   "metadata": {},
   "outputs": [
    {
     "name": "stdout",
     "output_type": "stream",
     "text": [
      "Number of duplicates in data: 241\n"
     ]
    }
   ],
   "source": [
    "print ('Number of duplicates in data: {}'.format(\n",
    "    sum(data.duplicated(subset=['movie_title', 'title_year'], keep=False))))"
   ]
  },
  {
   "cell_type": "code",
   "execution_count": 116,
   "metadata": {},
   "outputs": [],
   "source": [
    "data = data.drop_duplicates(subset=['movie_title', 'title_year'], keep='first').copy()"
   ]
  },
  {
   "cell_type": "markdown",
   "metadata": {},
   "source": [
    "### Fixing Null and some zero values"
   ]
  },
  {
   "cell_type": "code",
   "execution_count": 117,
   "metadata": {},
   "outputs": [
    {
     "data": {
      "text/plain": [
       "True"
      ]
     },
     "execution_count": 117,
     "metadata": {},
     "output_type": "execute_result"
    }
   ],
   "source": [
    "# check if data has any null/nan values\n",
    "data.isnull().values.any()"
   ]
  },
  {
   "cell_type": "code",
   "execution_count": 118,
   "metadata": {},
   "outputs": [
    {
     "data": {
      "text/html": [
       "<div>\n",
       "<style>\n",
       "    .dataframe thead tr:only-child th {\n",
       "        text-align: right;\n",
       "    }\n",
       "\n",
       "    .dataframe thead th {\n",
       "        text-align: left;\n",
       "    }\n",
       "\n",
       "    .dataframe tbody tr th {\n",
       "        vertical-align: top;\n",
       "    }\n",
       "</style>\n",
       "<table border=\"1\" class=\"dataframe\">\n",
       "  <thead>\n",
       "    <tr style=\"text-align: right;\">\n",
       "      <th></th>\n",
       "      <th>column_name</th>\n",
       "      <th>missing_count</th>\n",
       "      <th>filling_factor</th>\n",
       "    </tr>\n",
       "  </thead>\n",
       "  <tbody>\n",
       "    <tr>\n",
       "      <th>0</th>\n",
       "      <td>gross</td>\n",
       "      <td>863</td>\n",
       "      <td>82.455784</td>\n",
       "    </tr>\n",
       "    <tr>\n",
       "      <th>1</th>\n",
       "      <td>budget</td>\n",
       "      <td>485</td>\n",
       "      <td>90.140272</td>\n",
       "    </tr>\n",
       "    <tr>\n",
       "      <th>2</th>\n",
       "      <td>aspect_ratio</td>\n",
       "      <td>326</td>\n",
       "      <td>93.372637</td>\n",
       "    </tr>\n",
       "    <tr>\n",
       "      <th>3</th>\n",
       "      <td>content_rating</td>\n",
       "      <td>301</td>\n",
       "      <td>93.880870</td>\n",
       "    </tr>\n",
       "    <tr>\n",
       "      <th>4</th>\n",
       "      <td>plot_keywords</td>\n",
       "      <td>152</td>\n",
       "      <td>96.909941</td>\n",
       "    </tr>\n",
       "  </tbody>\n",
       "</table>\n",
       "</div>"
      ],
      "text/plain": [
       "      column_name  missing_count  filling_factor\n",
       "0           gross            863       82.455784\n",
       "1          budget            485       90.140272\n",
       "2    aspect_ratio            326       93.372637\n",
       "3  content_rating            301       93.880870\n",
       "4   plot_keywords            152       96.909941"
      ]
     },
     "execution_count": 118,
     "metadata": {},
     "output_type": "execute_result"
    }
   ],
   "source": [
    "# Check how many values are null in each column\n",
    "def show_missing_data(data):\n",
    "    missing_data = data.isnull().sum().reset_index()\n",
    "    missing_data.columns = ['column_name', 'missing_count']\n",
    "    missing_data['filling_factor'] = (data.shape[0] - missing_data['missing_count']) / data.shape[0] * 100\n",
    "    return missing_data.sort_values('filling_factor').reset_index(drop=True)\n",
    "\n",
    "show_missing_data(data)[:5]"
   ]
  },
  {
   "cell_type": "markdown",
   "metadata": {},
   "source": [
    "As we are working with the Gross Box Office, rows without it are of no use. So we will exclude those films that are missing the Gross Box Office."
   ]
  },
  {
   "cell_type": "code",
   "execution_count": 119,
   "metadata": {},
   "outputs": [
    {
     "data": {
      "text/html": [
       "<div>\n",
       "<style>\n",
       "    .dataframe thead tr:only-child th {\n",
       "        text-align: right;\n",
       "    }\n",
       "\n",
       "    .dataframe thead th {\n",
       "        text-align: left;\n",
       "    }\n",
       "\n",
       "    .dataframe tbody tr th {\n",
       "        vertical-align: top;\n",
       "    }\n",
       "</style>\n",
       "<table border=\"1\" class=\"dataframe\">\n",
       "  <thead>\n",
       "    <tr style=\"text-align: right;\">\n",
       "      <th></th>\n",
       "      <th>column_name</th>\n",
       "      <th>missing_count</th>\n",
       "      <th>filling_factor</th>\n",
       "    </tr>\n",
       "  </thead>\n",
       "  <tbody>\n",
       "    <tr>\n",
       "      <th>0</th>\n",
       "      <td>budget</td>\n",
       "      <td>266</td>\n",
       "      <td>93.441815</td>\n",
       "    </tr>\n",
       "    <tr>\n",
       "      <th>1</th>\n",
       "      <td>aspect_ratio</td>\n",
       "      <td>104</td>\n",
       "      <td>97.435897</td>\n",
       "    </tr>\n",
       "    <tr>\n",
       "      <th>2</th>\n",
       "      <td>content_rating</td>\n",
       "      <td>64</td>\n",
       "      <td>98.422091</td>\n",
       "    </tr>\n",
       "    <tr>\n",
       "      <th>3</th>\n",
       "      <td>plot_keywords</td>\n",
       "      <td>40</td>\n",
       "      <td>99.013807</td>\n",
       "    </tr>\n",
       "    <tr>\n",
       "      <th>4</th>\n",
       "      <td>actor_3_name</td>\n",
       "      <td>13</td>\n",
       "      <td>99.679487</td>\n",
       "    </tr>\n",
       "  </tbody>\n",
       "</table>\n",
       "</div>"
      ],
      "text/plain": [
       "      column_name  missing_count  filling_factor\n",
       "0          budget            266       93.441815\n",
       "1    aspect_ratio            104       97.435897\n",
       "2  content_rating             64       98.422091\n",
       "3   plot_keywords             40       99.013807\n",
       "4    actor_3_name             13       99.679487"
      ]
     },
     "execution_count": 119,
     "metadata": {},
     "output_type": "execute_result"
    }
   ],
   "source": [
    "data.dropna(subset=['gross'], how='all', inplace=True)\n",
    "show_missing_data(data)[:5]"
   ]
  },
  {
   "cell_type": "markdown",
   "metadata": {},
   "source": [
    "Fill out missing budget datapoints with the median budget for the year it was released."
   ]
  },
  {
   "cell_type": "code",
   "execution_count": 120,
   "metadata": {},
   "outputs": [
    {
     "data": {
      "text/html": [
       "<div>\n",
       "<style>\n",
       "    .dataframe thead tr:only-child th {\n",
       "        text-align: right;\n",
       "    }\n",
       "\n",
       "    .dataframe thead th {\n",
       "        text-align: left;\n",
       "    }\n",
       "\n",
       "    .dataframe tbody tr th {\n",
       "        vertical-align: top;\n",
       "    }\n",
       "</style>\n",
       "<table border=\"1\" class=\"dataframe\">\n",
       "  <thead>\n",
       "    <tr style=\"text-align: right;\">\n",
       "      <th></th>\n",
       "      <th>column_name</th>\n",
       "      <th>missing_count</th>\n",
       "      <th>filling_factor</th>\n",
       "    </tr>\n",
       "  </thead>\n",
       "  <tbody>\n",
       "    <tr>\n",
       "      <th>0</th>\n",
       "      <td>aspect_ratio</td>\n",
       "      <td>104</td>\n",
       "      <td>97.435897</td>\n",
       "    </tr>\n",
       "    <tr>\n",
       "      <th>1</th>\n",
       "      <td>content_rating</td>\n",
       "      <td>64</td>\n",
       "      <td>98.422091</td>\n",
       "    </tr>\n",
       "    <tr>\n",
       "      <th>2</th>\n",
       "      <td>plot_keywords</td>\n",
       "      <td>40</td>\n",
       "      <td>99.013807</td>\n",
       "    </tr>\n",
       "    <tr>\n",
       "      <th>3</th>\n",
       "      <td>actor_3_name</td>\n",
       "      <td>13</td>\n",
       "      <td>99.679487</td>\n",
       "    </tr>\n",
       "    <tr>\n",
       "      <th>4</th>\n",
       "      <td>actor_3_facebook_likes</td>\n",
       "      <td>13</td>\n",
       "      <td>99.679487</td>\n",
       "    </tr>\n",
       "  </tbody>\n",
       "</table>\n",
       "</div>"
      ],
      "text/plain": [
       "              column_name  missing_count  filling_factor\n",
       "0            aspect_ratio            104       97.435897\n",
       "1          content_rating             64       98.422091\n",
       "2           plot_keywords             40       99.013807\n",
       "3            actor_3_name             13       99.679487\n",
       "4  actor_3_facebook_likes             13       99.679487"
      ]
     },
     "execution_count": 120,
     "metadata": {},
     "output_type": "execute_result"
    }
   ],
   "source": [
    "median_budget_per_year = data.groupby('title_year')['budget'].transform('median')\n",
    "data['budget'].fillna(median_budget_per_year, inplace=True)\n",
    "\n",
    "show_missing_data(data)[:5]"
   ]
  },
  {
   "cell_type": "markdown",
   "metadata": {},
   "source": [
    "Fill out the rest of the missing data"
   ]
  },
  {
   "cell_type": "code",
   "execution_count": 121,
   "metadata": {},
   "outputs": [],
   "source": [
    "data.fillna(0, inplace=True)"
   ]
  },
  {
   "cell_type": "markdown",
   "metadata": {},
   "source": [
    "Delete all rows where `title_year` is zero"
   ]
  },
  {
   "cell_type": "code",
   "execution_count": 122,
   "metadata": {},
   "outputs": [],
   "source": [
    "data = data[data['title_year'] != 0]"
   ]
  },
  {
   "cell_type": "markdown",
   "metadata": {},
   "source": [
    "Budgets are in each country's currency so we are going to use only US movies"
   ]
  },
  {
   "cell_type": "code",
   "execution_count": 123,
   "metadata": {},
   "outputs": [],
   "source": [
    "data = data[data['country'] == 'USA']"
   ]
  },
  {
   "cell_type": "markdown",
   "metadata": {},
   "source": [
    "## Understanding the data"
   ]
  },
  {
   "cell_type": "code",
   "execution_count": 124,
   "metadata": {},
   "outputs": [
    {
     "data": {
      "text/plain": [
       "array([[<matplotlib.axes._subplots.AxesSubplot object at 0x1135ad6a0>]], dtype=object)"
      ]
     },
     "execution_count": 124,
     "metadata": {},
     "output_type": "execute_result"
    },
    {
     "data": {
      "image/png": "[encoded data removed]",
      "text/plain": [
       "<matplotlib.figure.Figure at 0x113d7b748>"
      ]
     },
     "metadata": {},
     "output_type": "display_data"
    }
   ],
   "source": [
    "# IMDb rating distribution\n",
    "data.hist(column='imdb_score')"
   ]
  },
  {
   "cell_type": "code",
   "execution_count": 125,
   "metadata": {},
   "outputs": [
    {
     "data": {
      "text/plain": [
       "array([[<matplotlib.axes._subplots.AxesSubplot object at 0x113d896a0>]], dtype=object)"
      ]
     },
     "execution_count": 125,
     "metadata": {},
     "output_type": "execute_result"
    },
    {
     "data": {
      "image/png": "[encoded data removed]",
      "text/plain": [
       "<matplotlib.figure.Figure at 0x1137097b8>"
      ]
     },
     "metadata": {},
     "output_type": "display_data"
    }
   ],
   "source": [
    "# Movies per year\n",
    "data.hist(column='title_year')"
   ]
  },
  {
   "cell_type": "code",
   "execution_count": 126,
   "metadata": {},
   "outputs": [
    {
     "data": {
      "text/plain": [
       "<matplotlib.axes._subplots.AxesSubplot at 0x1132c5e48>"
      ]
     },
     "execution_count": 126,
     "metadata": {},
     "output_type": "execute_result"
    },
    {
     "data": {
      "image/png": "[encoded data removed]",
      "text/plain": [
       "<matplotlib.figure.Figure at 0x110afe7b8>"
      ]
     },
     "metadata": {},
     "output_type": "display_data"
    }
   ],
   "source": [
    "# title year vs gross\n",
    "data.plot.scatter(x='title_year', y='gross')"
   ]
  },
  {
   "cell_type": "code",
   "execution_count": 127,
   "metadata": {},
   "outputs": [
    {
     "data": {
      "text/plain": [
       "<matplotlib.axes._subplots.AxesSubplot at 0x11314bcc0>"
      ]
     },
     "execution_count": 127,
     "metadata": {},
     "output_type": "execute_result"
    },
    {
     "data": {
      "image/png": "[encoded data removed]",
      "text/plain": [
       "<matplotlib.figure.Figure at 0x113d7b978>"
      ]
     },
     "metadata": {},
     "output_type": "display_data"
    }
   ],
   "source": [
    "# budget vs gross\n",
    "data.plot.scatter(x='budget', y='gross')"
   ]
  },
  {
   "cell_type": "code",
   "execution_count": 128,
   "metadata": {},
   "outputs": [
    {
     "data": {
      "text/html": [
       "<div>\n",
       "<style>\n",
       "    .dataframe thead tr:only-child th {\n",
       "        text-align: right;\n",
       "    }\n",
       "\n",
       "    .dataframe thead th {\n",
       "        text-align: left;\n",
       "    }\n",
       "\n",
       "    .dataframe tbody tr th {\n",
       "        vertical-align: top;\n",
       "    }\n",
       "</style>\n",
       "<table border=\"1\" class=\"dataframe\">\n",
       "  <thead>\n",
       "    <tr style=\"text-align: right;\">\n",
       "      <th></th>\n",
       "      <th>num_critic_for_reviews</th>\n",
       "      <th>duration</th>\n",
       "      <th>director_facebook_likes</th>\n",
       "      <th>actor_3_facebook_likes</th>\n",
       "      <th>actor_1_facebook_likes</th>\n",
       "      <th>gross</th>\n",
       "      <th>num_voted_users</th>\n",
       "      <th>cast_total_facebook_likes</th>\n",
       "      <th>facenumber_in_poster</th>\n",
       "      <th>num_user_for_reviews</th>\n",
       "      <th>budget</th>\n",
       "      <th>title_year</th>\n",
       "      <th>actor_2_facebook_likes</th>\n",
       "      <th>imdb_score</th>\n",
       "      <th>aspect_ratio</th>\n",
       "      <th>movie_facebook_likes</th>\n",
       "    </tr>\n",
       "  </thead>\n",
       "  <tbody>\n",
       "    <tr>\n",
       "      <th>num_critic_for_reviews</th>\n",
       "      <td>1.000000</td>\n",
       "      <td>0.276410</td>\n",
       "      <td>0.194054</td>\n",
       "      <td>0.277109</td>\n",
       "      <td>0.177424</td>\n",
       "      <td>0.490599</td>\n",
       "      <td>0.605560</td>\n",
       "      <td>0.254447</td>\n",
       "      <td>-0.028637</td>\n",
       "      <td>0.584183</td>\n",
       "      <td>0.490987</td>\n",
       "      <td>0.392820</td>\n",
       "      <td>0.279051</td>\n",
       "      <td>0.355521</td>\n",
       "      <td>0.239905</td>\n",
       "      <td>0.703175</td>\n",
       "    </tr>\n",
       "    <tr>\n",
       "      <th>duration</th>\n",
       "      <td>0.276410</td>\n",
       "      <td>1.000000</td>\n",
       "      <td>0.212631</td>\n",
       "      <td>0.142682</td>\n",
       "      <td>0.096774</td>\n",
       "      <td>0.287811</td>\n",
       "      <td>0.374870</td>\n",
       "      <td>0.138688</td>\n",
       "      <td>0.006417</td>\n",
       "      <td>0.373240</td>\n",
       "      <td>0.302871</td>\n",
       "      <td>-0.110414</td>\n",
       "      <td>0.151916</td>\n",
       "      <td>0.375195</td>\n",
       "      <td>0.179422</td>\n",
       "      <td>0.254575</td>\n",
       "    </tr>\n",
       "    <tr>\n",
       "      <th>director_facebook_likes</th>\n",
       "      <td>0.194054</td>\n",
       "      <td>0.212631</td>\n",
       "      <td>1.000000</td>\n",
       "      <td>0.125168</td>\n",
       "      <td>0.088397</td>\n",
       "      <td>0.139295</td>\n",
       "      <td>0.321770</td>\n",
       "      <td>0.119029</td>\n",
       "      <td>-0.050684</td>\n",
       "      <td>0.245595</td>\n",
       "      <td>0.095895</td>\n",
       "      <td>-0.063333</td>\n",
       "      <td>0.120035</td>\n",
       "      <td>0.222328</td>\n",
       "      <td>0.062444</td>\n",
       "      <td>0.176630</td>\n",
       "    </tr>\n",
       "    <tr>\n",
       "      <th>actor_3_facebook_likes</th>\n",
       "      <td>0.277109</td>\n",
       "      <td>0.142682</td>\n",
       "      <td>0.125168</td>\n",
       "      <td>1.000000</td>\n",
       "      <td>0.245738</td>\n",
       "      <td>0.278116</td>\n",
       "      <td>0.274568</td>\n",
       "      <td>0.472264</td>\n",
       "      <td>0.104918</td>\n",
       "      <td>0.218029</td>\n",
       "      <td>0.265414</td>\n",
       "      <td>0.117133</td>\n",
       "      <td>0.540728</td>\n",
       "      <td>0.086806</td>\n",
       "      <td>0.069219</td>\n",
       "      <td>0.296768</td>\n",
       "    </tr>\n",
       "    <tr>\n",
       "      <th>actor_1_facebook_likes</th>\n",
       "      <td>0.177424</td>\n",
       "      <td>0.096774</td>\n",
       "      <td>0.088397</td>\n",
       "      <td>0.245738</td>\n",
       "      <td>1.000000</td>\n",
       "      <td>0.132503</td>\n",
       "      <td>0.177834</td>\n",
       "      <td>0.948474</td>\n",
       "      <td>0.060155</td>\n",
       "      <td>0.128698</td>\n",
       "      <td>0.152637</td>\n",
       "      <td>0.085072</td>\n",
       "      <td>0.376346</td>\n",
       "      <td>0.115996</td>\n",
       "      <td>0.067928</td>\n",
       "      <td>0.125529</td>\n",
       "    </tr>\n",
       "    <tr>\n",
       "      <th>gross</th>\n",
       "      <td>0.490599</td>\n",
       "      <td>0.287811</td>\n",
       "      <td>0.139295</td>\n",
       "      <td>0.278116</td>\n",
       "      <td>0.132503</td>\n",
       "      <td>1.000000</td>\n",
       "      <td>0.641340</td>\n",
       "      <td>0.215555</td>\n",
       "      <td>-0.033651</td>\n",
       "      <td>0.556798</td>\n",
       "      <td>0.643383</td>\n",
       "      <td>0.029693</td>\n",
       "      <td>0.235691</td>\n",
       "      <td>0.263086</td>\n",
       "      <td>0.130203</td>\n",
       "      <td>0.377839</td>\n",
       "    </tr>\n",
       "    <tr>\n",
       "      <th>num_voted_users</th>\n",
       "      <td>0.605560</td>\n",
       "      <td>0.374870</td>\n",
       "      <td>0.321770</td>\n",
       "      <td>0.274568</td>\n",
       "      <td>0.177834</td>\n",
       "      <td>0.641340</td>\n",
       "      <td>1.000000</td>\n",
       "      <td>0.248020</td>\n",
       "      <td>-0.039742</td>\n",
       "      <td>0.788317</td>\n",
       "      <td>0.415249</td>\n",
       "      <td>0.015390</td>\n",
       "      <td>0.249913</td>\n",
       "      <td>0.496036</td>\n",
       "      <td>0.136354</td>\n",
       "      <td>0.528969</td>\n",
       "    </tr>\n",
       "    <tr>\n",
       "      <th>cast_total_facebook_likes</th>\n",
       "      <td>0.254447</td>\n",
       "      <td>0.138688</td>\n",
       "      <td>0.119029</td>\n",
       "      <td>0.472264</td>\n",
       "      <td>0.948474</td>\n",
       "      <td>0.215555</td>\n",
       "      <td>0.248020</td>\n",
       "      <td>1.000000</td>\n",
       "      <td>0.081265</td>\n",
       "      <td>0.188605</td>\n",
       "      <td>0.229556</td>\n",
       "      <td>0.116657</td>\n",
       "      <td>0.624125</td>\n",
       "      <td>0.134126</td>\n",
       "      <td>0.088090</td>\n",
       "      <td>0.205439</td>\n",
       "    </tr>\n",
       "    <tr>\n",
       "      <th>facenumber_in_poster</th>\n",
       "      <td>-0.028637</td>\n",
       "      <td>0.006417</td>\n",
       "      <td>-0.050684</td>\n",
       "      <td>0.104918</td>\n",
       "      <td>0.060155</td>\n",
       "      <td>-0.033651</td>\n",
       "      <td>-0.039742</td>\n",
       "      <td>0.081265</td>\n",
       "      <td>1.000000</td>\n",
       "      <td>-0.083901</td>\n",
       "      <td>-0.028431</td>\n",
       "      <td>0.080274</td>\n",
       "      <td>0.066698</td>\n",
       "      <td>-0.077956</td>\n",
       "      <td>0.008159</td>\n",
       "      <td>0.006265</td>\n",
       "    </tr>\n",
       "    <tr>\n",
       "      <th>num_user_for_reviews</th>\n",
       "      <td>0.584183</td>\n",
       "      <td>0.373240</td>\n",
       "      <td>0.245595</td>\n",
       "      <td>0.218029</td>\n",
       "      <td>0.128698</td>\n",
       "      <td>0.556798</td>\n",
       "      <td>0.788317</td>\n",
       "      <td>0.188605</td>\n",
       "      <td>-0.083901</td>\n",
       "      <td>1.000000</td>\n",
       "      <td>0.417202</td>\n",
       "      <td>0.016439</td>\n",
       "      <td>0.203815</td>\n",
       "      <td>0.342346</td>\n",
       "      <td>0.146783</td>\n",
       "      <td>0.404040</td>\n",
       "    </tr>\n",
       "    <tr>\n",
       "      <th>budget</th>\n",
       "      <td>0.490987</td>\n",
       "      <td>0.302871</td>\n",
       "      <td>0.095895</td>\n",
       "      <td>0.265414</td>\n",
       "      <td>0.152637</td>\n",
       "      <td>0.643383</td>\n",
       "      <td>0.415249</td>\n",
       "      <td>0.229556</td>\n",
       "      <td>-0.028431</td>\n",
       "      <td>0.417202</td>\n",
       "      <td>1.000000</td>\n",
       "      <td>0.220185</td>\n",
       "      <td>0.244876</td>\n",
       "      <td>0.074120</td>\n",
       "      <td>0.202639</td>\n",
       "      <td>0.331831</td>\n",
       "    </tr>\n",
       "    <tr>\n",
       "      <th>title_year</th>\n",
       "      <td>0.392820</td>\n",
       "      <td>-0.110414</td>\n",
       "      <td>-0.063333</td>\n",
       "      <td>0.117133</td>\n",
       "      <td>0.085072</td>\n",
       "      <td>0.029693</td>\n",
       "      <td>0.015390</td>\n",
       "      <td>0.116657</td>\n",
       "      <td>0.080274</td>\n",
       "      <td>0.016439</td>\n",
       "      <td>0.220185</td>\n",
       "      <td>1.000000</td>\n",
       "      <td>0.117196</td>\n",
       "      <td>-0.138238</td>\n",
       "      <td>0.123206</td>\n",
       "      <td>0.282200</td>\n",
       "    </tr>\n",
       "    <tr>\n",
       "      <th>actor_2_facebook_likes</th>\n",
       "      <td>0.279051</td>\n",
       "      <td>0.151916</td>\n",
       "      <td>0.120035</td>\n",
       "      <td>0.540728</td>\n",
       "      <td>0.376346</td>\n",
       "      <td>0.235691</td>\n",
       "      <td>0.249913</td>\n",
       "      <td>0.624125</td>\n",
       "      <td>0.066698</td>\n",
       "      <td>0.203815</td>\n",
       "      <td>0.244876</td>\n",
       "      <td>0.117196</td>\n",
       "      <td>1.000000</td>\n",
       "      <td>0.123705</td>\n",
       "      <td>0.087971</td>\n",
       "      <td>0.240803</td>\n",
       "    </tr>\n",
       "    <tr>\n",
       "      <th>imdb_score</th>\n",
       "      <td>0.355521</td>\n",
       "      <td>0.375195</td>\n",
       "      <td>0.222328</td>\n",
       "      <td>0.086806</td>\n",
       "      <td>0.115996</td>\n",
       "      <td>0.263086</td>\n",
       "      <td>0.496036</td>\n",
       "      <td>0.134126</td>\n",
       "      <td>-0.077956</td>\n",
       "      <td>0.342346</td>\n",
       "      <td>0.074120</td>\n",
       "      <td>-0.138238</td>\n",
       "      <td>0.123705</td>\n",
       "      <td>1.000000</td>\n",
       "      <td>0.042259</td>\n",
       "      <td>0.291434</td>\n",
       "    </tr>\n",
       "    <tr>\n",
       "      <th>aspect_ratio</th>\n",
       "      <td>0.239905</td>\n",
       "      <td>0.179422</td>\n",
       "      <td>0.062444</td>\n",
       "      <td>0.069219</td>\n",
       "      <td>0.067928</td>\n",
       "      <td>0.130203</td>\n",
       "      <td>0.136354</td>\n",
       "      <td>0.088090</td>\n",
       "      <td>0.008159</td>\n",
       "      <td>0.146783</td>\n",
       "      <td>0.202639</td>\n",
       "      <td>0.123206</td>\n",
       "      <td>0.087971</td>\n",
       "      <td>0.042259</td>\n",
       "      <td>1.000000</td>\n",
       "      <td>0.121656</td>\n",
       "    </tr>\n",
       "    <tr>\n",
       "      <th>movie_facebook_likes</th>\n",
       "      <td>0.703175</td>\n",
       "      <td>0.254575</td>\n",
       "      <td>0.176630</td>\n",
       "      <td>0.296768</td>\n",
       "      <td>0.125529</td>\n",
       "      <td>0.377839</td>\n",
       "      <td>0.528969</td>\n",
       "      <td>0.205439</td>\n",
       "      <td>0.006265</td>\n",
       "      <td>0.404040</td>\n",
       "      <td>0.331831</td>\n",
       "      <td>0.282200</td>\n",
       "      <td>0.240803</td>\n",
       "      <td>0.291434</td>\n",
       "      <td>0.121656</td>\n",
       "      <td>1.000000</td>\n",
       "    </tr>\n",
       "  </tbody>\n",
       "</table>\n",
       "</div>"
      ],
      "text/plain": [
       "                           num_critic_for_reviews  duration  \\\n",
       "num_critic_for_reviews                   1.000000  0.276410   \n",
       "duration                                 0.276410  1.000000   \n",
       "director_facebook_likes                  0.194054  0.212631   \n",
       "actor_3_facebook_likes                   0.277109  0.142682   \n",
       "actor_1_facebook_likes                   0.177424  0.096774   \n",
       "gross                                    0.490599  0.287811   \n",
       "num_voted_users                          0.605560  0.374870   \n",
       "cast_total_facebook_likes                0.254447  0.138688   \n",
       "facenumber_in_poster                    -0.028637  0.006417   \n",
       "num_user_for_reviews                     0.584183  0.373240   \n",
       "budget                                   0.490987  0.302871   \n",
       "title_year                               0.392820 -0.110414   \n",
       "actor_2_facebook_likes                   0.279051  0.151916   \n",
       "imdb_score                               0.355521  0.375195   \n",
       "aspect_ratio                             0.239905  0.179422   \n",
       "movie_facebook_likes                     0.703175  0.254575   \n",
       "\n",
       "                           director_facebook_likes  actor_3_facebook_likes  \\\n",
       "num_critic_for_reviews                    0.194054                0.277109   \n",
       "duration                                  0.212631                0.142682   \n",
       "director_facebook_likes                   1.000000                0.125168   \n",
       "actor_3_facebook_likes                    0.125168                1.000000   \n",
       "actor_1_facebook_likes                    0.088397                0.245738   \n",
       "gross                                     0.139295                0.278116   \n",
       "num_voted_users                           0.321770                0.274568   \n",
       "cast_total_facebook_likes                 0.119029                0.472264   \n",
       "facenumber_in_poster                     -0.050684                0.104918   \n",
       "num_user_for_reviews                      0.245595                0.218029   \n",
       "budget                                    0.095895                0.265414   \n",
       "title_year                               -0.063333                0.117133   \n",
       "actor_2_facebook_likes                    0.120035                0.540728   \n",
       "imdb_score                                0.222328                0.086806   \n",
       "aspect_ratio                              0.062444                0.069219   \n",
       "movie_facebook_likes                      0.176630                0.296768   \n",
       "\n",
       "                           actor_1_facebook_likes     gross  num_voted_users  \\\n",
       "num_critic_for_reviews                   0.177424  0.490599         0.605560   \n",
       "duration                                 0.096774  0.287811         0.374870   \n",
       "director_facebook_likes                  0.088397  0.139295         0.321770   \n",
       "actor_3_facebook_likes                   0.245738  0.278116         0.274568   \n",
       "actor_1_facebook_likes                   1.000000  0.132503         0.177834   \n",
       "gross                                    0.132503  1.000000         0.641340   \n",
       "num_voted_users                          0.177834  0.641340         1.000000   \n",
       "cast_total_facebook_likes                0.948474  0.215555         0.248020   \n",
       "facenumber_in_poster                     0.060155 -0.033651        -0.039742   \n",
       "num_user_for_reviews                     0.128698  0.556798         0.788317   \n",
       "budget                                   0.152637  0.643383         0.415249   \n",
       "title_year                               0.085072  0.029693         0.015390   \n",
       "actor_2_facebook_likes                   0.376346  0.235691         0.249913   \n",
       "imdb_score                               0.115996  0.263086         0.496036   \n",
       "aspect_ratio                             0.067928  0.130203         0.136354   \n",
       "movie_facebook_likes                     0.125529  0.377839         0.528969   \n",
       "\n",
       "                           cast_total_facebook_likes  facenumber_in_poster  \\\n",
       "num_critic_for_reviews                      0.254447             -0.028637   \n",
       "duration                                    0.138688              0.006417   \n",
       "director_facebook_likes                     0.119029             -0.050684   \n",
       "actor_3_facebook_likes                      0.472264              0.104918   \n",
       "actor_1_facebook_likes                      0.948474              0.060155   \n",
       "gross                                       0.215555             -0.033651   \n",
       "num_voted_users                             0.248020             -0.039742   \n",
       "cast_total_facebook_likes                   1.000000              0.081265   \n",
       "facenumber_in_poster                        0.081265              1.000000   \n",
       "num_user_for_reviews                        0.188605             -0.083901   \n",
       "budget                                      0.229556             -0.028431   \n",
       "title_year                                  0.116657              0.080274   \n",
       "actor_2_facebook_likes                      0.624125              0.066698   \n",
       "imdb_score                                  0.134126             -0.077956   \n",
       "aspect_ratio                                0.088090              0.008159   \n",
       "movie_facebook_likes                        0.205439              0.006265   \n",
       "\n",
       "                           num_user_for_reviews    budget  title_year  \\\n",
       "num_critic_for_reviews                 0.584183  0.490987    0.392820   \n",
       "duration                               0.373240  0.302871   -0.110414   \n",
       "director_facebook_likes                0.245595  0.095895   -0.063333   \n",
       "actor_3_facebook_likes                 0.218029  0.265414    0.117133   \n",
       "actor_1_facebook_likes                 0.128698  0.152637    0.085072   \n",
       "gross                                  0.556798  0.643383    0.029693   \n",
       "num_voted_users                        0.788317  0.415249    0.015390   \n",
       "cast_total_facebook_likes              0.188605  0.229556    0.116657   \n",
       "facenumber_in_poster                  -0.083901 -0.028431    0.080274   \n",
       "num_user_for_reviews                   1.000000  0.417202    0.016439   \n",
       "budget                                 0.417202  1.000000    0.220185   \n",
       "title_year                             0.016439  0.220185    1.000000   \n",
       "actor_2_facebook_likes                 0.203815  0.244876    0.117196   \n",
       "imdb_score                             0.342346  0.074120   -0.138238   \n",
       "aspect_ratio                           0.146783  0.202639    0.123206   \n",
       "movie_facebook_likes                   0.404040  0.331831    0.282200   \n",
       "\n",
       "                           actor_2_facebook_likes  imdb_score  aspect_ratio  \\\n",
       "num_critic_for_reviews                   0.279051    0.355521      0.239905   \n",
       "duration                                 0.151916    0.375195      0.179422   \n",
       "director_facebook_likes                  0.120035    0.222328      0.062444   \n",
       "actor_3_facebook_likes                   0.540728    0.086806      0.069219   \n",
       "actor_1_facebook_likes                   0.376346    0.115996      0.067928   \n",
       "gross                                    0.235691    0.263086      0.130203   \n",
       "num_voted_users                          0.249913    0.496036      0.136354   \n",
       "cast_total_facebook_likes                0.624125    0.134126      0.088090   \n",
       "facenumber_in_poster                     0.066698   -0.077956      0.008159   \n",
       "num_user_for_reviews                     0.203815    0.342346      0.146783   \n",
       "budget                                   0.244876    0.074120      0.202639   \n",
       "title_year                               0.117196   -0.138238      0.123206   \n",
       "actor_2_facebook_likes                   1.000000    0.123705      0.087971   \n",
       "imdb_score                               0.123705    1.000000      0.042259   \n",
       "aspect_ratio                             0.087971    0.042259      1.000000   \n",
       "movie_facebook_likes                     0.240803    0.291434      0.121656   \n",
       "\n",
       "                           movie_facebook_likes  \n",
       "num_critic_for_reviews                 0.703175  \n",
       "duration                               0.254575  \n",
       "director_facebook_likes                0.176630  \n",
       "actor_3_facebook_likes                 0.296768  \n",
       "actor_1_facebook_likes                 0.125529  \n",
       "gross                                  0.377839  \n",
       "num_voted_users                        0.528969  \n",
       "cast_total_facebook_likes              0.205439  \n",
       "facenumber_in_poster                   0.006265  \n",
       "num_user_for_reviews                   0.404040  \n",
       "budget                                 0.331831  \n",
       "title_year                             0.282200  \n",
       "actor_2_facebook_likes                 0.240803  \n",
       "imdb_score                             0.291434  \n",
       "aspect_ratio                           0.121656  \n",
       "movie_facebook_likes                   1.000000  "
      ]
     },
     "execution_count": 128,
     "metadata": {},
     "output_type": "execute_result"
    }
   ],
   "source": [
    "data.corr()"
   ]
  },
  {
   "cell_type": "code",
   "execution_count": 129,
   "metadata": {},
   "outputs": [
    {
     "data": {
      "text/plain": [
       "<matplotlib.axes._subplots.AxesSubplot at 0x110b03978>"
      ]
     },
     "execution_count": 129,
     "metadata": {},
     "output_type": "execute_result"
    },
    {
     "data": {
      "image/png": "[encoded data removed]",
      "text/plain": [
       "<matplotlib.figure.Figure at 0x112eabc18>"
      ]
     },
     "metadata": {},
     "output_type": "display_data"
    }
   ],
   "source": [
    "# Set up the matplotlib figure\n",
    "f, ax = plt.subplots(figsize=(12, 10))\n",
    "plt.title('Pearson Correlation of Movie Features')\n",
    "\n",
    "# Draw the heatmap using seaborn\n",
    "sns.heatmap(data.corr(),linewidths=0.25,vmax=1.0, square=True, cmap=\"YlGnBu\", linecolor='black', annot=True)"
   ]
  },
  {
   "cell_type": "markdown",
   "metadata": {},
   "source": [
    "As we can see from the heatmap, there are regions (features) where we can see quite positive linear correlations amongst each other, given the darker shade of the colours - top left-hand corner and bottom right quarter. This is a good sign as it means we may be able to find linearly correlated features for which we can perform PCA projections on."
   ]
  },
  {
   "cell_type": "code",
   "execution_count": 130,
   "metadata": {
    "scrolled": true
   },
   "outputs": [
    {
     "data": {
      "text/plain": [
       "gross                        1.000000\n",
       "budget                       0.643383\n",
       "num_voted_users              0.641340\n",
       "num_user_for_reviews         0.556798\n",
       "num_critic_for_reviews       0.490599\n",
       "movie_facebook_likes         0.377839\n",
       "duration                     0.287811\n",
       "actor_3_facebook_likes       0.278116\n",
       "imdb_score                   0.263086\n",
       "actor_2_facebook_likes       0.235691\n",
       "cast_total_facebook_likes    0.215555\n",
       "director_facebook_likes      0.139295\n",
       "actor_1_facebook_likes       0.132503\n",
       "aspect_ratio                 0.130203\n",
       "title_year                   0.029693\n",
       "facenumber_in_poster        -0.033651\n",
       "Name: gross, dtype: float64"
      ]
     },
     "execution_count": 130,
     "metadata": {},
     "output_type": "execute_result"
    }
   ],
   "source": [
    "data.corr()['gross'].sort_values(ascending=False)"
   ]
  },
  {
   "cell_type": "markdown",
   "metadata": {},
   "source": [
    "The gross box office correlates strongly with num_voted_users, num_users_for_reviews and movie_facebook_likes. But some of those features are also highly correlated among each other (as you can see in the heatmap above)."
   ]
  },
  {
   "cell_type": "markdown",
   "metadata": {},
   "source": [
    "## Gross Box Office Prediction"
   ]
  },
  {
   "cell_type": "markdown",
   "metadata": {},
   "source": [
    "### Getting numerical data"
   ]
  },
  {
   "cell_type": "code",
   "execution_count": 131,
   "metadata": {},
   "outputs": [
    {
     "data": {
      "text/html": [
       "<div>\n",
       "<style>\n",
       "    .dataframe thead tr:only-child th {\n",
       "        text-align: right;\n",
       "    }\n",
       "\n",
       "    .dataframe thead th {\n",
       "        text-align: left;\n",
       "    }\n",
       "\n",
       "    .dataframe tbody tr th {\n",
       "        vertical-align: top;\n",
       "    }\n",
       "</style>\n",
       "<table border=\"1\" class=\"dataframe\">\n",
       "  <thead>\n",
       "    <tr style=\"text-align: right;\">\n",
       "      <th></th>\n",
       "      <th>num_critic_for_reviews</th>\n",
       "      <th>duration</th>\n",
       "      <th>director_facebook_likes</th>\n",
       "      <th>actor_3_facebook_likes</th>\n",
       "      <th>actor_1_facebook_likes</th>\n",
       "      <th>gross</th>\n",
       "      <th>num_voted_users</th>\n",
       "      <th>cast_total_facebook_likes</th>\n",
       "      <th>facenumber_in_poster</th>\n",
       "      <th>num_user_for_reviews</th>\n",
       "      <th>budget</th>\n",
       "      <th>title_year</th>\n",
       "      <th>actor_2_facebook_likes</th>\n",
       "      <th>imdb_score</th>\n",
       "      <th>movie_facebook_likes</th>\n",
       "    </tr>\n",
       "  </thead>\n",
       "  <tbody>\n",
       "    <tr>\n",
       "      <th>0</th>\n",
       "      <td>723.0</td>\n",
       "      <td>178.0</td>\n",
       "      <td>0.0</td>\n",
       "      <td>855.0</td>\n",
       "      <td>1000.0</td>\n",
       "      <td>760505847.0</td>\n",
       "      <td>886204</td>\n",
       "      <td>4834</td>\n",
       "      <td>0.0</td>\n",
       "      <td>3054.0</td>\n",
       "      <td>237000000.0</td>\n",
       "      <td>2009.0</td>\n",
       "      <td>936.0</td>\n",
       "      <td>7.9</td>\n",
       "      <td>33000</td>\n",
       "    </tr>\n",
       "    <tr>\n",
       "      <th>1</th>\n",
       "      <td>302.0</td>\n",
       "      <td>169.0</td>\n",
       "      <td>563.0</td>\n",
       "      <td>1000.0</td>\n",
       "      <td>40000.0</td>\n",
       "      <td>309404152.0</td>\n",
       "      <td>471220</td>\n",
       "      <td>48350</td>\n",
       "      <td>0.0</td>\n",
       "      <td>1238.0</td>\n",
       "      <td>300000000.0</td>\n",
       "      <td>2007.0</td>\n",
       "      <td>5000.0</td>\n",
       "      <td>7.1</td>\n",
       "      <td>0</td>\n",
       "    </tr>\n",
       "  </tbody>\n",
       "</table>\n",
       "</div>"
      ],
      "text/plain": [
       "   num_critic_for_reviews  duration  director_facebook_likes  \\\n",
       "0                   723.0     178.0                      0.0   \n",
       "1                   302.0     169.0                    563.0   \n",
       "\n",
       "   actor_3_facebook_likes  actor_1_facebook_likes        gross  \\\n",
       "0                   855.0                  1000.0  760505847.0   \n",
       "1                  1000.0                 40000.0  309404152.0   \n",
       "\n",
       "   num_voted_users  cast_total_facebook_likes  facenumber_in_poster  \\\n",
       "0           886204                       4834                   0.0   \n",
       "1           471220                      48350                   0.0   \n",
       "\n",
       "   num_user_for_reviews       budget  title_year  actor_2_facebook_likes  \\\n",
       "0                3054.0  237000000.0      2009.0                   936.0   \n",
       "1                1238.0  300000000.0      2007.0                  5000.0   \n",
       "\n",
       "   imdb_score  movie_facebook_likes  \n",
       "0         7.9                 33000  \n",
       "1         7.1                     0  "
      ]
     },
     "execution_count": 131,
     "metadata": {},
     "output_type": "execute_result"
    }
   ],
   "source": [
    "numerical_columns = data.dtypes[data.dtypes != 'object'].index\n",
    "data = data[numerical_columns]\n",
    "\n",
    "# we drop aspect_ratio, as it doesn't provide any useful info\n",
    "data.drop('aspect_ratio', axis=1, inplace=True)\n",
    "data.head(2)"
   ]
  },
  {
   "cell_type": "markdown",
   "metadata": {},
   "source": [
    "### Preparing train and test datasets"
   ]
  },
  {
   "cell_type": "code",
   "execution_count": 132,
   "metadata": {},
   "outputs": [],
   "source": [
    "train, test = train_test_split(data, test_size=0.2)\n",
    "target_train = train.pop('gross')\n",
    "target_test = test.pop('gross')"
   ]
  },
  {
   "cell_type": "code",
   "execution_count": 133,
   "metadata": {},
   "outputs": [
    {
     "name": "stdout",
     "output_type": "stream",
     "text": [
      "Train data: 2523 / 3154 = 0.7999365884590995\n",
      "Test data: 631 / 3154 = 0.20006341154090043\n"
     ]
    }
   ],
   "source": [
    "print('Train data: {} / {} = {}'.format(len(train), len(data), float(len(train)/len(data))))\n",
    "print('Test data: {} / {} = {}'.format(len(test), len(data), float(len(test)/len(data))))"
   ]
  },
  {
   "cell_type": "markdown",
   "metadata": {},
   "source": [
    "### Linear Regression"
   ]
  },
  {
   "cell_type": "code",
   "execution_count": 134,
   "metadata": {
    "scrolled": true
   },
   "outputs": [
    {
     "data": {
      "text/plain": [
       "LinearRegression(copy_X=True, fit_intercept=True, n_jobs=1, normalize=False)"
      ]
     },
     "execution_count": 134,
     "metadata": {},
     "output_type": "execute_result"
    }
   ],
   "source": [
    "model = LinearRegression()\n",
    "model.fit(train, target_train)"
   ]
  },
  {
   "cell_type": "code",
   "execution_count": 135,
   "metadata": {},
   "outputs": [],
   "source": [
    "prediction = model.predict(test)"
   ]
  },
  {
   "cell_type": "code",
   "execution_count": 136,
   "metadata": {},
   "outputs": [
    {
     "name": "stdout",
     "output_type": "stream",
     "text": [
      "Mean squared error: 1768372535623432.50\n",
      "Variance score: 0.62\n"
     ]
    },
    {
     "data": {
      "image/png": "[encoded data removed]",
      "text/plain": [
       "<matplotlib.figure.Figure at 0x113733dd8>"
      ]
     },
     "metadata": {},
     "output_type": "display_data"
    }
   ],
   "source": [
    "# The mean squared error\n",
    "print(\"Mean squared error: %.2f\" % mean_squared_error(target_test, prediction))\n",
    "\n",
    "# Explained variance score: 1 is perfect prediction\n",
    "print('Variance score: %.2f' % r2_score(target_test, prediction))\n",
    "\n",
    "# Plot outputs\n",
    "plt.scatter(target_test, prediction,  color='black')\n",
    "# plt.plot(test, prediction, color='blue', linewidth=3)\n",
    "\n",
    "\n",
    "plt.show()"
   ]
  },
  {
   "cell_type": "markdown",
   "metadata": {},
   "source": [
    "### Random Forest"
   ]
  },
  {
   "cell_type": "code",
   "execution_count": 137,
   "metadata": {},
   "outputs": [
    {
     "data": {
      "text/plain": [
       "RandomForestRegressor(bootstrap=True, criterion='mse', max_depth=25,\n",
       "           max_features='auto', max_leaf_nodes=None,\n",
       "           min_impurity_decrease=0.0, min_impurity_split=None,\n",
       "           min_samples_leaf=1, min_samples_split=15,\n",
       "           min_weight_fraction_leaf=0.0, n_estimators=1000, n_jobs=1,\n",
       "           oob_score=False, random_state=1, verbose=0, warm_start=False)"
      ]
     },
     "execution_count": 137,
     "metadata": {},
     "output_type": "execute_result"
    }
   ],
   "source": [
    "forest = RandomForestRegressor(\n",
    "    max_depth=25,\n",
    "    min_samples_split=15,\n",
    "    n_estimators=1000,\n",
    "    random_state=1)\n",
    "\n",
    "forest.fit(train, target_train)"
   ]
  },
  {
   "cell_type": "code",
   "execution_count": 138,
   "metadata": {},
   "outputs": [
    {
     "data": {
      "text/plain": [
       "array([ 0.02713062,  0.0337546 ,  0.01355234,  0.01309111,  0.01051859,\n",
       "        0.55276625,  0.01283872,  0.00440598,  0.03774392,  0.2087178 ,\n",
       "        0.03870702,  0.01029144,  0.02312934,  0.01335225])"
      ]
     },
     "execution_count": 138,
     "metadata": {},
     "output_type": "execute_result"
    }
   ],
   "source": [
    "forest.feature_importances_"
   ]
  },
  {
   "cell_type": "code",
   "execution_count": 139,
   "metadata": {},
   "outputs": [],
   "source": [
    "forest_prediction = forest.predict(test)"
   ]
  },
  {
   "cell_type": "code",
   "execution_count": 140,
   "metadata": {},
   "outputs": [
    {
     "name": "stdout",
     "output_type": "stream",
     "text": [
      "Mean squared error: 1534463194924046.00\n",
      "Variance score: 0.67\n"
     ]
    },
    {
     "data": {
      "image/png": "[encoded data removed]",
      "text/plain": [
       "<matplotlib.figure.Figure at 0x1132c59e8>"
      ]
     },
     "metadata": {},
     "output_type": "display_data"
    }
   ],
   "source": [
    "# The mean squared error\n",
    "print(\"Mean squared error: %.2f\" % mean_squared_error(target_test, forest_prediction))\n",
    "\n",
    "# Explained variance score: 1 is perfect prediction\n",
    "print('Variance score: %.2f' % r2_score(target_test, forest_prediction))\n",
    "\n",
    "# Plot outputs\n",
    "plt.scatter(target_test, forest_prediction,  color='black')\n",
    "# plt.plot(test, prediction, color='blue', linewidth=3)\n",
    "\n",
    "\n",
    "plt.show()"
   ]
  },
  {
   "cell_type": "markdown",
   "metadata": {},
   "source": [
    "## Dropping post-fact data"
   ]
  },
  {
   "cell_type": "markdown",
   "metadata": {},
   "source": [
    "There are post-fact variables in our data set making the prediction more accurate. Things like `num_voted_users` and `num_user_for_reviews` are after the fact metrics, so probably not as useful for prediction."
   ]
  },
  {
   "cell_type": "code",
   "execution_count": 141,
   "metadata": {},
   "outputs": [
    {
     "data": {
      "text/html": [
       "<div>\n",
       "<style>\n",
       "    .dataframe thead tr:only-child th {\n",
       "        text-align: right;\n",
       "    }\n",
       "\n",
       "    .dataframe thead th {\n",
       "        text-align: left;\n",
       "    }\n",
       "\n",
       "    .dataframe tbody tr th {\n",
       "        vertical-align: top;\n",
       "    }\n",
       "</style>\n",
       "<table border=\"1\" class=\"dataframe\">\n",
       "  <thead>\n",
       "    <tr style=\"text-align: right;\">\n",
       "      <th></th>\n",
       "      <th>num_critic_for_reviews</th>\n",
       "      <th>duration</th>\n",
       "      <th>director_facebook_likes</th>\n",
       "      <th>actor_3_facebook_likes</th>\n",
       "      <th>actor_1_facebook_likes</th>\n",
       "      <th>num_voted_users</th>\n",
       "      <th>cast_total_facebook_likes</th>\n",
       "      <th>facenumber_in_poster</th>\n",
       "      <th>num_user_for_reviews</th>\n",
       "      <th>budget</th>\n",
       "      <th>title_year</th>\n",
       "      <th>actor_2_facebook_likes</th>\n",
       "      <th>imdb_score</th>\n",
       "      <th>movie_facebook_likes</th>\n",
       "    </tr>\n",
       "  </thead>\n",
       "  <tbody>\n",
       "    <tr>\n",
       "      <th>3714</th>\n",
       "      <td>471.0</td>\n",
       "      <td>117.0</td>\n",
       "      <td>212.0</td>\n",
       "      <td>896.0</td>\n",
       "      <td>11000.0</td>\n",
       "      <td>326494</td>\n",
       "      <td>17738</td>\n",
       "      <td>0.0</td>\n",
       "      <td>340.0</td>\n",
       "      <td>5000000.0</td>\n",
       "      <td>2013.0</td>\n",
       "      <td>3000.0</td>\n",
       "      <td>8.0</td>\n",
       "      <td>65000</td>\n",
       "    </tr>\n",
       "    <tr>\n",
       "      <th>1309</th>\n",
       "      <td>75.0</td>\n",
       "      <td>83.0</td>\n",
       "      <td>7.0</td>\n",
       "      <td>485.0</td>\n",
       "      <td>2000.0</td>\n",
       "      <td>24216</td>\n",
       "      <td>4024</td>\n",
       "      <td>0.0</td>\n",
       "      <td>162.0</td>\n",
       "      <td>24000000.0</td>\n",
       "      <td>1999.0</td>\n",
       "      <td>577.0</td>\n",
       "      <td>4.1</td>\n",
       "      <td>401</td>\n",
       "    </tr>\n",
       "  </tbody>\n",
       "</table>\n",
       "</div>"
      ],
      "text/plain": [
       "      num_critic_for_reviews  duration  director_facebook_likes  \\\n",
       "3714                   471.0     117.0                    212.0   \n",
       "1309                    75.0      83.0                      7.0   \n",
       "\n",
       "      actor_3_facebook_likes  actor_1_facebook_likes  num_voted_users  \\\n",
       "3714                   896.0                 11000.0           326494   \n",
       "1309                   485.0                  2000.0            24216   \n",
       "\n",
       "      cast_total_facebook_likes  facenumber_in_poster  num_user_for_reviews  \\\n",
       "3714                      17738                   0.0                 340.0   \n",
       "1309                       4024                   0.0                 162.0   \n",
       "\n",
       "          budget  title_year  actor_2_facebook_likes  imdb_score  \\\n",
       "3714   5000000.0      2013.0                  3000.0         8.0   \n",
       "1309  24000000.0      1999.0                   577.0         4.1   \n",
       "\n",
       "      movie_facebook_likes  \n",
       "3714                 65000  \n",
       "1309                   401  "
      ]
     },
     "execution_count": 141,
     "metadata": {},
     "output_type": "execute_result"
    }
   ],
   "source": [
    "train.head(2)"
   ]
  },
  {
   "cell_type": "code",
   "execution_count": 142,
   "metadata": {},
   "outputs": [
    {
     "data": {
      "text/html": [
       "<div>\n",
       "<style>\n",
       "    .dataframe thead tr:only-child th {\n",
       "        text-align: right;\n",
       "    }\n",
       "\n",
       "    .dataframe thead th {\n",
       "        text-align: left;\n",
       "    }\n",
       "\n",
       "    .dataframe tbody tr th {\n",
       "        vertical-align: top;\n",
       "    }\n",
       "</style>\n",
       "<table border=\"1\" class=\"dataframe\">\n",
       "  <thead>\n",
       "    <tr style=\"text-align: right;\">\n",
       "      <th></th>\n",
       "      <th>duration</th>\n",
       "      <th>director_facebook_likes</th>\n",
       "      <th>actor_3_facebook_likes</th>\n",
       "      <th>actor_1_facebook_likes</th>\n",
       "      <th>cast_total_facebook_likes</th>\n",
       "      <th>facenumber_in_poster</th>\n",
       "      <th>budget</th>\n",
       "      <th>title_year</th>\n",
       "      <th>actor_2_facebook_likes</th>\n",
       "    </tr>\n",
       "  </thead>\n",
       "  <tbody>\n",
       "    <tr>\n",
       "      <th>3714</th>\n",
       "      <td>117.0</td>\n",
       "      <td>212.0</td>\n",
       "      <td>896.0</td>\n",
       "      <td>11000.0</td>\n",
       "      <td>17738</td>\n",
       "      <td>0.0</td>\n",
       "      <td>5000000.0</td>\n",
       "      <td>2013.0</td>\n",
       "      <td>3000.0</td>\n",
       "    </tr>\n",
       "    <tr>\n",
       "      <th>1309</th>\n",
       "      <td>83.0</td>\n",
       "      <td>7.0</td>\n",
       "      <td>485.0</td>\n",
       "      <td>2000.0</td>\n",
       "      <td>4024</td>\n",
       "      <td>0.0</td>\n",
       "      <td>24000000.0</td>\n",
       "      <td>1999.0</td>\n",
       "      <td>577.0</td>\n",
       "    </tr>\n",
       "  </tbody>\n",
       "</table>\n",
       "</div>"
      ],
      "text/plain": [
       "      duration  director_facebook_likes  actor_3_facebook_likes  \\\n",
       "3714     117.0                    212.0                   896.0   \n",
       "1309      83.0                      7.0                   485.0   \n",
       "\n",
       "      actor_1_facebook_likes  cast_total_facebook_likes  facenumber_in_poster  \\\n",
       "3714                 11000.0                      17738                   0.0   \n",
       "1309                  2000.0                       4024                   0.0   \n",
       "\n",
       "          budget  title_year  actor_2_facebook_likes  \n",
       "3714   5000000.0      2013.0                  3000.0  \n",
       "1309  24000000.0      1999.0                   577.0  "
      ]
     },
     "execution_count": 142,
     "metadata": {},
     "output_type": "execute_result"
    }
   ],
   "source": [
    "train.drop(['num_critic_for_reviews', 'num_voted_users', 'num_user_for_reviews', 'imdb_score', 'movie_facebook_likes'], axis=1, inplace=True)\n",
    "test.drop(['num_critic_for_reviews', 'num_voted_users', 'num_user_for_reviews', 'imdb_score', 'movie_facebook_likes'], axis=1, inplace=True)\n",
    "train.head(2)"
   ]
  },
  {
   "cell_type": "code",
   "execution_count": 143,
   "metadata": {},
   "outputs": [
    {
     "data": {
      "text/plain": [
       "RandomForestRegressor(bootstrap=True, criterion='mse', max_depth=25,\n",
       "           max_features='auto', max_leaf_nodes=None,\n",
       "           min_impurity_decrease=0.0, min_impurity_split=None,\n",
       "           min_samples_leaf=1, min_samples_split=15,\n",
       "           min_weight_fraction_leaf=0.0, n_estimators=1000, n_jobs=1,\n",
       "           oob_score=False, random_state=1, verbose=0, warm_start=False)"
      ]
     },
     "execution_count": 143,
     "metadata": {},
     "output_type": "execute_result"
    }
   ],
   "source": [
    "second_forest = RandomForestRegressor(\n",
    "    max_depth=25,\n",
    "    min_samples_split=15,\n",
    "    n_estimators=1000,\n",
    "    random_state=1)\n",
    "\n",
    "second_forest.fit(train, target_train)"
   ]
  },
  {
   "cell_type": "code",
   "execution_count": 144,
   "metadata": {},
   "outputs": [],
   "source": [
    "second_prediction = second_forest.predict(test)"
   ]
  },
  {
   "cell_type": "code",
   "execution_count": 145,
   "metadata": {},
   "outputs": [
    {
     "name": "stdout",
     "output_type": "stream",
     "text": [
      "Mean squared error: 2435425084286572.50\n",
      "Variance score: 0.48\n"
     ]
    },
    {
     "data": {
      "image/png": "[encoded data removed]",
      "text/plain": [
       "<matplotlib.figure.Figure at 0x113bf4128>"
      ]
     },
     "metadata": {},
     "output_type": "display_data"
    }
   ],
   "source": [
    "# The mean squared error\n",
    "print(\"Mean squared error: %.2f\" % mean_squared_error(target_test, second_prediction))\n",
    "\n",
    "# Explained variance score: 1 is perfect prediction\n",
    "print('Variance score: %.2f' % r2_score(target_test, second_prediction))\n",
    "\n",
    "# Plot outputs\n",
    "plt.scatter(target_test, second_prediction,  color='black')\n",
    "# plt.plot(test, prediction, color='blue', linewidth=3)\n",
    "\n",
    "\n",
    "plt.show()"
   ]
  },
  {
   "cell_type": "code",
   "execution_count": null,
   "metadata": {},
   "outputs": [],
   "source": []
  }
 ],
 "metadata": {
  "kernelspec": {
   "display_name": "Python 3",
   "language": "python",
   "name": "python3"
  },
  "language_info": {
   "codemirror_mode": {
    "name": "ipython",
    "version": 3
   },
   "file_extension": ".py",
   "mimetype": "text/x-python",
   "name": "python",
   "nbconvert_exporter": "python",
   "pygments_lexer": "ipython3",
   "version": "3.6.1"
  }
 },
 "nbformat": 4,
 "nbformat_minor": 2
}
