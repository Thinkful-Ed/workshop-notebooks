{
 "cells": [
  {
   "cell_type": "markdown",
   "metadata": {},
   "source": [
    "# Load packages"
   ]
  },
  {
   "cell_type": "code",
   "execution_count": 1,
   "metadata": {
    "collapsed": true
   },
   "outputs": [],
   "source": [
    "import pandas as pd\n",
    "import numpy as np"
   ]
  },
  {
   "cell_type": "markdown",
   "metadata": {},
   "source": [
    "# Clean up your training set"
   ]
  },
  {
   "cell_type": "code",
   "execution_count": 2,
   "metadata": {
    "collapsed": false
   },
   "outputs": [],
   "source": [
    "training_set = pd.read_csv('nba_mvp_training.csv')"
   ]
  },
  {
   "cell_type": "code",
   "execution_count": 3,
   "metadata": {
    "collapsed": false
   },
   "outputs": [],
   "source": [
    "# Fill our blanks with zero's\n",
    "training_set.fillna(0, inplace=True)\n",
    "\n",
    "# Format the win loss records as numeric rather than hypen-seperated\n",
    "training_set['Overall_W'] = training_set['Overall'].apply(lambda x: int(x.split('-')[0]))\n",
    "training_set['Overall_L'] = training_set['Overall'].apply(lambda x: int(x.split('-')[1]))\n",
    "training_set['Home_W'] = training_set['Home'].apply(lambda x: int(x.split('-')[0]))\n",
    "training_set['Home_L'] = training_set['Home'].apply(lambda x: int(x.split('-')[1]))\n",
    "training_set['Road_W'] = training_set['Road'].apply(lambda x: int(x.split('-')[0]))\n",
    "training_set['Road_L'] = training_set['Road'].apply(lambda x: int(x.split('-')[1]))"
   ]
  },
  {
   "cell_type": "code",
   "execution_count": 4,
   "metadata": {
    "collapsed": false
   },
   "outputs": [],
   "source": [
    "# Drop the unnecessary columns\n",
    "training_set_cleaned = training_set.drop(['Player', 'Overall', 'Team',\n",
    "                                          'Road', 'Home', 'Neutral'], axis=1)"
   ]
  },
  {
   "cell_type": "code",
   "execution_count": 5,
   "metadata": {
    "collapsed": false
   },
   "outputs": [],
   "source": [
    "# Get dummy variables for factors\n",
    "training_set_cleaned = pd.get_dummies(training_set_cleaned)"
   ]
  },
  {
   "cell_type": "markdown",
   "metadata": {},
   "source": [
    "Training Set Created!\n",
    "\n",
    "# Set up your test set (the most recent season's data)"
   ]
  },
  {
   "cell_type": "code",
   "execution_count": 6,
   "metadata": {
    "collapsed": false
   },
   "outputs": [],
   "source": [
    "stand_2017 = pd.read_csv('2017_standings.csv')\n",
    "players_2017 = pd.read_csv('2017_players.csv')\n",
    "teams = pd.read_csv('teams_historic.csv')"
   ]
  },
  {
   "cell_type": "code",
   "execution_count": 7,
   "metadata": {
    "collapsed": false
   },
   "outputs": [],
   "source": [
    "# Bring together players with their records\n",
    "teams_merged = pd.merge(stand_2017, teams,\n",
    "                        left_on=['Team'], right_on=['name'])\n",
    "players_merged = pd.merge(teams_merged, players_2017,\n",
    "                          left_on=['abbreviation'], right_on=['Tm'])"
   ]
  },
  {
   "cell_type": "code",
   "execution_count": 8,
   "metadata": {
    "collapsed": false
   },
   "outputs": [],
   "source": [
    "# The same win - loss conversion as before\n",
    "players_merged['Overall_W'] = players_merged['Overall'].apply(lambda x: int(x.split('-')[0]))\n",
    "players_merged['Overall_L'] = players_merged['Overall'].apply(lambda x: int(x.split('-')[1]))\n",
    "players_merged['Home_W'] = players_merged['Home'].apply(lambda x: int(x.split('-')[0]))\n",
    "players_merged['Home_L'] = players_merged['Home'].apply(lambda x: int(x.split('-')[1]))\n",
    "players_merged['Road_W'] = players_merged['Road'].apply(lambda x: int(x.split('-')[0]))\n",
    "players_merged['Road_L'] = players_merged['Road'].apply(lambda x: int(x.split('-')[1]))"
   ]
  },
  {
   "cell_type": "code",
   "execution_count": 9,
   "metadata": {
    "collapsed": false
   },
   "outputs": [],
   "source": [
    "# Drop extra columns\n",
    "test_set_cleaned = players_merged.drop(['Rk_x','Overall','Team','Road','Home','E','W','A','C',\n",
    "                                        'SE','NW','SW','P','Pre','Post', 'Player',\n",
    "                                        '≤3', '≥10', 'Oct', 'Nov', 'Dec', 'Jan','Feb',\n",
    "                                        'Mar', 'Apr', 'name', 'abbreviation', 'Rk_y'],\n",
    "                                        axis=1)"
   ]
  },
  {
   "cell_type": "code",
   "execution_count": 10,
   "metadata": {
    "collapsed": false
   },
   "outputs": [],
   "source": [
    "test_set_cleaned = pd.get_dummies(test_set_cleaned)"
   ]
  },
  {
   "cell_type": "code",
   "execution_count": 11,
   "metadata": {
    "collapsed": false
   },
   "outputs": [],
   "source": [
    "# Iterate through list to ensure that all training columns are in the test set\n",
    "\n",
    "for i in training_set_cleaned:\n",
    "    if i in test_set_cleaned.columns:\n",
    "        x=1\n",
    "    else:\n",
    "        test_set_cleaned[i]=0"
   ]
  },
  {
   "cell_type": "code",
   "execution_count": 12,
   "metadata": {
    "collapsed": true
   },
   "outputs": [],
   "source": [
    "# Iterate to make sure everything in the test set is in the training set\n",
    "\n",
    "for i in test_set_cleaned:\n",
    "    if i in training_set_cleaned.columns:\n",
    "        x=1\n",
    "    else:\n",
    "        test_set_cleaned.drop(i,axis=1,inplace=True)"
   ]
  },
  {
   "cell_type": "code",
   "execution_count": 13,
   "metadata": {
    "collapsed": false
   },
   "outputs": [],
   "source": [
    "# Fill in any last blanks\n",
    "test_set_cleaned.fillna(0, inplace=True)"
   ]
  },
  {
   "cell_type": "code",
   "execution_count": 14,
   "metadata": {
    "collapsed": true
   },
   "outputs": [],
   "source": [
    "from sklearn import linear_model\n",
    "from sklearn import ensemble\n",
    "from sklearn import tree"
   ]
  },
  {
   "cell_type": "code",
   "execution_count": 15,
   "metadata": {
    "collapsed": false
   },
   "outputs": [
    {
     "data": {
      "text/plain": [
       "DecisionTreeRegressor(criterion='mse', max_depth=None, max_features=None,\n",
       "           max_leaf_nodes=None, min_impurity_split=1e-07,\n",
       "           min_samples_leaf=1, min_samples_split=2,\n",
       "           min_weight_fraction_leaf=0.0, presort=False, random_state=None,\n",
       "           splitter='best')"
      ]
     },
     "execution_count": 15,
     "metadata": {},
     "output_type": "execute_result"
    }
   ],
   "source": [
    "# Remove voting results from our inputs\n",
    "X = training_set_cleaned.drop(['First', 'Points', 'Pointsmax', 'Share'], axis=1)\n",
    "\n",
    "# Create a response, which in our case is the share of the vote\n",
    "y = training_set_cleaned['Share']\n",
    "\n",
    "# Train your basic tree\n",
    "mod = tree.DecisionTreeRegressor()\n",
    "mod.fit(X,y)"
   ]
  },
  {
   "cell_type": "code",
   "execution_count": 16,
   "metadata": {
    "collapsed": false
   },
   "outputs": [
    {
     "data": {
      "text/html": [
       "<div>\n",
       "<table border=\"1\" class=\"dataframe\">\n",
       "  <thead>\n",
       "    <tr style=\"text-align: right;\">\n",
       "      <th></th>\n",
       "      <th>features</th>\n",
       "      <th>scores</th>\n",
       "    </tr>\n",
       "  </thead>\n",
       "  <tbody>\n",
       "    <tr>\n",
       "      <th>25</th>\n",
       "      <td>PTS</td>\n",
       "      <td>0.295600</td>\n",
       "    </tr>\n",
       "    <tr>\n",
       "      <th>28</th>\n",
       "      <td>Overall_L</td>\n",
       "      <td>0.208527</td>\n",
       "    </tr>\n",
       "    <tr>\n",
       "      <th>19</th>\n",
       "      <td>TRB</td>\n",
       "      <td>0.059688</td>\n",
       "    </tr>\n",
       "    <tr>\n",
       "      <th>20</th>\n",
       "      <td>AST</td>\n",
       "      <td>0.057244</td>\n",
       "    </tr>\n",
       "    <tr>\n",
       "      <th>24</th>\n",
       "      <td>PF</td>\n",
       "      <td>0.052399</td>\n",
       "    </tr>\n",
       "  </tbody>\n",
       "</table>\n",
       "</div>"
      ],
      "text/plain": [
       "     features    scores\n",
       "25        PTS  0.295600\n",
       "28  Overall_L  0.208527\n",
       "19        TRB  0.059688\n",
       "20        AST  0.057244\n",
       "24         PF  0.052399"
      ]
     },
     "execution_count": 16,
     "metadata": {},
     "output_type": "execute_result"
    }
   ],
   "source": [
    "# Feature importance\n",
    "importance = pd.DataFrame()\n",
    "importance['features'] = X.columns\n",
    "importance['scores'] = mod.feature_importances_\n",
    "\n",
    "importance.sort_values('scores', ascending=False).head()"
   ]
  },
  {
   "cell_type": "code",
   "execution_count": 17,
   "metadata": {
    "collapsed": false
   },
   "outputs": [
    {
     "data": {
      "text/html": [
       "<div>\n",
       "<table border=\"1\" class=\"dataframe\">\n",
       "  <thead>\n",
       "    <tr style=\"text-align: right;\">\n",
       "      <th></th>\n",
       "      <th>features</th>\n",
       "      <th>scores</th>\n",
       "    </tr>\n",
       "  </thead>\n",
       "  <tbody>\n",
       "    <tr>\n",
       "      <th>66</th>\n",
       "      <td>Tm_LAL</td>\n",
       "      <td>0.00014</td>\n",
       "    </tr>\n",
       "  </tbody>\n",
       "</table>\n",
       "</div>"
      ],
      "text/plain": [
       "   features   scores\n",
       "66   Tm_LAL  0.00014"
      ]
     },
     "execution_count": 17,
     "metadata": {},
     "output_type": "execute_result"
    }
   ],
   "source": [
    "importance[importance['features']=='Tm_LAL']"
   ]
  },
  {
   "cell_type": "code",
   "execution_count": 18,
   "metadata": {
    "collapsed": false
   },
   "outputs": [
    {
     "data": {
      "text/html": [
       "<div>\n",
       "<table border=\"1\" class=\"dataframe\">\n",
       "  <thead>\n",
       "    <tr style=\"text-align: right;\">\n",
       "      <th></th>\n",
       "      <th>features</th>\n",
       "      <th>scores</th>\n",
       "    </tr>\n",
       "  </thead>\n",
       "  <tbody>\n",
       "    <tr>\n",
       "      <th>65</th>\n",
       "      <td>Tm_LAC</td>\n",
       "      <td>0.000339</td>\n",
       "    </tr>\n",
       "  </tbody>\n",
       "</table>\n",
       "</div>"
      ],
      "text/plain": [
       "   features    scores\n",
       "65   Tm_LAC  0.000339"
      ]
     },
     "execution_count": 18,
     "metadata": {},
     "output_type": "execute_result"
    }
   ],
   "source": [
    "importance[importance['features']=='Tm_LAC']"
   ]
  },
  {
   "cell_type": "code",
   "execution_count": 19,
   "metadata": {
    "collapsed": false,
    "scrolled": true
   },
   "outputs": [
    {
     "data": {
      "text/plain": [
       "0.99997764733650707"
      ]
     },
     "execution_count": 19,
     "metadata": {},
     "output_type": "execute_result"
    }
   ],
   "source": [
    "# Evaluate your tree\n",
    "mod.score(X,y)"
   ]
  },
  {
   "cell_type": "code",
   "execution_count": 20,
   "metadata": {
    "collapsed": false
   },
   "outputs": [],
   "source": [
    "X_test = test_set_cleaned.drop(['First', 'Points', 'Pointsmax', 'Share'], axis=1)\n",
    "test_pred = mod.predict(X_test)\n",
    "test_results = pd.DataFrame(players_merged.Player)\n",
    "test_results['score'] = test_pred"
   ]
  },
  {
   "cell_type": "code",
   "execution_count": 21,
   "metadata": {
    "collapsed": false
   },
   "outputs": [
    {
     "data": {
      "text/html": [
       "<div>\n",
       "<table border=\"1\" class=\"dataframe\">\n",
       "  <thead>\n",
       "    <tr style=\"text-align: right;\">\n",
       "      <th></th>\n",
       "      <th>Player</th>\n",
       "      <th>score</th>\n",
       "    </tr>\n",
       "  </thead>\n",
       "  <tbody>\n",
       "    <tr>\n",
       "      <th>72</th>\n",
       "      <td>LeBron James</td>\n",
       "      <td>0.773</td>\n",
       "    </tr>\n",
       "    <tr>\n",
       "      <th>2</th>\n",
       "      <td>Stephen Curry</td>\n",
       "      <td>0.773</td>\n",
       "    </tr>\n",
       "    <tr>\n",
       "      <th>42</th>\n",
       "      <td>James Harden</td>\n",
       "      <td>0.773</td>\n",
       "    </tr>\n",
       "    <tr>\n",
       "      <th>63</th>\n",
       "      <td>Isaiah Thomas</td>\n",
       "      <td>0.773</td>\n",
       "    </tr>\n",
       "    <tr>\n",
       "      <th>104</th>\n",
       "      <td>DeMar DeRozan</td>\n",
       "      <td>0.773</td>\n",
       "    </tr>\n",
       "  </tbody>\n",
       "</table>\n",
       "</div>"
      ],
      "text/plain": [
       "            Player  score\n",
       "72    LeBron James  0.773\n",
       "2    Stephen Curry  0.773\n",
       "42    James Harden  0.773\n",
       "63   Isaiah Thomas  0.773\n",
       "104  DeMar DeRozan  0.773"
      ]
     },
     "execution_count": 21,
     "metadata": {},
     "output_type": "execute_result"
    }
   ],
   "source": [
    "test_results.sort_values('score', ascending=False).head()"
   ]
  },
  {
   "cell_type": "code",
   "execution_count": 22,
   "metadata": {
    "collapsed": false
   },
   "outputs": [
    {
     "data": {
      "text/html": [
       "<div>\n",
       "<table border=\"1\" class=\"dataframe\">\n",
       "  <thead>\n",
       "    <tr style=\"text-align: right;\">\n",
       "      <th></th>\n",
       "      <th>Player</th>\n",
       "      <th>score</th>\n",
       "    </tr>\n",
       "  </thead>\n",
       "  <tbody>\n",
       "    <tr>\n",
       "      <th>170</th>\n",
       "      <td>Russell Westbrook</td>\n",
       "      <td>0.46164</td>\n",
       "    </tr>\n",
       "    <tr>\n",
       "      <th>333</th>\n",
       "      <td>Anthony Davis</td>\n",
       "      <td>0.42348</td>\n",
       "    </tr>\n",
       "    <tr>\n",
       "      <th>268</th>\n",
       "      <td>Damian Lillard</td>\n",
       "      <td>0.37712</td>\n",
       "    </tr>\n",
       "    <tr>\n",
       "      <th>384</th>\n",
       "      <td>Karl-Anthony Towns</td>\n",
       "      <td>0.35124</td>\n",
       "    </tr>\n",
       "    <tr>\n",
       "      <th>72</th>\n",
       "      <td>LeBron James</td>\n",
       "      <td>0.28988</td>\n",
       "    </tr>\n",
       "  </tbody>\n",
       "</table>\n",
       "</div>"
      ],
      "text/plain": [
       "                 Player    score\n",
       "170   Russell Westbrook  0.46164\n",
       "333       Anthony Davis  0.42348\n",
       "268      Damian Lillard  0.37712\n",
       "384  Karl-Anthony Towns  0.35124\n",
       "72         LeBron James  0.28988"
      ]
     },
     "execution_count": 22,
     "metadata": {},
     "output_type": "execute_result"
    }
   ],
   "source": [
    "# Try again with Random Forest\n",
    "\n",
    "mod = ensemble.RandomForestRegressor(n_estimators=25)\n",
    "mod.fit(X,y)\n",
    "test_pred = mod.predict(X_test)\n",
    "test_results = pd.DataFrame(players_merged.Player)\n",
    "test_results['score'] = test_pred\n",
    "test_results.sort_values('score', ascending=False).head()"
   ]
  },
  {
   "cell_type": "code",
   "execution_count": 23,
   "metadata": {
    "collapsed": false
   },
   "outputs": [],
   "source": [
    "# Find the results for a given year\n",
    "\n",
    "results = pd.DataFrame()\n",
    "results['rf_score'] = mod.predict(X)\n",
    "results['player'] = training_set['Player']\n",
    "results['year'] = training_set['year']\n",
    "results['share'] = training_set['Share']\n",
    "results_2016 = results[results['year'] == 2016]"
   ]
  },
  {
   "cell_type": "code",
   "execution_count": 24,
   "metadata": {
    "collapsed": false
   },
   "outputs": [
    {
     "data": {
      "text/html": [
       "<div>\n",
       "<table border=\"1\" class=\"dataframe\">\n",
       "  <thead>\n",
       "    <tr style=\"text-align: right;\">\n",
       "      <th></th>\n",
       "      <th>rf_score</th>\n",
       "      <th>player</th>\n",
       "      <th>year</th>\n",
       "      <th>share</th>\n",
       "    </tr>\n",
       "  </thead>\n",
       "  <tbody>\n",
       "    <tr>\n",
       "      <th>107</th>\n",
       "      <td>0.913960</td>\n",
       "      <td>Stephen Curry</td>\n",
       "      <td>2016</td>\n",
       "      <td>1.000</td>\n",
       "    </tr>\n",
       "    <tr>\n",
       "      <th>274</th>\n",
       "      <td>0.237646</td>\n",
       "      <td>Kawhi Leonard</td>\n",
       "      <td>2016</td>\n",
       "      <td>0.484</td>\n",
       "    </tr>\n",
       "    <tr>\n",
       "      <th>231</th>\n",
       "      <td>0.432320</td>\n",
       "      <td>LeBron James</td>\n",
       "      <td>2016</td>\n",
       "      <td>0.482</td>\n",
       "    </tr>\n",
       "    <tr>\n",
       "      <th>473</th>\n",
       "      <td>0.290720</td>\n",
       "      <td>Russell Westbrook</td>\n",
       "      <td>2016</td>\n",
       "      <td>0.371</td>\n",
       "    </tr>\n",
       "    <tr>\n",
       "      <th>127</th>\n",
       "      <td>0.270840</td>\n",
       "      <td>Kevin Durant</td>\n",
       "      <td>2016</td>\n",
       "      <td>0.112</td>\n",
       "    </tr>\n",
       "  </tbody>\n",
       "</table>\n",
       "</div>"
      ],
      "text/plain": [
       "     rf_score             player  year  share\n",
       "107  0.913960      Stephen Curry  2016  1.000\n",
       "274  0.237646      Kawhi Leonard  2016  0.484\n",
       "231  0.432320       LeBron James  2016  0.482\n",
       "473  0.290720  Russell Westbrook  2016  0.371\n",
       "127  0.270840       Kevin Durant  2016  0.112"
      ]
     },
     "execution_count": 24,
     "metadata": {},
     "output_type": "execute_result"
    }
   ],
   "source": [
    "results_2016.sort_values('share', ascending=False).head()"
   ]
  },
  {
   "cell_type": "code",
   "execution_count": 25,
   "metadata": {
    "collapsed": false
   },
   "outputs": [
    {
     "data": {
      "text/html": [
       "<div>\n",
       "<table border=\"1\" class=\"dataframe\">\n",
       "  <thead>\n",
       "    <tr style=\"text-align: right;\">\n",
       "      <th></th>\n",
       "      <th>Player</th>\n",
       "      <th>score</th>\n",
       "    </tr>\n",
       "  </thead>\n",
       "  <tbody>\n",
       "    <tr>\n",
       "      <th>2</th>\n",
       "      <td>Stephen Curry</td>\n",
       "      <td>0.533612</td>\n",
       "    </tr>\n",
       "    <tr>\n",
       "      <th>170</th>\n",
       "      <td>Russell Westbrook</td>\n",
       "      <td>0.531880</td>\n",
       "    </tr>\n",
       "    <tr>\n",
       "      <th>42</th>\n",
       "      <td>James Harden</td>\n",
       "      <td>0.423128</td>\n",
       "    </tr>\n",
       "    <tr>\n",
       "      <th>63</th>\n",
       "      <td>Isaiah Thomas</td>\n",
       "      <td>0.224128</td>\n",
       "    </tr>\n",
       "    <tr>\n",
       "      <th>72</th>\n",
       "      <td>LeBron James</td>\n",
       "      <td>0.184340</td>\n",
       "    </tr>\n",
       "  </tbody>\n",
       "</table>\n",
       "</div>"
      ],
      "text/plain": [
       "                Player     score\n",
       "2        Stephen Curry  0.533612\n",
       "170  Russell Westbrook  0.531880\n",
       "42        James Harden  0.423128\n",
       "63       Isaiah Thomas  0.224128\n",
       "72        LeBron James  0.184340"
      ]
     },
     "execution_count": 25,
     "metadata": {},
     "output_type": "execute_result"
    }
   ],
   "source": [
    "# What if we trim our variable lists...\n",
    "X_abbreviated = X[['PTS', 'Overall_W', 'TRB', 'AST']]\n",
    "X_test_abbreviated = X_test[['PTS', 'Overall_W', 'TRB', 'AST']]\n",
    "mod = ensemble.RandomForestRegressor(n_estimators=250)\n",
    "mod.fit(X_abbreviated,y)\n",
    "test_pred = mod.predict(X_test_abbreviated)\n",
    "test_results = pd.DataFrame(players_merged.Player)\n",
    "test_results['score'] = test_pred\n",
    "test_results.sort_values('score', ascending=False).head()"
   ]
  },
  {
   "cell_type": "code",
   "execution_count": 26,
   "metadata": {
    "collapsed": false
   },
   "outputs": [
    {
     "data": {
      "text/html": [
       "<div>\n",
       "<table border=\"1\" class=\"dataframe\">\n",
       "  <thead>\n",
       "    <tr style=\"text-align: right;\">\n",
       "      <th></th>\n",
       "      <th>Player</th>\n",
       "      <th>score</th>\n",
       "    </tr>\n",
       "  </thead>\n",
       "  <tbody>\n",
       "    <tr>\n",
       "      <th>333</th>\n",
       "      <td>Anthony Davis</td>\n",
       "      <td>0.547647</td>\n",
       "    </tr>\n",
       "    <tr>\n",
       "      <th>384</th>\n",
       "      <td>Karl-Anthony Towns</td>\n",
       "      <td>0.506487</td>\n",
       "    </tr>\n",
       "    <tr>\n",
       "      <th>170</th>\n",
       "      <td>Russell Westbrook</td>\n",
       "      <td>0.478448</td>\n",
       "    </tr>\n",
       "    <tr>\n",
       "      <th>2</th>\n",
       "      <td>Stephen Curry</td>\n",
       "      <td>0.410033</td>\n",
       "    </tr>\n",
       "    <tr>\n",
       "      <th>72</th>\n",
       "      <td>LeBron James</td>\n",
       "      <td>0.365950</td>\n",
       "    </tr>\n",
       "  </tbody>\n",
       "</table>\n",
       "</div>"
      ],
      "text/plain": [
       "                 Player     score\n",
       "333       Anthony Davis  0.547647\n",
       "384  Karl-Anthony Towns  0.506487\n",
       "170   Russell Westbrook  0.478448\n",
       "2         Stephen Curry  0.410033\n",
       "72         LeBron James  0.365950"
      ]
     },
     "execution_count": 26,
     "metadata": {},
     "output_type": "execute_result"
    }
   ],
   "source": [
    "# Gradient Boosting Models\n",
    "\n",
    "mod = ensemble.GradientBoostingRegressor()\n",
    "mod.fit(X,y)\n",
    "test_pred = mod.predict(X_test)\n",
    "test_results = pd.DataFrame(players_merged.Player)\n",
    "test_results['score'] = test_pred\n",
    "test_results.sort_values('score', ascending=False).head()"
   ]
  },
  {
   "cell_type": "markdown",
   "metadata": {
    "collapsed": true
   },
   "source": [
    "*All data via http://www.basketball-reference.com/"
   ]
  },
  {
   "cell_type": "code",
   "execution_count": null,
   "metadata": {
    "collapsed": true
   },
   "outputs": [],
   "source": []
  }
 ],
 "metadata": {
  "kernelspec": {
   "display_name": "Python 3",
   "language": "python",
   "name": "python3"
  },
  "language_info": {
   "codemirror_mode": {
    "name": "ipython",
    "version": 3
   },
   "file_extension": ".py",
   "mimetype": "text/x-python",
   "name": "python",
   "nbconvert_exporter": "python",
   "pygments_lexer": "ipython3",
   "version": "3.5.2"
  }
 },
 "nbformat": 4,
 "nbformat_minor": 2
}
