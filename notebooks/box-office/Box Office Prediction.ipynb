{
 "cells": [
  {
   "cell_type": "markdown",
   "metadata": {},
   "source": [
    "## Initial imports and loading data with Pandas"
   ]
  },
  {
   "cell_type": "code",
   "execution_count": 254,
   "metadata": {},
   "outputs": [],
   "source": [
    "import numpy as np\n",
    "import pandas as pd\n",
    "import matplotlib.pyplot as plt\n",
    "import seaborn as sns\n",
    "from sklearn import tree\n",
    "from sklearn.ensemble import RandomForestRegressor\n",
    "from sklearn.linear_model import LinearRegression\n",
    "from sklearn.metrics import mean_squared_error, r2_score\n",
    "from sklearn.model_selection import train_test_split\n",
    "%matplotlib inline\n",
    "\n",
    "pd.set_option('mode.chained_assignment', None)"
   ]
  },
  {
   "cell_type": "code",
   "execution_count": 255,
   "metadata": {},
   "outputs": [],
   "source": [
    "data = pd.read_csv('movie_metadata.csv')"
   ]
  },
  {
   "cell_type": "markdown",
   "metadata": {},
   "source": [
    "## Taking a look at the data"
   ]
  },
  {
   "cell_type": "markdown",
   "metadata": {},
   "source": [
    "You need to \"run\" the two cells below, to do that select the cell and press:  *`Shift-Enter`*"
   ]
  },
  {
   "cell_type": "code",
   "execution_count": 256,
   "metadata": {},
   "outputs": [
    {
     "data": {
      "text/html": [
       "<div>\n",
       "<style>\n",
       "    .dataframe thead tr:only-child th {\n",
       "        text-align: right;\n",
       "    }\n",
       "\n",
       "    .dataframe thead th {\n",
       "        text-align: left;\n",
       "    }\n",
       "\n",
       "    .dataframe tbody tr th {\n",
       "        vertical-align: top;\n",
       "    }\n",
       "</style>\n",
       "<table border=\"1\" class=\"dataframe\">\n",
       "  <thead>\n",
       "    <tr style=\"text-align: right;\">\n",
       "      <th></th>\n",
       "      <th>color</th>\n",
       "      <th>director_name</th>\n",
       "      <th>num_critic_for_reviews</th>\n",
       "      <th>duration</th>\n",
       "      <th>director_facebook_likes</th>\n",
       "      <th>actor_3_facebook_likes</th>\n",
       "      <th>actor_2_name</th>\n",
       "      <th>actor_1_facebook_likes</th>\n",
       "      <th>gross</th>\n",
       "      <th>genres</th>\n",
       "      <th>...</th>\n",
       "      <th>num_user_for_reviews</th>\n",
       "      <th>language</th>\n",
       "      <th>country</th>\n",
       "      <th>content_rating</th>\n",
       "      <th>budget</th>\n",
       "      <th>title_year</th>\n",
       "      <th>actor_2_facebook_likes</th>\n",
       "      <th>imdb_score</th>\n",
       "      <th>aspect_ratio</th>\n",
       "      <th>movie_facebook_likes</th>\n",
       "    </tr>\n",
       "  </thead>\n",
       "  <tbody>\n",
       "    <tr>\n",
       "      <th>0</th>\n",
       "      <td>Color</td>\n",
       "      <td>James Cameron</td>\n",
       "      <td>0MM</td>\n",
       "      <td>0MM</td>\n",
       "      <td>0MM</td>\n",
       "      <td>0MM</td>\n",
       "      <td>Joel David Moore</td>\n",
       "      <td>0MM</td>\n",
       "      <td>761MM</td>\n",
       "      <td>Action|Adventure|Fantasy|Sci-Fi</td>\n",
       "      <td>...</td>\n",
       "      <td>0MM</td>\n",
       "      <td>English</td>\n",
       "      <td>USA</td>\n",
       "      <td>PG-13</td>\n",
       "      <td>237MM</td>\n",
       "      <td>0MM</td>\n",
       "      <td>0MM</td>\n",
       "      <td>0MM</td>\n",
       "      <td>0MM</td>\n",
       "      <td>33000</td>\n",
       "    </tr>\n",
       "    <tr>\n",
       "      <th>1</th>\n",
       "      <td>Color</td>\n",
       "      <td>Gore Verbinski</td>\n",
       "      <td>0MM</td>\n",
       "      <td>0MM</td>\n",
       "      <td>0MM</td>\n",
       "      <td>0MM</td>\n",
       "      <td>Orlando Bloom</td>\n",
       "      <td>0MM</td>\n",
       "      <td>309MM</td>\n",
       "      <td>Action|Adventure|Fantasy</td>\n",
       "      <td>...</td>\n",
       "      <td>0MM</td>\n",
       "      <td>English</td>\n",
       "      <td>USA</td>\n",
       "      <td>PG-13</td>\n",
       "      <td>300MM</td>\n",
       "      <td>0MM</td>\n",
       "      <td>0MM</td>\n",
       "      <td>0MM</td>\n",
       "      <td>0MM</td>\n",
       "      <td>0</td>\n",
       "    </tr>\n",
       "    <tr>\n",
       "      <th>2</th>\n",
       "      <td>Color</td>\n",
       "      <td>Sam Mendes</td>\n",
       "      <td>0MM</td>\n",
       "      <td>0MM</td>\n",
       "      <td>0MM</td>\n",
       "      <td>0MM</td>\n",
       "      <td>Rory Kinnear</td>\n",
       "      <td>0MM</td>\n",
       "      <td>200MM</td>\n",
       "      <td>Action|Adventure|Thriller</td>\n",
       "      <td>...</td>\n",
       "      <td>0MM</td>\n",
       "      <td>English</td>\n",
       "      <td>UK</td>\n",
       "      <td>PG-13</td>\n",
       "      <td>245MM</td>\n",
       "      <td>0MM</td>\n",
       "      <td>0MM</td>\n",
       "      <td>0MM</td>\n",
       "      <td>0MM</td>\n",
       "      <td>85000</td>\n",
       "    </tr>\n",
       "    <tr>\n",
       "      <th>3</th>\n",
       "      <td>Color</td>\n",
       "      <td>Christopher Nolan</td>\n",
       "      <td>0MM</td>\n",
       "      <td>0MM</td>\n",
       "      <td>0MM</td>\n",
       "      <td>0MM</td>\n",
       "      <td>Christian Bale</td>\n",
       "      <td>0MM</td>\n",
       "      <td>448MM</td>\n",
       "      <td>Action|Thriller</td>\n",
       "      <td>...</td>\n",
       "      <td>0MM</td>\n",
       "      <td>English</td>\n",
       "      <td>USA</td>\n",
       "      <td>PG-13</td>\n",
       "      <td>250MM</td>\n",
       "      <td>0MM</td>\n",
       "      <td>0MM</td>\n",
       "      <td>0MM</td>\n",
       "      <td>0MM</td>\n",
       "      <td>164000</td>\n",
       "    </tr>\n",
       "    <tr>\n",
       "      <th>4</th>\n",
       "      <td>NaN</td>\n",
       "      <td>Doug Walker</td>\n",
       "      <td>nanMM</td>\n",
       "      <td>nanMM</td>\n",
       "      <td>0MM</td>\n",
       "      <td>nanMM</td>\n",
       "      <td>Rob Walker</td>\n",
       "      <td>0MM</td>\n",
       "      <td>nanMM</td>\n",
       "      <td>Documentary</td>\n",
       "      <td>...</td>\n",
       "      <td>nanMM</td>\n",
       "      <td>NaN</td>\n",
       "      <td>NaN</td>\n",
       "      <td>NaN</td>\n",
       "      <td>nanMM</td>\n",
       "      <td>nanMM</td>\n",
       "      <td>0MM</td>\n",
       "      <td>0MM</td>\n",
       "      <td>nanMM</td>\n",
       "      <td>0</td>\n",
       "    </tr>\n",
       "  </tbody>\n",
       "</table>\n",
       "<p>5 rows × 28 columns</p>\n",
       "</div>"
      ],
      "text/plain": [
       "   color      director_name  num_critic_for_reviews  duration  \\\n",
       "0  Color      James Cameron                     0MM       0MM   \n",
       "1  Color     Gore Verbinski                     0MM       0MM   \n",
       "2  Color         Sam Mendes                     0MM       0MM   \n",
       "3  Color  Christopher Nolan                     0MM       0MM   \n",
       "4    NaN        Doug Walker                   nanMM     nanMM   \n",
       "\n",
       "   director_facebook_likes  actor_3_facebook_likes      actor_2_name  \\\n",
       "0                      0MM                     0MM  Joel David Moore   \n",
       "1                      0MM                     0MM     Orlando Bloom   \n",
       "2                      0MM                     0MM      Rory Kinnear   \n",
       "3                      0MM                     0MM    Christian Bale   \n",
       "4                      0MM                   nanMM        Rob Walker   \n",
       "\n",
       "   actor_1_facebook_likes  gross                           genres  \\\n",
       "0                     0MM  761MM  Action|Adventure|Fantasy|Sci-Fi   \n",
       "1                     0MM  309MM         Action|Adventure|Fantasy   \n",
       "2                     0MM  200MM        Action|Adventure|Thriller   \n",
       "3                     0MM  448MM                  Action|Thriller   \n",
       "4                     0MM  nanMM                      Documentary   \n",
       "\n",
       "          ...          num_user_for_reviews language  country  content_rating  \\\n",
       "0         ...                           0MM  English      USA           PG-13   \n",
       "1         ...                           0MM  English      USA           PG-13   \n",
       "2         ...                           0MM  English       UK           PG-13   \n",
       "3         ...                           0MM  English      USA           PG-13   \n",
       "4         ...                         nanMM      NaN      NaN             NaN   \n",
       "\n",
       "  budget  title_year actor_2_facebook_likes imdb_score  aspect_ratio  \\\n",
       "0  237MM         0MM                    0MM        0MM           0MM   \n",
       "1  300MM         0MM                    0MM        0MM           0MM   \n",
       "2  245MM         0MM                    0MM        0MM           0MM   \n",
       "3  250MM         0MM                    0MM        0MM           0MM   \n",
       "4  nanMM       nanMM                    0MM        0MM         nanMM   \n",
       "\n",
       "  movie_facebook_likes  \n",
       "0                33000  \n",
       "1                    0  \n",
       "2                85000  \n",
       "3               164000  \n",
       "4                    0  \n",
       "\n",
       "[5 rows x 28 columns]"
      ]
     },
     "execution_count": 256,
     "metadata": {},
     "output_type": "execute_result"
    }
   ],
   "source": [
    "# Run this cell (to do so press Shift-Enter)\n",
    "data.head(5)"
   ]
  },
  {
   "cell_type": "code",
   "execution_count": 257,
   "metadata": {},
   "outputs": [
    {
     "data": {
      "text/plain": [
       "(5043, 28)"
      ]
     },
     "execution_count": 257,
     "metadata": {},
     "output_type": "execute_result"
    }
   ],
   "source": [
    "data.shape"
   ]
  },
  {
   "cell_type": "code",
   "execution_count": 258,
   "metadata": {},
   "outputs": [
    {
     "data": {
      "text/html": [
       "<div>\n",
       "<style>\n",
       "    .dataframe thead tr:only-child th {\n",
       "        text-align: right;\n",
       "    }\n",
       "\n",
       "    .dataframe thead th {\n",
       "        text-align: left;\n",
       "    }\n",
       "\n",
       "    .dataframe tbody tr th {\n",
       "        vertical-align: top;\n",
       "    }\n",
       "</style>\n",
       "<table border=\"1\" class=\"dataframe\">\n",
       "  <thead>\n",
       "    <tr style=\"text-align: right;\">\n",
       "      <th></th>\n",
       "      <th>num_critic_for_reviews</th>\n",
       "      <th>duration</th>\n",
       "      <th>director_facebook_likes</th>\n",
       "      <th>actor_3_facebook_likes</th>\n",
       "      <th>actor_1_facebook_likes</th>\n",
       "      <th>gross</th>\n",
       "      <th>num_voted_users</th>\n",
       "      <th>cast_total_facebook_likes</th>\n",
       "      <th>facenumber_in_poster</th>\n",
       "      <th>num_user_for_reviews</th>\n",
       "      <th>budget</th>\n",
       "      <th>title_year</th>\n",
       "      <th>actor_2_facebook_likes</th>\n",
       "      <th>imdb_score</th>\n",
       "      <th>aspect_ratio</th>\n",
       "      <th>movie_facebook_likes</th>\n",
       "    </tr>\n",
       "  </thead>\n",
       "  <tbody>\n",
       "    <tr>\n",
       "      <th>count</th>\n",
       "      <td>0MM</td>\n",
       "      <td>0MM</td>\n",
       "      <td>0MM</td>\n",
       "      <td>0MM</td>\n",
       "      <td>0MM</td>\n",
       "      <td>0MM</td>\n",
       "      <td>0MM</td>\n",
       "      <td>0MM</td>\n",
       "      <td>0MM</td>\n",
       "      <td>0MM</td>\n",
       "      <td>0MM</td>\n",
       "      <td>0MM</td>\n",
       "      <td>0MM</td>\n",
       "      <td>0MM</td>\n",
       "      <td>0MM</td>\n",
       "      <td>0MM</td>\n",
       "    </tr>\n",
       "    <tr>\n",
       "      <th>mean</th>\n",
       "      <td>0MM</td>\n",
       "      <td>0MM</td>\n",
       "      <td>0MM</td>\n",
       "      <td>0MM</td>\n",
       "      <td>0MM</td>\n",
       "      <td>49MM</td>\n",
       "      <td>0MM</td>\n",
       "      <td>0MM</td>\n",
       "      <td>0MM</td>\n",
       "      <td>0MM</td>\n",
       "      <td>40MM</td>\n",
       "      <td>0MM</td>\n",
       "      <td>0MM</td>\n",
       "      <td>0MM</td>\n",
       "      <td>0MM</td>\n",
       "      <td>0MM</td>\n",
       "    </tr>\n",
       "    <tr>\n",
       "      <th>std</th>\n",
       "      <td>0MM</td>\n",
       "      <td>0MM</td>\n",
       "      <td>0MM</td>\n",
       "      <td>0MM</td>\n",
       "      <td>0MM</td>\n",
       "      <td>68MM</td>\n",
       "      <td>0MM</td>\n",
       "      <td>0MM</td>\n",
       "      <td>0MM</td>\n",
       "      <td>0MM</td>\n",
       "      <td>206MM</td>\n",
       "      <td>0MM</td>\n",
       "      <td>0MM</td>\n",
       "      <td>0MM</td>\n",
       "      <td>0MM</td>\n",
       "      <td>0MM</td>\n",
       "    </tr>\n",
       "    <tr>\n",
       "      <th>min</th>\n",
       "      <td>0MM</td>\n",
       "      <td>0MM</td>\n",
       "      <td>0MM</td>\n",
       "      <td>0MM</td>\n",
       "      <td>0MM</td>\n",
       "      <td>0MM</td>\n",
       "      <td>0MM</td>\n",
       "      <td>0MM</td>\n",
       "      <td>0MM</td>\n",
       "      <td>0MM</td>\n",
       "      <td>0MM</td>\n",
       "      <td>0MM</td>\n",
       "      <td>0MM</td>\n",
       "      <td>0MM</td>\n",
       "      <td>0MM</td>\n",
       "      <td>0MM</td>\n",
       "    </tr>\n",
       "    <tr>\n",
       "      <th>25%</th>\n",
       "      <td>0MM</td>\n",
       "      <td>0MM</td>\n",
       "      <td>0MM</td>\n",
       "      <td>0MM</td>\n",
       "      <td>0MM</td>\n",
       "      <td>5MM</td>\n",
       "      <td>0MM</td>\n",
       "      <td>0MM</td>\n",
       "      <td>0MM</td>\n",
       "      <td>0MM</td>\n",
       "      <td>6MM</td>\n",
       "      <td>0MM</td>\n",
       "      <td>0MM</td>\n",
       "      <td>0MM</td>\n",
       "      <td>0MM</td>\n",
       "      <td>0MM</td>\n",
       "    </tr>\n",
       "    <tr>\n",
       "      <th>50%</th>\n",
       "      <td>0MM</td>\n",
       "      <td>0MM</td>\n",
       "      <td>0MM</td>\n",
       "      <td>0MM</td>\n",
       "      <td>0MM</td>\n",
       "      <td>26MM</td>\n",
       "      <td>0MM</td>\n",
       "      <td>0MM</td>\n",
       "      <td>0MM</td>\n",
       "      <td>0MM</td>\n",
       "      <td>20MM</td>\n",
       "      <td>0MM</td>\n",
       "      <td>0MM</td>\n",
       "      <td>0MM</td>\n",
       "      <td>0MM</td>\n",
       "      <td>0MM</td>\n",
       "    </tr>\n",
       "    <tr>\n",
       "      <th>75%</th>\n",
       "      <td>0MM</td>\n",
       "      <td>0MM</td>\n",
       "      <td>0MM</td>\n",
       "      <td>0MM</td>\n",
       "      <td>0MM</td>\n",
       "      <td>62MM</td>\n",
       "      <td>0MM</td>\n",
       "      <td>0MM</td>\n",
       "      <td>0MM</td>\n",
       "      <td>0MM</td>\n",
       "      <td>45MM</td>\n",
       "      <td>0MM</td>\n",
       "      <td>0MM</td>\n",
       "      <td>0MM</td>\n",
       "      <td>0MM</td>\n",
       "      <td>0MM</td>\n",
       "    </tr>\n",
       "    <tr>\n",
       "      <th>max</th>\n",
       "      <td>0MM</td>\n",
       "      <td>0MM</td>\n",
       "      <td>0MM</td>\n",
       "      <td>0MM</td>\n",
       "      <td>1MM</td>\n",
       "      <td>761MM</td>\n",
       "      <td>2MM</td>\n",
       "      <td>1MM</td>\n",
       "      <td>0MM</td>\n",
       "      <td>0MM</td>\n",
       "      <td>12216MM</td>\n",
       "      <td>0MM</td>\n",
       "      <td>0MM</td>\n",
       "      <td>0MM</td>\n",
       "      <td>0MM</td>\n",
       "      <td>0MM</td>\n",
       "    </tr>\n",
       "  </tbody>\n",
       "</table>\n",
       "</div>"
      ],
      "text/plain": [
       "       num_critic_for_reviews  duration  director_facebook_likes  \\\n",
       "count                     0MM       0MM                      0MM   \n",
       "mean                      0MM       0MM                      0MM   \n",
       "std                       0MM       0MM                      0MM   \n",
       "min                       0MM       0MM                      0MM   \n",
       "25%                       0MM       0MM                      0MM   \n",
       "50%                       0MM       0MM                      0MM   \n",
       "75%                       0MM       0MM                      0MM   \n",
       "max                       0MM       0MM                      0MM   \n",
       "\n",
       "       actor_3_facebook_likes  actor_1_facebook_likes  gross  num_voted_users  \\\n",
       "count                     0MM                     0MM    0MM              0MM   \n",
       "mean                      0MM                     0MM   49MM              0MM   \n",
       "std                       0MM                     0MM   68MM              0MM   \n",
       "min                       0MM                     0MM    0MM              0MM   \n",
       "25%                       0MM                     0MM    5MM              0MM   \n",
       "50%                       0MM                     0MM   26MM              0MM   \n",
       "75%                       0MM                     0MM   62MM              0MM   \n",
       "max                       0MM                     1MM  761MM              2MM   \n",
       "\n",
       "       cast_total_facebook_likes  facenumber_in_poster  num_user_for_reviews  \\\n",
       "count                        0MM                   0MM                   0MM   \n",
       "mean                         0MM                   0MM                   0MM   \n",
       "std                          0MM                   0MM                   0MM   \n",
       "min                          0MM                   0MM                   0MM   \n",
       "25%                          0MM                   0MM                   0MM   \n",
       "50%                          0MM                   0MM                   0MM   \n",
       "75%                          0MM                   0MM                   0MM   \n",
       "max                          1MM                   0MM                   0MM   \n",
       "\n",
       "       budget  title_year  actor_2_facebook_likes  imdb_score  aspect_ratio  \\\n",
       "count     0MM         0MM                     0MM         0MM           0MM   \n",
       "mean     40MM         0MM                     0MM         0MM           0MM   \n",
       "std     206MM         0MM                     0MM         0MM           0MM   \n",
       "min       0MM         0MM                     0MM         0MM           0MM   \n",
       "25%       6MM         0MM                     0MM         0MM           0MM   \n",
       "50%      20MM         0MM                     0MM         0MM           0MM   \n",
       "75%      45MM         0MM                     0MM         0MM           0MM   \n",
       "max   12216MM         0MM                     0MM         0MM           0MM   \n",
       "\n",
       "       movie_facebook_likes  \n",
       "count                   0MM  \n",
       "mean                    0MM  \n",
       "std                     0MM  \n",
       "min                     0MM  \n",
       "25%                     0MM  \n",
       "50%                     0MM  \n",
       "75%                     0MM  \n",
       "max                     0MM  "
      ]
     },
     "execution_count": 258,
     "metadata": {},
     "output_type": "execute_result"
    }
   ],
   "source": [
    "data.describe()"
   ]
  },
  {
   "cell_type": "markdown",
   "metadata": {},
   "source": [
    "Some key points from this table:\n",
    "- Avg movie duration is 107.2 minutes\n",
    "- Avg imdb is 6.44\n",
    "- Avg number of users reviews is 272"
   ]
  },
  {
   "cell_type": "markdown",
   "metadata": {},
   "source": [
    "## Cleaning the data"
   ]
  },
  {
   "cell_type": "markdown",
   "metadata": {},
   "source": [
    "### Dealing with duplicates"
   ]
  },
  {
   "cell_type": "code",
   "execution_count": 259,
   "metadata": {},
   "outputs": [
    {
     "name": "stdout",
     "output_type": "stream",
     "text": [
      "Number of duplicates in data: 241\n"
     ]
    }
   ],
   "source": [
    "print ('Number of duplicates in data: {}'.format(\n",
    "    sum(data.duplicated(subset=['movie_title', 'title_year'], keep=False))))"
   ]
  },
  {
   "cell_type": "code",
   "execution_count": 260,
   "metadata": {},
   "outputs": [],
   "source": [
    "data = data.drop_duplicates(subset=['movie_title', 'title_year'], keep='first').copy()"
   ]
  },
  {
   "cell_type": "markdown",
   "metadata": {},
   "source": [
    "### Fixing Null and some zero values"
   ]
  },
  {
   "cell_type": "code",
   "execution_count": 261,
   "metadata": {},
   "outputs": [
    {
     "data": {
      "text/plain": [
       "True"
      ]
     },
     "execution_count": 261,
     "metadata": {},
     "output_type": "execute_result"
    }
   ],
   "source": [
    "# check if data has any null/nan values\n",
    "data.isnull().values.any()"
   ]
  },
  {
   "cell_type": "code",
   "execution_count": 262,
   "metadata": {},
   "outputs": [
    {
     "data": {
      "text/html": [
       "<div>\n",
       "<style>\n",
       "    .dataframe thead tr:only-child th {\n",
       "        text-align: right;\n",
       "    }\n",
       "\n",
       "    .dataframe thead th {\n",
       "        text-align: left;\n",
       "    }\n",
       "\n",
       "    .dataframe tbody tr th {\n",
       "        vertical-align: top;\n",
       "    }\n",
       "</style>\n",
       "<table border=\"1\" class=\"dataframe\">\n",
       "  <thead>\n",
       "    <tr style=\"text-align: right;\">\n",
       "      <th></th>\n",
       "      <th>column_name</th>\n",
       "      <th>missing_count</th>\n",
       "      <th>filling_factor</th>\n",
       "    </tr>\n",
       "  </thead>\n",
       "  <tbody>\n",
       "    <tr>\n",
       "      <th>0</th>\n",
       "      <td>gross</td>\n",
       "      <td>863</td>\n",
       "      <td>0MM</td>\n",
       "    </tr>\n",
       "    <tr>\n",
       "      <th>1</th>\n",
       "      <td>budget</td>\n",
       "      <td>485</td>\n",
       "      <td>0MM</td>\n",
       "    </tr>\n",
       "    <tr>\n",
       "      <th>2</th>\n",
       "      <td>aspect_ratio</td>\n",
       "      <td>326</td>\n",
       "      <td>0MM</td>\n",
       "    </tr>\n",
       "    <tr>\n",
       "      <th>3</th>\n",
       "      <td>content_rating</td>\n",
       "      <td>301</td>\n",
       "      <td>0MM</td>\n",
       "    </tr>\n",
       "    <tr>\n",
       "      <th>4</th>\n",
       "      <td>plot_keywords</td>\n",
       "      <td>152</td>\n",
       "      <td>0MM</td>\n",
       "    </tr>\n",
       "  </tbody>\n",
       "</table>\n",
       "</div>"
      ],
      "text/plain": [
       "      column_name  missing_count  filling_factor\n",
       "0           gross            863             0MM\n",
       "1          budget            485             0MM\n",
       "2    aspect_ratio            326             0MM\n",
       "3  content_rating            301             0MM\n",
       "4   plot_keywords            152             0MM"
      ]
     },
     "execution_count": 262,
     "metadata": {},
     "output_type": "execute_result"
    }
   ],
   "source": [
    "# Check how many values are null in each column\n",
    "def show_missing_data(data):\n",
    "    missing_data = data.isnull().sum().reset_index()\n",
    "    missing_data.columns = ['column_name', 'missing_count']\n",
    "    missing_data['filling_factor'] = (data.shape[0] - missing_data['missing_count']) / data.shape[0] * 100\n",
    "    return missing_data.sort_values('filling_factor').reset_index(drop=True)\n",
    "\n",
    "show_missing_data(data)[:5]"
   ]
  },
  {
   "cell_type": "markdown",
   "metadata": {},
   "source": [
    "As we are working with the Gross Box Office, rows without it are of no use. So we will exclude those films that are missing the Gross Box Office."
   ]
  },
  {
   "cell_type": "code",
   "execution_count": 263,
   "metadata": {},
   "outputs": [
    {
     "data": {
      "text/html": [
       "<div>\n",
       "<style>\n",
       "    .dataframe thead tr:only-child th {\n",
       "        text-align: right;\n",
       "    }\n",
       "\n",
       "    .dataframe thead th {\n",
       "        text-align: left;\n",
       "    }\n",
       "\n",
       "    .dataframe tbody tr th {\n",
       "        vertical-align: top;\n",
       "    }\n",
       "</style>\n",
       "<table border=\"1\" class=\"dataframe\">\n",
       "  <thead>\n",
       "    <tr style=\"text-align: right;\">\n",
       "      <th></th>\n",
       "      <th>column_name</th>\n",
       "      <th>missing_count</th>\n",
       "      <th>filling_factor</th>\n",
       "    </tr>\n",
       "  </thead>\n",
       "  <tbody>\n",
       "    <tr>\n",
       "      <th>0</th>\n",
       "      <td>budget</td>\n",
       "      <td>266</td>\n",
       "      <td>0MM</td>\n",
       "    </tr>\n",
       "    <tr>\n",
       "      <th>1</th>\n",
       "      <td>aspect_ratio</td>\n",
       "      <td>104</td>\n",
       "      <td>0MM</td>\n",
       "    </tr>\n",
       "    <tr>\n",
       "      <th>2</th>\n",
       "      <td>content_rating</td>\n",
       "      <td>64</td>\n",
       "      <td>0MM</td>\n",
       "    </tr>\n",
       "    <tr>\n",
       "      <th>3</th>\n",
       "      <td>plot_keywords</td>\n",
       "      <td>40</td>\n",
       "      <td>0MM</td>\n",
       "    </tr>\n",
       "    <tr>\n",
       "      <th>4</th>\n",
       "      <td>actor_3_name</td>\n",
       "      <td>13</td>\n",
       "      <td>0MM</td>\n",
       "    </tr>\n",
       "  </tbody>\n",
       "</table>\n",
       "</div>"
      ],
      "text/plain": [
       "      column_name  missing_count  filling_factor\n",
       "0          budget            266             0MM\n",
       "1    aspect_ratio            104             0MM\n",
       "2  content_rating             64             0MM\n",
       "3   plot_keywords             40             0MM\n",
       "4    actor_3_name             13             0MM"
      ]
     },
     "execution_count": 263,
     "metadata": {},
     "output_type": "execute_result"
    }
   ],
   "source": [
    "data.dropna(subset=['gross'], how='all', inplace=True)\n",
    "show_missing_data(data)[:5]"
   ]
  },
  {
   "cell_type": "markdown",
   "metadata": {},
   "source": [
    "Fill out missing budget datapoints with the median budget for the year it was released."
   ]
  },
  {
   "cell_type": "code",
   "execution_count": 264,
   "metadata": {},
   "outputs": [
    {
     "data": {
      "text/html": [
       "<div>\n",
       "<style>\n",
       "    .dataframe thead tr:only-child th {\n",
       "        text-align: right;\n",
       "    }\n",
       "\n",
       "    .dataframe thead th {\n",
       "        text-align: left;\n",
       "    }\n",
       "\n",
       "    .dataframe tbody tr th {\n",
       "        vertical-align: top;\n",
       "    }\n",
       "</style>\n",
       "<table border=\"1\" class=\"dataframe\">\n",
       "  <thead>\n",
       "    <tr style=\"text-align: right;\">\n",
       "      <th></th>\n",
       "      <th>column_name</th>\n",
       "      <th>missing_count</th>\n",
       "      <th>filling_factor</th>\n",
       "    </tr>\n",
       "  </thead>\n",
       "  <tbody>\n",
       "    <tr>\n",
       "      <th>0</th>\n",
       "      <td>aspect_ratio</td>\n",
       "      <td>104</td>\n",
       "      <td>0MM</td>\n",
       "    </tr>\n",
       "    <tr>\n",
       "      <th>1</th>\n",
       "      <td>content_rating</td>\n",
       "      <td>64</td>\n",
       "      <td>0MM</td>\n",
       "    </tr>\n",
       "    <tr>\n",
       "      <th>2</th>\n",
       "      <td>plot_keywords</td>\n",
       "      <td>40</td>\n",
       "      <td>0MM</td>\n",
       "    </tr>\n",
       "    <tr>\n",
       "      <th>3</th>\n",
       "      <td>actor_3_name</td>\n",
       "      <td>13</td>\n",
       "      <td>0MM</td>\n",
       "    </tr>\n",
       "    <tr>\n",
       "      <th>4</th>\n",
       "      <td>actor_3_facebook_likes</td>\n",
       "      <td>13</td>\n",
       "      <td>0MM</td>\n",
       "    </tr>\n",
       "  </tbody>\n",
       "</table>\n",
       "</div>"
      ],
      "text/plain": [
       "              column_name  missing_count  filling_factor\n",
       "0            aspect_ratio            104             0MM\n",
       "1          content_rating             64             0MM\n",
       "2           plot_keywords             40             0MM\n",
       "3            actor_3_name             13             0MM\n",
       "4  actor_3_facebook_likes             13             0MM"
      ]
     },
     "execution_count": 264,
     "metadata": {},
     "output_type": "execute_result"
    }
   ],
   "source": [
    "median_budget_per_year = data.groupby('title_year')['budget'].transform('median')\n",
    "data['budget'].fillna(median_budget_per_year, inplace=True)\n",
    "\n",
    "show_missing_data(data)[:5]"
   ]
  },
  {
   "cell_type": "markdown",
   "metadata": {},
   "source": [
    "Fill out the rest of the missing data"
   ]
  },
  {
   "cell_type": "code",
   "execution_count": 265,
   "metadata": {},
   "outputs": [],
   "source": [
    "data.fillna(0, inplace=True)"
   ]
  },
  {
   "cell_type": "markdown",
   "metadata": {},
   "source": [
    "Delete all rows where `title_year` is zero"
   ]
  },
  {
   "cell_type": "code",
   "execution_count": 266,
   "metadata": {},
   "outputs": [],
   "source": [
    "data = data[data['title_year'] != 0]"
   ]
  },
  {
   "cell_type": "markdown",
   "metadata": {},
   "source": [
    "Budgets are in each country's currency so we are going to use only US movies"
   ]
  },
  {
   "cell_type": "code",
   "execution_count": 267,
   "metadata": {},
   "outputs": [],
   "source": [
    "data = data[data['country'] == 'USA']"
   ]
  },
  {
   "cell_type": "markdown",
   "metadata": {},
   "source": [
    "## Understanding the data"
   ]
  },
  {
   "cell_type": "code",
   "execution_count": 268,
   "metadata": {},
   "outputs": [
    {
     "data": {
      "text/plain": [
       "array([[<matplotlib.axes._subplots.AxesSubplot object at 0x1114f5f60>]], dtype=object)"
      ]
     },
     "execution_count": 268,
     "metadata": {},
     "output_type": "execute_result"
    },
    {
     "data": {
      "image/png": "[encoded data removed]",
      "text/plain": [
       "<matplotlib.figure.Figure at 0x1102d8fd0>"
      ]
     },
     "metadata": {},
     "output_type": "display_data"
    }
   ],
   "source": [
    "# IMDb rating distribution\n",
    "data.hist(column='imdb_score')"
   ]
  },
  {
   "cell_type": "code",
   "execution_count": 269,
   "metadata": {},
   "outputs": [
    {
     "data": {
      "text/plain": [
       "array([[<matplotlib.axes._subplots.AxesSubplot object at 0x10f688048>]], dtype=object)"
      ]
     },
     "execution_count": 269,
     "metadata": {},
     "output_type": "execute_result"
    },
    {
     "data": {
      "image/png": "[encoded data removed]",
      "text/plain": [
       "<matplotlib.figure.Figure at 0x10f68f400>"
      ]
     },
     "metadata": {},
     "output_type": "display_data"
    }
   ],
   "source": [
    "# Movies per year\n",
    "data.hist(column='title_year')"
   ]
  },
  {
   "cell_type": "code",
   "execution_count": 319,
   "metadata": {},
   "outputs": [
    {
     "data": {
      "text/html": [
       "<div>\n",
       "<style>\n",
       "    .dataframe thead tr:only-child th {\n",
       "        text-align: right;\n",
       "    }\n",
       "\n",
       "    .dataframe thead th {\n",
       "        text-align: left;\n",
       "    }\n",
       "\n",
       "    .dataframe tbody tr th {\n",
       "        vertical-align: top;\n",
       "    }\n",
       "</style>\n",
       "<table border=\"1\" class=\"dataframe\">\n",
       "  <thead>\n",
       "    <tr style=\"text-align: right;\">\n",
       "      <th></th>\n",
       "      <th>actor_1_name</th>\n",
       "      <th>gross</th>\n",
       "      <th>films</th>\n",
       "    </tr>\n",
       "  </thead>\n",
       "  <tbody>\n",
       "    <tr>\n",
       "      <th>1010</th>\n",
       "      <td>Robert Pattinson</td>\n",
       "      <td>193MM</td>\n",
       "      <td>5</td>\n",
       "    </tr>\n",
       "    <tr>\n",
       "      <th>541</th>\n",
       "      <td>Jennifer Lawrence</td>\n",
       "      <td>180MM</td>\n",
       "      <td>13</td>\n",
       "    </tr>\n",
       "    <tr>\n",
       "      <th>203</th>\n",
       "      <td>Chris Hemsworth</td>\n",
       "      <td>160MM</td>\n",
       "      <td>13</td>\n",
       "    </tr>\n",
       "    <tr>\n",
       "      <th>1224</th>\n",
       "      <td>Will Smith</td>\n",
       "      <td>152MM</td>\n",
       "      <td>18</td>\n",
       "    </tr>\n",
       "    <tr>\n",
       "      <th>451</th>\n",
       "      <td>Henry Cavill</td>\n",
       "      <td>151MM</td>\n",
       "      <td>5</td>\n",
       "    </tr>\n",
       "    <tr>\n",
       "      <th>1172</th>\n",
       "      <td>Tom Hanks</td>\n",
       "      <td>148MM</td>\n",
       "      <td>23</td>\n",
       "    </tr>\n",
       "    <tr>\n",
       "      <th>437</th>\n",
       "      <td>Harrison Ford</td>\n",
       "      <td>136MM</td>\n",
       "      <td>25</td>\n",
       "    </tr>\n",
       "    <tr>\n",
       "      <th>728</th>\n",
       "      <td>Leonardo DiCaprio</td>\n",
       "      <td>134MM</td>\n",
       "      <td>17</td>\n",
       "    </tr>\n",
       "    <tr>\n",
       "      <th>55</th>\n",
       "      <td>Amy Poehler</td>\n",
       "      <td>131MM</td>\n",
       "      <td>8</td>\n",
       "    </tr>\n",
       "    <tr>\n",
       "      <th>137</th>\n",
       "      <td>Bradley Cooper</td>\n",
       "      <td>128MM</td>\n",
       "      <td>13</td>\n",
       "    </tr>\n",
       "  </tbody>\n",
       "</table>\n",
       "</div>"
      ],
      "text/plain": [
       "           actor_1_name  gross  films\n",
       "1010   Robert Pattinson  193MM      5\n",
       "541   Jennifer Lawrence  180MM     13\n",
       "203     Chris Hemsworth  160MM     13\n",
       "1224         Will Smith  152MM     18\n",
       "451        Henry Cavill  151MM      5\n",
       "1172          Tom Hanks  148MM     23\n",
       "437       Harrison Ford  136MM     25\n",
       "728   Leonardo DiCaprio  134MM     17\n",
       "55          Amy Poehler  131MM      8\n",
       "137      Bradley Cooper  128MM     13"
      ]
     },
     "execution_count": 319,
     "metadata": {},
     "output_type": "execute_result"
    }
   ],
   "source": [
    "# Median gross box office per actor\n",
    "comparison_df = data.groupby('actor_1_name', as_index=False).mean().sort_values('gross', ascending=False)\n",
    "name_count_key = data['actor_1_name'].value_counts().to_dict()\n",
    "comparison_df['films'] = comparison_df['actor_1_name'].map(name_count_key)\n",
    "comparison_df[comparison_df['films'] >= 5][['actor_1_name', 'gross', 'films']][:10]"
   ]
  },
  {
   "cell_type": "code",
   "execution_count": 270,
   "metadata": {},
   "outputs": [
    {
     "data": {
      "text/plain": [
       "<matplotlib.axes._subplots.AxesSubplot at 0x110347400>"
      ]
     },
     "execution_count": 270,
     "metadata": {},
     "output_type": "execute_result"
    },
    {
     "data": {
      "image/png": "[encoded data removed]",
      "text/plain": [
       "<matplotlib.figure.Figure at 0x110ea4f98>"
      ]
     },
     "metadata": {},
     "output_type": "display_data"
    }
   ],
   "source": [
    "# title year vs gross\n",
    "data.plot.scatter(x='title_year', y='gross')"
   ]
  },
  {
   "cell_type": "code",
   "execution_count": 271,
   "metadata": {},
   "outputs": [
    {
     "data": {
      "text/plain": [
       "<matplotlib.axes._subplots.AxesSubplot at 0x110ac1a58>"
      ]
     },
     "execution_count": 271,
     "metadata": {},
     "output_type": "execute_result"
    },
    {
     "data": {
      "image/png": "[encoded data removed]",
      "text/plain": [
       "<matplotlib.figure.Figure at 0x110eff160>"
      ]
     },
     "metadata": {},
     "output_type": "display_data"
    }
   ],
   "source": [
    "# budget vs gross\n",
    "data.plot.scatter(x='budget', y='gross')"
   ]
  },
  {
   "cell_type": "code",
   "execution_count": 272,
   "metadata": {},
   "outputs": [
    {
     "data": {
      "text/html": [
       "<div>\n",
       "<style>\n",
       "    .dataframe thead tr:only-child th {\n",
       "        text-align: right;\n",
       "    }\n",
       "\n",
       "    .dataframe thead th {\n",
       "        text-align: left;\n",
       "    }\n",
       "\n",
       "    .dataframe tbody tr th {\n",
       "        vertical-align: top;\n",
       "    }\n",
       "</style>\n",
       "<table border=\"1\" class=\"dataframe\">\n",
       "  <thead>\n",
       "    <tr style=\"text-align: right;\">\n",
       "      <th></th>\n",
       "      <th>num_critic_for_reviews</th>\n",
       "      <th>duration</th>\n",
       "      <th>director_facebook_likes</th>\n",
       "      <th>actor_3_facebook_likes</th>\n",
       "      <th>actor_1_facebook_likes</th>\n",
       "      <th>gross</th>\n",
       "      <th>num_voted_users</th>\n",
       "      <th>cast_total_facebook_likes</th>\n",
       "      <th>facenumber_in_poster</th>\n",
       "      <th>num_user_for_reviews</th>\n",
       "      <th>budget</th>\n",
       "      <th>title_year</th>\n",
       "      <th>actor_2_facebook_likes</th>\n",
       "      <th>imdb_score</th>\n",
       "      <th>aspect_ratio</th>\n",
       "      <th>movie_facebook_likes</th>\n",
       "    </tr>\n",
       "  </thead>\n",
       "  <tbody>\n",
       "    <tr>\n",
       "      <th>num_critic_for_reviews</th>\n",
       "      <td>0MM</td>\n",
       "      <td>0MM</td>\n",
       "      <td>0MM</td>\n",
       "      <td>0MM</td>\n",
       "      <td>0MM</td>\n",
       "      <td>0MM</td>\n",
       "      <td>0MM</td>\n",
       "      <td>0MM</td>\n",
       "      <td>-0MM</td>\n",
       "      <td>0MM</td>\n",
       "      <td>0MM</td>\n",
       "      <td>0MM</td>\n",
       "      <td>0MM</td>\n",
       "      <td>0MM</td>\n",
       "      <td>0MM</td>\n",
       "      <td>0MM</td>\n",
       "    </tr>\n",
       "    <tr>\n",
       "      <th>duration</th>\n",
       "      <td>0MM</td>\n",
       "      <td>0MM</td>\n",
       "      <td>0MM</td>\n",
       "      <td>0MM</td>\n",
       "      <td>0MM</td>\n",
       "      <td>0MM</td>\n",
       "      <td>0MM</td>\n",
       "      <td>0MM</td>\n",
       "      <td>0MM</td>\n",
       "      <td>0MM</td>\n",
       "      <td>0MM</td>\n",
       "      <td>-0MM</td>\n",
       "      <td>0MM</td>\n",
       "      <td>0MM</td>\n",
       "      <td>0MM</td>\n",
       "      <td>0MM</td>\n",
       "    </tr>\n",
       "    <tr>\n",
       "      <th>director_facebook_likes</th>\n",
       "      <td>0MM</td>\n",
       "      <td>0MM</td>\n",
       "      <td>0MM</td>\n",
       "      <td>0MM</td>\n",
       "      <td>0MM</td>\n",
       "      <td>0MM</td>\n",
       "      <td>0MM</td>\n",
       "      <td>0MM</td>\n",
       "      <td>-0MM</td>\n",
       "      <td>0MM</td>\n",
       "      <td>0MM</td>\n",
       "      <td>-0MM</td>\n",
       "      <td>0MM</td>\n",
       "      <td>0MM</td>\n",
       "      <td>0MM</td>\n",
       "      <td>0MM</td>\n",
       "    </tr>\n",
       "    <tr>\n",
       "      <th>actor_3_facebook_likes</th>\n",
       "      <td>0MM</td>\n",
       "      <td>0MM</td>\n",
       "      <td>0MM</td>\n",
       "      <td>0MM</td>\n",
       "      <td>0MM</td>\n",
       "      <td>0MM</td>\n",
       "      <td>0MM</td>\n",
       "      <td>0MM</td>\n",
       "      <td>0MM</td>\n",
       "      <td>0MM</td>\n",
       "      <td>0MM</td>\n",
       "      <td>0MM</td>\n",
       "      <td>0MM</td>\n",
       "      <td>0MM</td>\n",
       "      <td>0MM</td>\n",
       "      <td>0MM</td>\n",
       "    </tr>\n",
       "    <tr>\n",
       "      <th>actor_1_facebook_likes</th>\n",
       "      <td>0MM</td>\n",
       "      <td>0MM</td>\n",
       "      <td>0MM</td>\n",
       "      <td>0MM</td>\n",
       "      <td>0MM</td>\n",
       "      <td>0MM</td>\n",
       "      <td>0MM</td>\n",
       "      <td>0MM</td>\n",
       "      <td>0MM</td>\n",
       "      <td>0MM</td>\n",
       "      <td>0MM</td>\n",
       "      <td>0MM</td>\n",
       "      <td>0MM</td>\n",
       "      <td>0MM</td>\n",
       "      <td>0MM</td>\n",
       "      <td>0MM</td>\n",
       "    </tr>\n",
       "    <tr>\n",
       "      <th>gross</th>\n",
       "      <td>0MM</td>\n",
       "      <td>0MM</td>\n",
       "      <td>0MM</td>\n",
       "      <td>0MM</td>\n",
       "      <td>0MM</td>\n",
       "      <td>0MM</td>\n",
       "      <td>0MM</td>\n",
       "      <td>0MM</td>\n",
       "      <td>-0MM</td>\n",
       "      <td>0MM</td>\n",
       "      <td>0MM</td>\n",
       "      <td>0MM</td>\n",
       "      <td>0MM</td>\n",
       "      <td>0MM</td>\n",
       "      <td>0MM</td>\n",
       "      <td>0MM</td>\n",
       "    </tr>\n",
       "    <tr>\n",
       "      <th>num_voted_users</th>\n",
       "      <td>0MM</td>\n",
       "      <td>0MM</td>\n",
       "      <td>0MM</td>\n",
       "      <td>0MM</td>\n",
       "      <td>0MM</td>\n",
       "      <td>0MM</td>\n",
       "      <td>0MM</td>\n",
       "      <td>0MM</td>\n",
       "      <td>-0MM</td>\n",
       "      <td>0MM</td>\n",
       "      <td>0MM</td>\n",
       "      <td>0MM</td>\n",
       "      <td>0MM</td>\n",
       "      <td>0MM</td>\n",
       "      <td>0MM</td>\n",
       "      <td>0MM</td>\n",
       "    </tr>\n",
       "    <tr>\n",
       "      <th>cast_total_facebook_likes</th>\n",
       "      <td>0MM</td>\n",
       "      <td>0MM</td>\n",
       "      <td>0MM</td>\n",
       "      <td>0MM</td>\n",
       "      <td>0MM</td>\n",
       "      <td>0MM</td>\n",
       "      <td>0MM</td>\n",
       "      <td>0MM</td>\n",
       "      <td>0MM</td>\n",
       "      <td>0MM</td>\n",
       "      <td>0MM</td>\n",
       "      <td>0MM</td>\n",
       "      <td>0MM</td>\n",
       "      <td>0MM</td>\n",
       "      <td>0MM</td>\n",
       "      <td>0MM</td>\n",
       "    </tr>\n",
       "    <tr>\n",
       "      <th>facenumber_in_poster</th>\n",
       "      <td>-0MM</td>\n",
       "      <td>0MM</td>\n",
       "      <td>-0MM</td>\n",
       "      <td>0MM</td>\n",
       "      <td>0MM</td>\n",
       "      <td>-0MM</td>\n",
       "      <td>-0MM</td>\n",
       "      <td>0MM</td>\n",
       "      <td>0MM</td>\n",
       "      <td>-0MM</td>\n",
       "      <td>-0MM</td>\n",
       "      <td>0MM</td>\n",
       "      <td>0MM</td>\n",
       "      <td>-0MM</td>\n",
       "      <td>0MM</td>\n",
       "      <td>0MM</td>\n",
       "    </tr>\n",
       "    <tr>\n",
       "      <th>num_user_for_reviews</th>\n",
       "      <td>0MM</td>\n",
       "      <td>0MM</td>\n",
       "      <td>0MM</td>\n",
       "      <td>0MM</td>\n",
       "      <td>0MM</td>\n",
       "      <td>0MM</td>\n",
       "      <td>0MM</td>\n",
       "      <td>0MM</td>\n",
       "      <td>-0MM</td>\n",
       "      <td>0MM</td>\n",
       "      <td>0MM</td>\n",
       "      <td>0MM</td>\n",
       "      <td>0MM</td>\n",
       "      <td>0MM</td>\n",
       "      <td>0MM</td>\n",
       "      <td>0MM</td>\n",
       "    </tr>\n",
       "    <tr>\n",
       "      <th>budget</th>\n",
       "      <td>0MM</td>\n",
       "      <td>0MM</td>\n",
       "      <td>0MM</td>\n",
       "      <td>0MM</td>\n",
       "      <td>0MM</td>\n",
       "      <td>0MM</td>\n",
       "      <td>0MM</td>\n",
       "      <td>0MM</td>\n",
       "      <td>-0MM</td>\n",
       "      <td>0MM</td>\n",
       "      <td>0MM</td>\n",
       "      <td>0MM</td>\n",
       "      <td>0MM</td>\n",
       "      <td>0MM</td>\n",
       "      <td>0MM</td>\n",
       "      <td>0MM</td>\n",
       "    </tr>\n",
       "    <tr>\n",
       "      <th>title_year</th>\n",
       "      <td>0MM</td>\n",
       "      <td>-0MM</td>\n",
       "      <td>-0MM</td>\n",
       "      <td>0MM</td>\n",
       "      <td>0MM</td>\n",
       "      <td>0MM</td>\n",
       "      <td>0MM</td>\n",
       "      <td>0MM</td>\n",
       "      <td>0MM</td>\n",
       "      <td>0MM</td>\n",
       "      <td>0MM</td>\n",
       "      <td>0MM</td>\n",
       "      <td>0MM</td>\n",
       "      <td>-0MM</td>\n",
       "      <td>0MM</td>\n",
       "      <td>0MM</td>\n",
       "    </tr>\n",
       "    <tr>\n",
       "      <th>actor_2_facebook_likes</th>\n",
       "      <td>0MM</td>\n",
       "      <td>0MM</td>\n",
       "      <td>0MM</td>\n",
       "      <td>0MM</td>\n",
       "      <td>0MM</td>\n",
       "      <td>0MM</td>\n",
       "      <td>0MM</td>\n",
       "      <td>0MM</td>\n",
       "      <td>0MM</td>\n",
       "      <td>0MM</td>\n",
       "      <td>0MM</td>\n",
       "      <td>0MM</td>\n",
       "      <td>0MM</td>\n",
       "      <td>0MM</td>\n",
       "      <td>0MM</td>\n",
       "      <td>0MM</td>\n",
       "    </tr>\n",
       "    <tr>\n",
       "      <th>imdb_score</th>\n",
       "      <td>0MM</td>\n",
       "      <td>0MM</td>\n",
       "      <td>0MM</td>\n",
       "      <td>0MM</td>\n",
       "      <td>0MM</td>\n",
       "      <td>0MM</td>\n",
       "      <td>0MM</td>\n",
       "      <td>0MM</td>\n",
       "      <td>-0MM</td>\n",
       "      <td>0MM</td>\n",
       "      <td>0MM</td>\n",
       "      <td>-0MM</td>\n",
       "      <td>0MM</td>\n",
       "      <td>0MM</td>\n",
       "      <td>0MM</td>\n",
       "      <td>0MM</td>\n",
       "    </tr>\n",
       "    <tr>\n",
       "      <th>aspect_ratio</th>\n",
       "      <td>0MM</td>\n",
       "      <td>0MM</td>\n",
       "      <td>0MM</td>\n",
       "      <td>0MM</td>\n",
       "      <td>0MM</td>\n",
       "      <td>0MM</td>\n",
       "      <td>0MM</td>\n",
       "      <td>0MM</td>\n",
       "      <td>0MM</td>\n",
       "      <td>0MM</td>\n",
       "      <td>0MM</td>\n",
       "      <td>0MM</td>\n",
       "      <td>0MM</td>\n",
       "      <td>0MM</td>\n",
       "      <td>0MM</td>\n",
       "      <td>0MM</td>\n",
       "    </tr>\n",
       "    <tr>\n",
       "      <th>movie_facebook_likes</th>\n",
       "      <td>0MM</td>\n",
       "      <td>0MM</td>\n",
       "      <td>0MM</td>\n",
       "      <td>0MM</td>\n",
       "      <td>0MM</td>\n",
       "      <td>0MM</td>\n",
       "      <td>0MM</td>\n",
       "      <td>0MM</td>\n",
       "      <td>0MM</td>\n",
       "      <td>0MM</td>\n",
       "      <td>0MM</td>\n",
       "      <td>0MM</td>\n",
       "      <td>0MM</td>\n",
       "      <td>0MM</td>\n",
       "      <td>0MM</td>\n",
       "      <td>0MM</td>\n",
       "    </tr>\n",
       "  </tbody>\n",
       "</table>\n",
       "</div>"
      ],
      "text/plain": [
       "                           num_critic_for_reviews  duration  \\\n",
       "num_critic_for_reviews                        0MM       0MM   \n",
       "duration                                      0MM       0MM   \n",
       "director_facebook_likes                       0MM       0MM   \n",
       "actor_3_facebook_likes                        0MM       0MM   \n",
       "actor_1_facebook_likes                        0MM       0MM   \n",
       "gross                                         0MM       0MM   \n",
       "num_voted_users                               0MM       0MM   \n",
       "cast_total_facebook_likes                     0MM       0MM   \n",
       "facenumber_in_poster                         -0MM       0MM   \n",
       "num_user_for_reviews                          0MM       0MM   \n",
       "budget                                        0MM       0MM   \n",
       "title_year                                    0MM      -0MM   \n",
       "actor_2_facebook_likes                        0MM       0MM   \n",
       "imdb_score                                    0MM       0MM   \n",
       "aspect_ratio                                  0MM       0MM   \n",
       "movie_facebook_likes                          0MM       0MM   \n",
       "\n",
       "                           director_facebook_likes  actor_3_facebook_likes  \\\n",
       "num_critic_for_reviews                         0MM                     0MM   \n",
       "duration                                       0MM                     0MM   \n",
       "director_facebook_likes                        0MM                     0MM   \n",
       "actor_3_facebook_likes                         0MM                     0MM   \n",
       "actor_1_facebook_likes                         0MM                     0MM   \n",
       "gross                                          0MM                     0MM   \n",
       "num_voted_users                                0MM                     0MM   \n",
       "cast_total_facebook_likes                      0MM                     0MM   \n",
       "facenumber_in_poster                          -0MM                     0MM   \n",
       "num_user_for_reviews                           0MM                     0MM   \n",
       "budget                                         0MM                     0MM   \n",
       "title_year                                    -0MM                     0MM   \n",
       "actor_2_facebook_likes                         0MM                     0MM   \n",
       "imdb_score                                     0MM                     0MM   \n",
       "aspect_ratio                                   0MM                     0MM   \n",
       "movie_facebook_likes                           0MM                     0MM   \n",
       "\n",
       "                           actor_1_facebook_likes  gross  num_voted_users  \\\n",
       "num_critic_for_reviews                        0MM    0MM              0MM   \n",
       "duration                                      0MM    0MM              0MM   \n",
       "director_facebook_likes                       0MM    0MM              0MM   \n",
       "actor_3_facebook_likes                        0MM    0MM              0MM   \n",
       "actor_1_facebook_likes                        0MM    0MM              0MM   \n",
       "gross                                         0MM    0MM              0MM   \n",
       "num_voted_users                               0MM    0MM              0MM   \n",
       "cast_total_facebook_likes                     0MM    0MM              0MM   \n",
       "facenumber_in_poster                          0MM   -0MM             -0MM   \n",
       "num_user_for_reviews                          0MM    0MM              0MM   \n",
       "budget                                        0MM    0MM              0MM   \n",
       "title_year                                    0MM    0MM              0MM   \n",
       "actor_2_facebook_likes                        0MM    0MM              0MM   \n",
       "imdb_score                                    0MM    0MM              0MM   \n",
       "aspect_ratio                                  0MM    0MM              0MM   \n",
       "movie_facebook_likes                          0MM    0MM              0MM   \n",
       "\n",
       "                           cast_total_facebook_likes  facenumber_in_poster  \\\n",
       "num_critic_for_reviews                           0MM                  -0MM   \n",
       "duration                                         0MM                   0MM   \n",
       "director_facebook_likes                          0MM                  -0MM   \n",
       "actor_3_facebook_likes                           0MM                   0MM   \n",
       "actor_1_facebook_likes                           0MM                   0MM   \n",
       "gross                                            0MM                  -0MM   \n",
       "num_voted_users                                  0MM                  -0MM   \n",
       "cast_total_facebook_likes                        0MM                   0MM   \n",
       "facenumber_in_poster                             0MM                   0MM   \n",
       "num_user_for_reviews                             0MM                  -0MM   \n",
       "budget                                           0MM                  -0MM   \n",
       "title_year                                       0MM                   0MM   \n",
       "actor_2_facebook_likes                           0MM                   0MM   \n",
       "imdb_score                                       0MM                  -0MM   \n",
       "aspect_ratio                                     0MM                   0MM   \n",
       "movie_facebook_likes                             0MM                   0MM   \n",
       "\n",
       "                           num_user_for_reviews  budget  title_year  \\\n",
       "num_critic_for_reviews                      0MM     0MM         0MM   \n",
       "duration                                    0MM     0MM        -0MM   \n",
       "director_facebook_likes                     0MM     0MM        -0MM   \n",
       "actor_3_facebook_likes                      0MM     0MM         0MM   \n",
       "actor_1_facebook_likes                      0MM     0MM         0MM   \n",
       "gross                                       0MM     0MM         0MM   \n",
       "num_voted_users                             0MM     0MM         0MM   \n",
       "cast_total_facebook_likes                   0MM     0MM         0MM   \n",
       "facenumber_in_poster                       -0MM    -0MM         0MM   \n",
       "num_user_for_reviews                        0MM     0MM         0MM   \n",
       "budget                                      0MM     0MM         0MM   \n",
       "title_year                                  0MM     0MM         0MM   \n",
       "actor_2_facebook_likes                      0MM     0MM         0MM   \n",
       "imdb_score                                  0MM     0MM        -0MM   \n",
       "aspect_ratio                                0MM     0MM         0MM   \n",
       "movie_facebook_likes                        0MM     0MM         0MM   \n",
       "\n",
       "                           actor_2_facebook_likes  imdb_score  aspect_ratio  \\\n",
       "num_critic_for_reviews                        0MM         0MM           0MM   \n",
       "duration                                      0MM         0MM           0MM   \n",
       "director_facebook_likes                       0MM         0MM           0MM   \n",
       "actor_3_facebook_likes                        0MM         0MM           0MM   \n",
       "actor_1_facebook_likes                        0MM         0MM           0MM   \n",
       "gross                                         0MM         0MM           0MM   \n",
       "num_voted_users                               0MM         0MM           0MM   \n",
       "cast_total_facebook_likes                     0MM         0MM           0MM   \n",
       "facenumber_in_poster                          0MM        -0MM           0MM   \n",
       "num_user_for_reviews                          0MM         0MM           0MM   \n",
       "budget                                        0MM         0MM           0MM   \n",
       "title_year                                    0MM        -0MM           0MM   \n",
       "actor_2_facebook_likes                        0MM         0MM           0MM   \n",
       "imdb_score                                    0MM         0MM           0MM   \n",
       "aspect_ratio                                  0MM         0MM           0MM   \n",
       "movie_facebook_likes                          0MM         0MM           0MM   \n",
       "\n",
       "                           movie_facebook_likes  \n",
       "num_critic_for_reviews                      0MM  \n",
       "duration                                    0MM  \n",
       "director_facebook_likes                     0MM  \n",
       "actor_3_facebook_likes                      0MM  \n",
       "actor_1_facebook_likes                      0MM  \n",
       "gross                                       0MM  \n",
       "num_voted_users                             0MM  \n",
       "cast_total_facebook_likes                   0MM  \n",
       "facenumber_in_poster                        0MM  \n",
       "num_user_for_reviews                        0MM  \n",
       "budget                                      0MM  \n",
       "title_year                                  0MM  \n",
       "actor_2_facebook_likes                      0MM  \n",
       "imdb_score                                  0MM  \n",
       "aspect_ratio                                0MM  \n",
       "movie_facebook_likes                        0MM  "
      ]
     },
     "execution_count": 272,
     "metadata": {},
     "output_type": "execute_result"
    }
   ],
   "source": [
    "data.corr()"
   ]
  },
  {
   "cell_type": "code",
   "execution_count": 273,
   "metadata": {},
   "outputs": [
    {
     "data": {
      "text/plain": [
       "<matplotlib.axes._subplots.AxesSubplot at 0x110efe898>"
      ]
     },
     "execution_count": 273,
     "metadata": {},
     "output_type": "execute_result"
    },
    {
     "data": {
      "image/png": "[encoded data removed]",
      "text/plain": [
       "<matplotlib.figure.Figure at 0x110ef8438>"
      ]
     },
     "metadata": {},
     "output_type": "display_data"
    }
   ],
   "source": [
    "# Set up the matplotlib figure\n",
    "f, ax = plt.subplots(figsize=(12, 10))\n",
    "plt.title('Pearson Correlation of Movie Features')\n",
    "\n",
    "# Draw the heatmap using seaborn\n",
    "sns.heatmap(data.corr(),linewidths=0.25,vmax=1.0, square=True, cmap=\"YlGnBu\", linecolor='black', annot=True)"
   ]
  },
  {
   "cell_type": "markdown",
   "metadata": {},
   "source": [
    "As we can see from the heatmap, there are regions (features) where we can see quite positive linear correlations amongst each other, given the darker shade of the colours - top left-hand corner and bottom right quarter. This is a good sign as it means we may be able to find linearly correlated features for which we can perform PCA projections on."
   ]
  },
  {
   "cell_type": "code",
   "execution_count": 274,
   "metadata": {
    "scrolled": true
   },
   "outputs": [
    {
     "data": {
      "text/plain": [
       "gross                        0MM\n",
       "budget                       0MM\n",
       "num_voted_users              0MM\n",
       "num_user_for_reviews         0MM\n",
       "num_critic_for_reviews       0MM\n",
       "movie_facebook_likes         0MM\n",
       "duration                     0MM\n",
       "actor_3_facebook_likes       0MM\n",
       "imdb_score                   0MM\n",
       "actor_2_facebook_likes       0MM\n",
       "cast_total_facebook_likes    0MM\n",
       "director_facebook_likes      0MM\n",
       "actor_1_facebook_likes       0MM\n",
       "aspect_ratio                 0MM\n",
       "title_year                   0MM\n",
       "facenumber_in_poster        -0MM\n",
       "Name: gross, dtype: float64"
      ]
     },
     "execution_count": 274,
     "metadata": {},
     "output_type": "execute_result"
    }
   ],
   "source": [
    "data.corr()['gross'].sort_values(ascending=False)"
   ]
  },
  {
   "cell_type": "markdown",
   "metadata": {},
   "source": [
    "The gross box office correlates strongly with num_voted_users, num_users_for_reviews and movie_facebook_likes. But some of those features are also highly correlated among each other (as you can see in the heatmap above)."
   ]
  },
  {
   "cell_type": "markdown",
   "metadata": {},
   "source": [
    "## Gross Box Office Prediction"
   ]
  },
  {
   "cell_type": "markdown",
   "metadata": {},
   "source": [
    "### Getting numerical data"
   ]
  },
  {
   "cell_type": "code",
   "execution_count": 275,
   "metadata": {},
   "outputs": [
    {
     "data": {
      "text/html": [
       "<div>\n",
       "<style>\n",
       "    .dataframe thead tr:only-child th {\n",
       "        text-align: right;\n",
       "    }\n",
       "\n",
       "    .dataframe thead th {\n",
       "        text-align: left;\n",
       "    }\n",
       "\n",
       "    .dataframe tbody tr th {\n",
       "        vertical-align: top;\n",
       "    }\n",
       "</style>\n",
       "<table border=\"1\" class=\"dataframe\">\n",
       "  <thead>\n",
       "    <tr style=\"text-align: right;\">\n",
       "      <th></th>\n",
       "      <th>num_critic_for_reviews</th>\n",
       "      <th>duration</th>\n",
       "      <th>director_facebook_likes</th>\n",
       "      <th>actor_3_facebook_likes</th>\n",
       "      <th>actor_1_facebook_likes</th>\n",
       "      <th>gross</th>\n",
       "      <th>num_voted_users</th>\n",
       "      <th>cast_total_facebook_likes</th>\n",
       "      <th>facenumber_in_poster</th>\n",
       "      <th>num_user_for_reviews</th>\n",
       "      <th>budget</th>\n",
       "      <th>title_year</th>\n",
       "      <th>actor_2_facebook_likes</th>\n",
       "      <th>imdb_score</th>\n",
       "      <th>movie_facebook_likes</th>\n",
       "    </tr>\n",
       "  </thead>\n",
       "  <tbody>\n",
       "    <tr>\n",
       "      <th>0</th>\n",
       "      <td>0MM</td>\n",
       "      <td>0MM</td>\n",
       "      <td>0MM</td>\n",
       "      <td>0MM</td>\n",
       "      <td>0MM</td>\n",
       "      <td>761MM</td>\n",
       "      <td>886204</td>\n",
       "      <td>4834</td>\n",
       "      <td>0MM</td>\n",
       "      <td>0MM</td>\n",
       "      <td>237MM</td>\n",
       "      <td>0MM</td>\n",
       "      <td>0MM</td>\n",
       "      <td>0MM</td>\n",
       "      <td>33000</td>\n",
       "    </tr>\n",
       "    <tr>\n",
       "      <th>1</th>\n",
       "      <td>0MM</td>\n",
       "      <td>0MM</td>\n",
       "      <td>0MM</td>\n",
       "      <td>0MM</td>\n",
       "      <td>0MM</td>\n",
       "      <td>309MM</td>\n",
       "      <td>471220</td>\n",
       "      <td>48350</td>\n",
       "      <td>0MM</td>\n",
       "      <td>0MM</td>\n",
       "      <td>300MM</td>\n",
       "      <td>0MM</td>\n",
       "      <td>0MM</td>\n",
       "      <td>0MM</td>\n",
       "      <td>0</td>\n",
       "    </tr>\n",
       "  </tbody>\n",
       "</table>\n",
       "</div>"
      ],
      "text/plain": [
       "   num_critic_for_reviews  duration  director_facebook_likes  \\\n",
       "0                     0MM       0MM                      0MM   \n",
       "1                     0MM       0MM                      0MM   \n",
       "\n",
       "   actor_3_facebook_likes  actor_1_facebook_likes  gross  num_voted_users  \\\n",
       "0                     0MM                     0MM  761MM           886204   \n",
       "1                     0MM                     0MM  309MM           471220   \n",
       "\n",
       "   cast_total_facebook_likes  facenumber_in_poster  num_user_for_reviews  \\\n",
       "0                       4834                   0MM                   0MM   \n",
       "1                      48350                   0MM                   0MM   \n",
       "\n",
       "   budget  title_year  actor_2_facebook_likes  imdb_score  \\\n",
       "0   237MM         0MM                     0MM         0MM   \n",
       "1   300MM         0MM                     0MM         0MM   \n",
       "\n",
       "   movie_facebook_likes  \n",
       "0                 33000  \n",
       "1                     0  "
      ]
     },
     "execution_count": 275,
     "metadata": {},
     "output_type": "execute_result"
    }
   ],
   "source": [
    "numerical_columns = data.dtypes[data.dtypes != 'object'].index\n",
    "numerical_data = data[numerical_columns]\n",
    "\n",
    "# we drop aspect_ratio, as it doesn't provide any useful info\n",
    "numerical_data.drop('aspect_ratio', axis=1, inplace=True)\n",
    "numerical_data.head(2)"
   ]
  },
  {
   "cell_type": "markdown",
   "metadata": {},
   "source": [
    "### Preparing train and test datasets"
   ]
  },
  {
   "cell_type": "code",
   "execution_count": 276,
   "metadata": {},
   "outputs": [],
   "source": [
    "train, test = train_test_split(numerical_data, test_size=0.2)\n",
    "target_train = train.pop('gross')\n",
    "target_test = test.pop('gross')"
   ]
  },
  {
   "cell_type": "code",
   "execution_count": 277,
   "metadata": {},
   "outputs": [
    {
     "name": "stdout",
     "output_type": "stream",
     "text": [
      "Train data: 2523 / 3154 = 0.7999365884590995\n",
      "Test data: 631 / 3154 = 0.20006341154090043\n"
     ]
    }
   ],
   "source": [
    "print('Train data: {} / {} = {}'.format(len(train), len(numerical_data), float(len(train)/len(numerical_data))))\n",
    "print('Test data: {} / {} = {}'.format(len(test), len(numerical_data), float(len(test)/len(numerical_data))))"
   ]
  },
  {
   "cell_type": "markdown",
   "metadata": {},
   "source": [
    "### Linear Regression"
   ]
  },
  {
   "cell_type": "code",
   "execution_count": 278,
   "metadata": {
    "scrolled": true
   },
   "outputs": [
    {
     "data": {
      "text/plain": [
       "LinearRegression(copy_X=True, fit_intercept=True, n_jobs=1, normalize=False)"
      ]
     },
     "execution_count": 278,
     "metadata": {},
     "output_type": "execute_result"
    }
   ],
   "source": [
    "model = LinearRegression()\n",
    "model.fit(train, target_train)"
   ]
  },
  {
   "cell_type": "code",
   "execution_count": 279,
   "metadata": {},
   "outputs": [],
   "source": [
    "prediction = model.predict(test)"
   ]
  },
  {
   "cell_type": "code",
   "execution_count": 280,
   "metadata": {},
   "outputs": [
    {
     "name": "stdout",
     "output_type": "stream",
     "text": [
      "Mean squared error: 2092850258364196.00\n",
      "Variance score: 0.57\n"
     ]
    },
    {
     "data": {
      "image/png": "[encoded data removed]",
      "text/plain": [
       "<matplotlib.figure.Figure at 0x110d20e10>"
      ]
     },
     "metadata": {},
     "output_type": "display_data"
    }
   ],
   "source": [
    "# The mean squared error\n",
    "print(\"Mean squared error: %.2f\" % mean_squared_error(target_test, prediction))\n",
    "\n",
    "# Explained variance score: 1 is perfect prediction\n",
    "print('Variance score: %.2f' % r2_score(target_test, prediction))\n",
    "\n",
    "# Plot outputs\n",
    "plt.scatter(target_test, prediction,  color='black')\n",
    "# plt.plot(test, prediction, color='blue', linewidth=3)\n",
    "\n",
    "\n",
    "plt.show()"
   ]
  },
  {
   "cell_type": "markdown",
   "metadata": {},
   "source": [
    "### Random Forest"
   ]
  },
  {
   "cell_type": "code",
   "execution_count": 281,
   "metadata": {},
   "outputs": [
    {
     "data": {
      "text/plain": [
       "RandomForestRegressor(bootstrap=True, criterion='mse', max_depth=25,\n",
       "           max_features='auto', max_leaf_nodes=None,\n",
       "           min_impurity_decrease=0.0, min_impurity_split=None,\n",
       "           min_samples_leaf=1, min_samples_split=15,\n",
       "           min_weight_fraction_leaf=0.0, n_estimators=1000, n_jobs=1,\n",
       "           oob_score=False, random_state=1, verbose=0, warm_start=False)"
      ]
     },
     "execution_count": 281,
     "metadata": {},
     "output_type": "execute_result"
    }
   ],
   "source": [
    "forest = RandomForestRegressor(\n",
    "    max_depth=25,\n",
    "    min_samples_split=15,\n",
    "    n_estimators=1000,\n",
    "    random_state=1)\n",
    "\n",
    "forest.fit(train, target_train)"
   ]
  },
  {
   "cell_type": "code",
   "execution_count": 282,
   "metadata": {},
   "outputs": [
    {
     "data": {
      "text/plain": [
       "array([ 0.03096896,  0.0255039 ,  0.01372093,  0.01241161,  0.01203248,\n",
       "        0.55398537,  0.01626694,  0.0037742 ,  0.03256502,  0.22040005,\n",
       "        0.03298063,  0.01266119,  0.01791057,  0.01481815])"
      ]
     },
     "execution_count": 282,
     "metadata": {},
     "output_type": "execute_result"
    }
   ],
   "source": [
    "forest.feature_importances_"
   ]
  },
  {
   "cell_type": "code",
   "execution_count": 283,
   "metadata": {},
   "outputs": [],
   "source": [
    "forest_prediction = forest.predict(test)"
   ]
  },
  {
   "cell_type": "code",
   "execution_count": 284,
   "metadata": {},
   "outputs": [
    {
     "name": "stdout",
     "output_type": "stream",
     "text": [
      "Mean squared error: 1771456081319270.75\n",
      "Variance score: 0.63\n"
     ]
    },
    {
     "data": {
      "image/png": "[encoded data removed]",
      "text/plain": [
       "<matplotlib.figure.Figure at 0x1114c6278>"
      ]
     },
     "metadata": {},
     "output_type": "display_data"
    }
   ],
   "source": [
    "# The mean squared error\n",
    "print(\"Mean squared error: %.2f\" % mean_squared_error(target_test, forest_prediction))\n",
    "\n",
    "# Explained variance score: 1 is perfect prediction\n",
    "print('Variance score: %.2f' % r2_score(target_test, forest_prediction))\n",
    "\n",
    "# Plot outputs\n",
    "plt.scatter(target_test, forest_prediction,  color='black')\n",
    "# plt.plot(test, prediction, color='blue', linewidth=3)\n",
    "\n",
    "\n",
    "plt.show()"
   ]
  },
  {
   "cell_type": "markdown",
   "metadata": {},
   "source": [
    "## Dropping post-fact data"
   ]
  },
  {
   "cell_type": "markdown",
   "metadata": {},
   "source": [
    "There are post-fact variables in our data set making the prediction more accurate. Things like `num_voted_users` and `num_user_for_reviews` are after the fact metrics, so probably not as useful for prediction."
   ]
  },
  {
   "cell_type": "code",
   "execution_count": 285,
   "metadata": {},
   "outputs": [
    {
     "data": {
      "text/html": [
       "<div>\n",
       "<style>\n",
       "    .dataframe thead tr:only-child th {\n",
       "        text-align: right;\n",
       "    }\n",
       "\n",
       "    .dataframe thead th {\n",
       "        text-align: left;\n",
       "    }\n",
       "\n",
       "    .dataframe tbody tr th {\n",
       "        vertical-align: top;\n",
       "    }\n",
       "</style>\n",
       "<table border=\"1\" class=\"dataframe\">\n",
       "  <thead>\n",
       "    <tr style=\"text-align: right;\">\n",
       "      <th></th>\n",
       "      <th>num_critic_for_reviews</th>\n",
       "      <th>duration</th>\n",
       "      <th>director_facebook_likes</th>\n",
       "      <th>actor_3_facebook_likes</th>\n",
       "      <th>actor_1_facebook_likes</th>\n",
       "      <th>num_voted_users</th>\n",
       "      <th>cast_total_facebook_likes</th>\n",
       "      <th>facenumber_in_poster</th>\n",
       "      <th>num_user_for_reviews</th>\n",
       "      <th>budget</th>\n",
       "      <th>title_year</th>\n",
       "      <th>actor_2_facebook_likes</th>\n",
       "      <th>imdb_score</th>\n",
       "      <th>movie_facebook_likes</th>\n",
       "    </tr>\n",
       "  </thead>\n",
       "  <tbody>\n",
       "    <tr>\n",
       "      <th>4201</th>\n",
       "      <td>0MM</td>\n",
       "      <td>0MM</td>\n",
       "      <td>0MM</td>\n",
       "      <td>0MM</td>\n",
       "      <td>0MM</td>\n",
       "      <td>91</td>\n",
       "      <td>1064</td>\n",
       "      <td>0MM</td>\n",
       "      <td>0MM</td>\n",
       "      <td>2MM</td>\n",
       "      <td>0MM</td>\n",
       "      <td>0MM</td>\n",
       "      <td>0MM</td>\n",
       "      <td>144</td>\n",
       "    </tr>\n",
       "    <tr>\n",
       "      <th>4677</th>\n",
       "      <td>0MM</td>\n",
       "      <td>0MM</td>\n",
       "      <td>0MM</td>\n",
       "      <td>0MM</td>\n",
       "      <td>0MM</td>\n",
       "      <td>101287</td>\n",
       "      <td>2714</td>\n",
       "      <td>0MM</td>\n",
       "      <td>0MM</td>\n",
       "      <td>1MM</td>\n",
       "      <td>0MM</td>\n",
       "      <td>0MM</td>\n",
       "      <td>0MM</td>\n",
       "      <td>31000</td>\n",
       "    </tr>\n",
       "  </tbody>\n",
       "</table>\n",
       "</div>"
      ],
      "text/plain": [
       "      num_critic_for_reviews  duration  director_facebook_likes  \\\n",
       "4201                     0MM       0MM                      0MM   \n",
       "4677                     0MM       0MM                      0MM   \n",
       "\n",
       "      actor_3_facebook_likes  actor_1_facebook_likes  num_voted_users  \\\n",
       "4201                     0MM                     0MM               91   \n",
       "4677                     0MM                     0MM           101287   \n",
       "\n",
       "      cast_total_facebook_likes  facenumber_in_poster  num_user_for_reviews  \\\n",
       "4201                       1064                   0MM                   0MM   \n",
       "4677                       2714                   0MM                   0MM   \n",
       "\n",
       "      budget  title_year  actor_2_facebook_likes  imdb_score  \\\n",
       "4201     2MM         0MM                     0MM         0MM   \n",
       "4677     1MM         0MM                     0MM         0MM   \n",
       "\n",
       "      movie_facebook_likes  \n",
       "4201                   144  \n",
       "4677                 31000  "
      ]
     },
     "execution_count": 285,
     "metadata": {},
     "output_type": "execute_result"
    }
   ],
   "source": [
    "train.head(2)"
   ]
  },
  {
   "cell_type": "code",
   "execution_count": 286,
   "metadata": {},
   "outputs": [
    {
     "data": {
      "text/html": [
       "<div>\n",
       "<style>\n",
       "    .dataframe thead tr:only-child th {\n",
       "        text-align: right;\n",
       "    }\n",
       "\n",
       "    .dataframe thead th {\n",
       "        text-align: left;\n",
       "    }\n",
       "\n",
       "    .dataframe tbody tr th {\n",
       "        vertical-align: top;\n",
       "    }\n",
       "</style>\n",
       "<table border=\"1\" class=\"dataframe\">\n",
       "  <thead>\n",
       "    <tr style=\"text-align: right;\">\n",
       "      <th></th>\n",
       "      <th>duration</th>\n",
       "      <th>director_facebook_likes</th>\n",
       "      <th>actor_3_facebook_likes</th>\n",
       "      <th>actor_1_facebook_likes</th>\n",
       "      <th>cast_total_facebook_likes</th>\n",
       "      <th>facenumber_in_poster</th>\n",
       "      <th>budget</th>\n",
       "      <th>title_year</th>\n",
       "      <th>actor_2_facebook_likes</th>\n",
       "    </tr>\n",
       "  </thead>\n",
       "  <tbody>\n",
       "    <tr>\n",
       "      <th>4201</th>\n",
       "      <td>0MM</td>\n",
       "      <td>0MM</td>\n",
       "      <td>0MM</td>\n",
       "      <td>0MM</td>\n",
       "      <td>1064</td>\n",
       "      <td>0MM</td>\n",
       "      <td>2MM</td>\n",
       "      <td>0MM</td>\n",
       "      <td>0MM</td>\n",
       "    </tr>\n",
       "    <tr>\n",
       "      <th>4677</th>\n",
       "      <td>0MM</td>\n",
       "      <td>0MM</td>\n",
       "      <td>0MM</td>\n",
       "      <td>0MM</td>\n",
       "      <td>2714</td>\n",
       "      <td>0MM</td>\n",
       "      <td>1MM</td>\n",
       "      <td>0MM</td>\n",
       "      <td>0MM</td>\n",
       "    </tr>\n",
       "  </tbody>\n",
       "</table>\n",
       "</div>"
      ],
      "text/plain": [
       "      duration  director_facebook_likes  actor_3_facebook_likes  \\\n",
       "4201       0MM                      0MM                     0MM   \n",
       "4677       0MM                      0MM                     0MM   \n",
       "\n",
       "      actor_1_facebook_likes  cast_total_facebook_likes  facenumber_in_poster  \\\n",
       "4201                     0MM                       1064                   0MM   \n",
       "4677                     0MM                       2714                   0MM   \n",
       "\n",
       "      budget  title_year  actor_2_facebook_likes  \n",
       "4201     2MM         0MM                     0MM  \n",
       "4677     1MM         0MM                     0MM  "
      ]
     },
     "execution_count": 286,
     "metadata": {},
     "output_type": "execute_result"
    }
   ],
   "source": [
    "train.drop(['num_critic_for_reviews', 'num_voted_users', 'num_user_for_reviews', 'imdb_score', 'movie_facebook_likes'], axis=1, inplace=True)\n",
    "test.drop(['num_critic_for_reviews', 'num_voted_users', 'num_user_for_reviews', 'imdb_score', 'movie_facebook_likes'], axis=1, inplace=True)\n",
    "train.head(2)"
   ]
  },
  {
   "cell_type": "code",
   "execution_count": 287,
   "metadata": {},
   "outputs": [
    {
     "data": {
      "text/plain": [
       "RandomForestRegressor(bootstrap=True, criterion='mse', max_depth=25,\n",
       "           max_features='auto', max_leaf_nodes=None,\n",
       "           min_impurity_decrease=0.0, min_impurity_split=None,\n",
       "           min_samples_leaf=1, min_samples_split=15,\n",
       "           min_weight_fraction_leaf=0.0, n_estimators=1000, n_jobs=1,\n",
       "           oob_score=False, random_state=1, verbose=0, warm_start=False)"
      ]
     },
     "execution_count": 287,
     "metadata": {},
     "output_type": "execute_result"
    }
   ],
   "source": [
    "pre_data_forest = RandomForestRegressor(\n",
    "    max_depth=25,\n",
    "    min_samples_split=15,\n",
    "    n_estimators=1000,\n",
    "    random_state=1)\n",
    "\n",
    "pre_data_forest.fit(train, target_train)"
   ]
  },
  {
   "cell_type": "code",
   "execution_count": 288,
   "metadata": {},
   "outputs": [],
   "source": [
    "second_prediction = pre_data_forest.predict(test)"
   ]
  },
  {
   "cell_type": "code",
   "execution_count": 289,
   "metadata": {},
   "outputs": [
    {
     "name": "stdout",
     "output_type": "stream",
     "text": [
      "Mean squared error: 2957901233504547.50\n",
      "Variance score: 0.39\n"
     ]
    },
    {
     "data": {
      "image/png": "[encoded data removed]",
      "text/plain": [
       "<matplotlib.figure.Figure at 0x11163def0>"
      ]
     },
     "metadata": {},
     "output_type": "display_data"
    }
   ],
   "source": [
    "# The mean squared error\n",
    "print(\"Mean squared error: %.2f\" % mean_squared_error(target_test, second_prediction))\n",
    "\n",
    "# Explained variance score: 1 is perfect prediction\n",
    "print('Variance score: %.2f' % r2_score(target_test, second_prediction))\n",
    "\n",
    "# Plot outputs\n",
    "plt.scatter(target_test, second_prediction,  color='black')\n",
    "# plt.plot(test, prediction, color='blue', linewidth=3)\n",
    "\n",
    "\n",
    "plt.show()"
   ]
  },
  {
   "cell_type": "markdown",
   "metadata": {},
   "source": [
    "## Over/Under performing movies"
   ]
  },
  {
   "cell_type": "code",
   "execution_count": 290,
   "metadata": {},
   "outputs": [],
   "source": [
    "numerical_data_target = numerical_data.pop('gross')\n",
    "all_data_prediction = forest.predict(numerical_data)"
   ]
  },
  {
   "cell_type": "code",
   "execution_count": 324,
   "metadata": {},
   "outputs": [],
   "source": [
    "performance = numerical_data_target - all_data_prediction\n",
    "\n",
    "data[\"prediction\"] = all_data_prediction\n",
    "data[\"performance_diff\"] = performance\n",
    "data[\"performance_diff_percent\"] = performance / numerical_data_target * 100\n",
    "data[\"performance_diff_percent\"] = data[\"performance_diff_percent\"].map('{:,.2f}%'.format)\n",
    "\n",
    "performance_repr = data.sort_values(['performance_diff'], ascending=False)[\n",
    "    ['movie_title', 'gross', 'prediction', 'performance_diff', 'performance_diff_percent']]\n",
    "\n",
    "pd.set_option('display.float_format', lambda x: '%.0fMM' % (x/1000000))"
   ]
  },
  {
   "cell_type": "code",
   "execution_count": 325,
   "metadata": {},
   "outputs": [
    {
     "data": {
      "text/html": [
       "<div>\n",
       "<style>\n",
       "    .dataframe thead tr:only-child th {\n",
       "        text-align: right;\n",
       "    }\n",
       "\n",
       "    .dataframe thead th {\n",
       "        text-align: left;\n",
       "    }\n",
       "\n",
       "    .dataframe tbody tr th {\n",
       "        vertical-align: top;\n",
       "    }\n",
       "</style>\n",
       "<table border=\"1\" class=\"dataframe\">\n",
       "  <thead>\n",
       "    <tr style=\"text-align: right;\">\n",
       "      <th></th>\n",
       "      <th>movie_title</th>\n",
       "      <th>gross</th>\n",
       "      <th>prediction</th>\n",
       "      <th>performance_diff</th>\n",
       "      <th>performance_diff_percent</th>\n",
       "    </tr>\n",
       "  </thead>\n",
       "  <tbody>\n",
       "    <tr>\n",
       "      <th>26</th>\n",
       "      <td>Titanic</td>\n",
       "      <td>659MM</td>\n",
       "      <td>336MM</td>\n",
       "      <td>322MM</td>\n",
       "      <td>48.93%</td>\n",
       "    </tr>\n",
       "    <tr>\n",
       "      <th>0</th>\n",
       "      <td>Avatar</td>\n",
       "      <td>761MM</td>\n",
       "      <td>486MM</td>\n",
       "      <td>274MM</td>\n",
       "      <td>36.05%</td>\n",
       "    </tr>\n",
       "    <tr>\n",
       "      <th>29</th>\n",
       "      <td>Jurassic World</td>\n",
       "      <td>652MM</td>\n",
       "      <td>383MM</td>\n",
       "      <td>269MM</td>\n",
       "      <td>41.30%</td>\n",
       "    </tr>\n",
       "    <tr>\n",
       "      <th>3024</th>\n",
       "      <td>Star Wars: Episode IV - A New Hope</td>\n",
       "      <td>461MM</td>\n",
       "      <td>221MM</td>\n",
       "      <td>239MM</td>\n",
       "      <td>51.96%</td>\n",
       "    </tr>\n",
       "    <tr>\n",
       "      <th>3080</th>\n",
       "      <td>E.T. the Extra-Terrestrial</td>\n",
       "      <td>435MM</td>\n",
       "      <td>198MM</td>\n",
       "      <td>237MM</td>\n",
       "      <td>54.55%</td>\n",
       "    </tr>\n",
       "  </tbody>\n",
       "</table>\n",
       "</div>"
      ],
      "text/plain": [
       "                              movie_title  gross  prediction  \\\n",
       "26                               Titanic   659MM       336MM   \n",
       "0                                 Avatar   761MM       486MM   \n",
       "29                        Jurassic World   652MM       383MM   \n",
       "3024  Star Wars: Episode IV - A New Hope   461MM       221MM   \n",
       "3080          E.T. the Extra-Terrestrial   435MM       198MM   \n",
       "\n",
       "      performance_diff performance_diff_percent  \n",
       "26               322MM                   48.93%  \n",
       "0                274MM                   36.05%  \n",
       "29               269MM                   41.30%  \n",
       "3024             239MM                   51.96%  \n",
       "3080             237MM                   54.55%  "
      ]
     },
     "execution_count": 325,
     "metadata": {},
     "output_type": "execute_result"
    }
   ],
   "source": [
    "performance_repr[:5]"
   ]
  },
  {
   "cell_type": "code",
   "execution_count": 329,
   "metadata": {},
   "outputs": [
    {
     "data": {
      "text/html": [
       "<div>\n",
       "<style>\n",
       "    .dataframe thead tr:only-child th {\n",
       "        text-align: right;\n",
       "    }\n",
       "\n",
       "    .dataframe thead th {\n",
       "        text-align: left;\n",
       "    }\n",
       "\n",
       "    .dataframe tbody tr th {\n",
       "        vertical-align: top;\n",
       "    }\n",
       "</style>\n",
       "<table border=\"1\" class=\"dataframe\">\n",
       "  <thead>\n",
       "    <tr style=\"text-align: right;\">\n",
       "      <th></th>\n",
       "      <th>movie_title</th>\n",
       "      <th>gross</th>\n",
       "      <th>prediction</th>\n",
       "      <th>performance_diff</th>\n",
       "      <th>performance_diff_percent</th>\n",
       "    </tr>\n",
       "  </thead>\n",
       "  <tbody>\n",
       "    <tr>\n",
       "      <th>573</th>\n",
       "      <td>Braveheart</td>\n",
       "      <td>76MM</td>\n",
       "      <td>236MM</td>\n",
       "      <td>-160MM</td>\n",
       "      <td>-212.00%</td>\n",
       "    </tr>\n",
       "    <tr>\n",
       "      <th>96</th>\n",
       "      <td>Interstellar</td>\n",
       "      <td>188MM</td>\n",
       "      <td>337MM</td>\n",
       "      <td>-149MM</td>\n",
       "      <td>-79.09%</td>\n",
       "    </tr>\n",
       "    <tr>\n",
       "      <th>525</th>\n",
       "      <td>Children of Men</td>\n",
       "      <td>35MM</td>\n",
       "      <td>161MM</td>\n",
       "      <td>-126MM</td>\n",
       "      <td>-357.07%</td>\n",
       "    </tr>\n",
       "    <tr>\n",
       "      <th>130</th>\n",
       "      <td>Thor</td>\n",
       "      <td>181MM</td>\n",
       "      <td>298MM</td>\n",
       "      <td>-117MM</td>\n",
       "      <td>-64.86%</td>\n",
       "    </tr>\n",
       "    <tr>\n",
       "      <th>52</th>\n",
       "      <td>Pacific Rim</td>\n",
       "      <td>102MM</td>\n",
       "      <td>218MM</td>\n",
       "      <td>-116MM</td>\n",
       "      <td>-113.83%</td>\n",
       "    </tr>\n",
       "  </tbody>\n",
       "</table>\n",
       "</div>"
      ],
      "text/plain": [
       "          movie_title  gross  prediction  performance_diff  \\\n",
       "573       Braveheart    76MM       236MM            -160MM   \n",
       "96      Interstellar   188MM       337MM            -149MM   \n",
       "525  Children of Men    35MM       161MM            -126MM   \n",
       "130             Thor   181MM       298MM            -117MM   \n",
       "52       Pacific Rim   102MM       218MM            -116MM   \n",
       "\n",
       "    performance_diff_percent  \n",
       "573                 -212.00%  \n",
       "96                   -79.09%  \n",
       "525                 -357.07%  \n",
       "130                  -64.86%  \n",
       "52                  -113.83%  "
      ]
     },
     "execution_count": 329,
     "metadata": {},
     "output_type": "execute_result"
    }
   ],
   "source": [
    "performance_repr[:-6:-1]"
   ]
  },
  {
   "cell_type": "code",
   "execution_count": null,
   "metadata": {},
   "outputs": [],
   "source": []
  }
 ],
 "metadata": {
  "kernelspec": {
   "display_name": "Python 3",
   "language": "python",
   "name": "python3"
  },
  "language_info": {
   "codemirror_mode": {
    "name": "ipython",
    "version": 3
   },
   "file_extension": ".py",
   "mimetype": "text/x-python",
   "name": "python",
   "nbconvert_exporter": "python",
   "pygments_lexer": "ipython3",
   "version": "3.6.1"
  }
 },
 "nbformat": 4,
 "nbformat_minor": 2
}
