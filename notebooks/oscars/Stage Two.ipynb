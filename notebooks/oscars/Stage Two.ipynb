{
 "cells": [
  {
   "cell_type": "markdown",
   "metadata": {},
   "source": [
    "# Predict the Oscars with Data Science"
   ]
  },
  {
   "cell_type": "markdown",
   "metadata": {},
   "source": [
    "In this practical workshop you'll use a dataset that contains previous Oscar winners to build a prediction model to guess the winner for Best Picture Award. You'll get an introduction to a data scientist's tools and methods, including an overview of basic machine learning concepts. Unlike this year's Oscars, our model will predict only one winner!"
   ]
  },
  {
   "cell_type": "markdown",
   "metadata": {},
   "source": [
    "## Initial imports and loading data with Pandas"
   ]
  },
  {
   "cell_type": "code",
   "execution_count": 1,
   "metadata": {
    "collapsed": false
   },
   "outputs": [],
   "source": [
    "import numpy as np\n",
    "import pandas as pd\n",
    "from sklearn import tree\n",
    "from sklearn.ensemble import RandomForestClassifier\n",
    "\n",
    "pd.set_option('mode.chained_assignment', None)"
   ]
  },
  {
   "cell_type": "code",
   "execution_count": 2,
   "metadata": {
    "collapsed": false
   },
   "outputs": [],
   "source": [
    "train_file = \"train.csv\"\n",
    "initial_train = pd.read_csv(train_file)\n",
    "\n",
    "train = initial_train[(initial_train['Year'] > 1980)]\n",
    "\n",
    "test_file = \"test.csv\"\n",
    "test = pd.read_csv(test_file)"
   ]
  },
  {
   "cell_type": "markdown",
   "metadata": {},
   "source": [
    "## Understanding your data"
   ]
  },
  {
   "cell_type": "markdown",
   "metadata": {},
   "source": [
    "You need to \"run\" the two cells below, to do that select the cell and press:  *`Shift-Enter`*"
   ]
  },
  {
   "cell_type": "code",
   "execution_count": 3,
   "metadata": {
    "collapsed": false
   },
   "outputs": [
    {
     "data": {
      "text/html": [
       "<div>\n",
       "<table border=\"1\" class=\"dataframe\">\n",
       "  <thead>\n",
       "    <tr style=\"text-align: right;\">\n",
       "      <th></th>\n",
       "      <th>Year</th>\n",
       "      <th>Movie</th>\n",
       "      <th>Won?</th>\n",
       "      <th>Budget</th>\n",
       "      <th>Opening Weekend</th>\n",
       "      <th>IMDB Rating</th>\n",
       "      <th>Genres</th>\n",
       "      <th>Won Golden Globe</th>\n",
       "      <th>Won Bafta</th>\n",
       "      <th>Oscar Nominations</th>\n",
       "      <th>Golden Globe Nominations</th>\n",
       "      <th>Bafta Nominations</th>\n",
       "      <th>IMdB id</th>\n",
       "      <th>Won Producers</th>\n",
       "      <th>Won Directors</th>\n",
       "      <th>Won Actors</th>\n",
       "      <th>Rate</th>\n",
       "      <th>Metascore</th>\n",
       "    </tr>\n",
       "  </thead>\n",
       "  <tbody>\n",
       "    <tr>\n",
       "      <th>0</th>\n",
       "      <td>2015</td>\n",
       "      <td>Spotlight</td>\n",
       "      <td>1</td>\n",
       "      <td>20000000.0</td>\n",
       "      <td>295009.0</td>\n",
       "      <td>8.1</td>\n",
       "      <td>Crime, Drama, History</td>\n",
       "      <td>0</td>\n",
       "      <td>0</td>\n",
       "      <td>6</td>\n",
       "      <td>3</td>\n",
       "      <td>3</td>\n",
       "      <td>tt1895587</td>\n",
       "      <td>0</td>\n",
       "      <td>0</td>\n",
       "      <td>1</td>\n",
       "      <td>R</td>\n",
       "      <td>93.0</td>\n",
       "    </tr>\n",
       "    <tr>\n",
       "      <th>1</th>\n",
       "      <td>2015</td>\n",
       "      <td>The Big Short</td>\n",
       "      <td>0</td>\n",
       "      <td>28000000.0</td>\n",
       "      <td>10531026.0</td>\n",
       "      <td>7.8</td>\n",
       "      <td>Biography, Comedy, Drama, History</td>\n",
       "      <td>0</td>\n",
       "      <td>0</td>\n",
       "      <td>5</td>\n",
       "      <td>4</td>\n",
       "      <td>5</td>\n",
       "      <td>tt1596363</td>\n",
       "      <td>1</td>\n",
       "      <td>0</td>\n",
       "      <td>0</td>\n",
       "      <td>R</td>\n",
       "      <td>81.0</td>\n",
       "    </tr>\n",
       "    <tr>\n",
       "      <th>2</th>\n",
       "      <td>2015</td>\n",
       "      <td>Bridge of Spies</td>\n",
       "      <td>0</td>\n",
       "      <td>40000000.0</td>\n",
       "      <td>15371203.0</td>\n",
       "      <td>7.6</td>\n",
       "      <td>Drama, History, Thriller</td>\n",
       "      <td>0</td>\n",
       "      <td>0</td>\n",
       "      <td>6</td>\n",
       "      <td>1</td>\n",
       "      <td>9</td>\n",
       "      <td>tt3682448</td>\n",
       "      <td>0</td>\n",
       "      <td>0</td>\n",
       "      <td>0</td>\n",
       "      <td>PG-13</td>\n",
       "      <td>81.0</td>\n",
       "    </tr>\n",
       "    <tr>\n",
       "      <th>3</th>\n",
       "      <td>2015</td>\n",
       "      <td>Brooklyn</td>\n",
       "      <td>0</td>\n",
       "      <td>11000000.0</td>\n",
       "      <td>187281.0</td>\n",
       "      <td>7.5</td>\n",
       "      <td>Drama, Romance</td>\n",
       "      <td>0</td>\n",
       "      <td>0</td>\n",
       "      <td>3</td>\n",
       "      <td>1</td>\n",
       "      <td>6</td>\n",
       "      <td>tt2381111</td>\n",
       "      <td>0</td>\n",
       "      <td>0</td>\n",
       "      <td>0</td>\n",
       "      <td>PG-13</td>\n",
       "      <td>87.0</td>\n",
       "    </tr>\n",
       "    <tr>\n",
       "      <th>4</th>\n",
       "      <td>2015</td>\n",
       "      <td>Mad Max: Fury Road</td>\n",
       "      <td>0</td>\n",
       "      <td>150000000.0</td>\n",
       "      <td>45428128.0</td>\n",
       "      <td>8.1</td>\n",
       "      <td>Action, Adventure, Sci-Fi, Thriller</td>\n",
       "      <td>0</td>\n",
       "      <td>0</td>\n",
       "      <td>10</td>\n",
       "      <td>2</td>\n",
       "      <td>7</td>\n",
       "      <td>tt1392190</td>\n",
       "      <td>0</td>\n",
       "      <td>0</td>\n",
       "      <td>0</td>\n",
       "      <td>R</td>\n",
       "      <td>90.0</td>\n",
       "    </tr>\n",
       "  </tbody>\n",
       "</table>\n",
       "</div>"
      ],
      "text/plain": [
       "   Year               Movie  Won?       Budget  Opening Weekend  IMDB Rating  \\\n",
       "0  2015           Spotlight     1   20000000.0         295009.0          8.1   \n",
       "1  2015       The Big Short     0   28000000.0       10531026.0          7.8   \n",
       "2  2015     Bridge of Spies     0   40000000.0       15371203.0          7.6   \n",
       "3  2015            Brooklyn     0   11000000.0         187281.0          7.5   \n",
       "4  2015  Mad Max: Fury Road     0  150000000.0       45428128.0          8.1   \n",
       "\n",
       "                                Genres  Won Golden Globe  Won Bafta  \\\n",
       "0                Crime, Drama, History                 0          0   \n",
       "1    Biography, Comedy, Drama, History                 0          0   \n",
       "2             Drama, History, Thriller                 0          0   \n",
       "3                       Drama, Romance                 0          0   \n",
       "4  Action, Adventure, Sci-Fi, Thriller                 0          0   \n",
       "\n",
       "   Oscar Nominations  Golden Globe Nominations  Bafta Nominations    IMdB id  \\\n",
       "0                  6                         3                  3  tt1895587   \n",
       "1                  5                         4                  5  tt1596363   \n",
       "2                  6                         1                  9  tt3682448   \n",
       "3                  3                         1                  6  tt2381111   \n",
       "4                 10                         2                  7  tt1392190   \n",
       "\n",
       "   Won Producers  Won Directors  Won Actors   Rate  Metascore  \n",
       "0              0              0           1      R       93.0  \n",
       "1              1              0           0      R       81.0  \n",
       "2              0              0           0  PG-13       81.0  \n",
       "3              0              0           0  PG-13       87.0  \n",
       "4              0              0           0      R       90.0  "
      ]
     },
     "execution_count": 3,
     "metadata": {},
     "output_type": "execute_result"
    }
   ],
   "source": [
    "train.head(5)"
   ]
  },
  {
   "cell_type": "code",
   "execution_count": 4,
   "metadata": {
    "collapsed": false
   },
   "outputs": [
    {
     "data": {
      "text/plain": [
       "0    155\n",
       "1     33\n",
       "Name: Won?, dtype: int64"
      ]
     },
     "execution_count": 4,
     "metadata": {},
     "output_type": "execute_result"
    }
   ],
   "source": [
    "train['Won?'].value_counts()"
   ]
  },
  {
   "cell_type": "markdown",
   "metadata": {},
   "source": [
    "## Formatting your Data"
   ]
  },
  {
   "cell_type": "code",
   "execution_count": 5,
   "metadata": {
    "collapsed": false
   },
   "outputs": [],
   "source": [
    "# Set Rate to a number to be able to analyze it\n",
    "train.ix[train[\"Rate\"] == \"G\", \"Rate\"] = 1\n",
    "train.ix[train[\"Rate\"] == \"PG\", \"Rate\"] = 2\n",
    "train.ix[train[\"Rate\"] == \"PG-13\", \"Rate\"] = 3\n",
    "train.ix[train[\"Rate\"] == \"R\", \"Rate\"] = 4\n",
    "\n",
    "test.ix[test[\"Rate\"] == \"G\", \"Rate\"] = 1\n",
    "test.ix[test[\"Rate\"] == \"PG\", \"Rate\"] = 2\n",
    "test.ix[test[\"Rate\"] == \"PG-13\", \"Rate\"] = 3\n",
    "test.ix[test[\"Rate\"] == \"R\", \"Rate\"] = 4"
   ]
  },
  {
   "cell_type": "code",
   "execution_count": 6,
   "metadata": {
    "collapsed": false
   },
   "outputs": [
    {
     "data": {
      "text/html": [
       "<div>\n",
       "<table border=\"1\" class=\"dataframe\">\n",
       "  <thead>\n",
       "    <tr style=\"text-align: right;\">\n",
       "      <th></th>\n",
       "      <th>Year</th>\n",
       "      <th>Movie</th>\n",
       "      <th>Won?</th>\n",
       "      <th>Budget</th>\n",
       "      <th>Opening Weekend</th>\n",
       "      <th>IMDB Rating</th>\n",
       "      <th>Genres</th>\n",
       "      <th>Won Golden Globe</th>\n",
       "      <th>Won Bafta</th>\n",
       "      <th>Oscar Nominations</th>\n",
       "      <th>Golden Globe Nominations</th>\n",
       "      <th>Bafta Nominations</th>\n",
       "      <th>IMdB id</th>\n",
       "      <th>Won Producers</th>\n",
       "      <th>Won Directors</th>\n",
       "      <th>Won Actors</th>\n",
       "      <th>Rate</th>\n",
       "      <th>Metascore</th>\n",
       "    </tr>\n",
       "  </thead>\n",
       "  <tbody>\n",
       "    <tr>\n",
       "      <th>0</th>\n",
       "      <td>2015</td>\n",
       "      <td>Spotlight</td>\n",
       "      <td>1</td>\n",
       "      <td>20000000.0</td>\n",
       "      <td>295009.0</td>\n",
       "      <td>8.1</td>\n",
       "      <td>Crime, Drama, History</td>\n",
       "      <td>0</td>\n",
       "      <td>0</td>\n",
       "      <td>6</td>\n",
       "      <td>3</td>\n",
       "      <td>3</td>\n",
       "      <td>tt1895587</td>\n",
       "      <td>0</td>\n",
       "      <td>0</td>\n",
       "      <td>1</td>\n",
       "      <td>4</td>\n",
       "      <td>93.0</td>\n",
       "    </tr>\n",
       "    <tr>\n",
       "      <th>1</th>\n",
       "      <td>2015</td>\n",
       "      <td>The Big Short</td>\n",
       "      <td>0</td>\n",
       "      <td>28000000.0</td>\n",
       "      <td>10531026.0</td>\n",
       "      <td>7.8</td>\n",
       "      <td>Biography, Comedy, Drama, History</td>\n",
       "      <td>0</td>\n",
       "      <td>0</td>\n",
       "      <td>5</td>\n",
       "      <td>4</td>\n",
       "      <td>5</td>\n",
       "      <td>tt1596363</td>\n",
       "      <td>1</td>\n",
       "      <td>0</td>\n",
       "      <td>0</td>\n",
       "      <td>4</td>\n",
       "      <td>81.0</td>\n",
       "    </tr>\n",
       "    <tr>\n",
       "      <th>2</th>\n",
       "      <td>2015</td>\n",
       "      <td>Bridge of Spies</td>\n",
       "      <td>0</td>\n",
       "      <td>40000000.0</td>\n",
       "      <td>15371203.0</td>\n",
       "      <td>7.6</td>\n",
       "      <td>Drama, History, Thriller</td>\n",
       "      <td>0</td>\n",
       "      <td>0</td>\n",
       "      <td>6</td>\n",
       "      <td>1</td>\n",
       "      <td>9</td>\n",
       "      <td>tt3682448</td>\n",
       "      <td>0</td>\n",
       "      <td>0</td>\n",
       "      <td>0</td>\n",
       "      <td>3</td>\n",
       "      <td>81.0</td>\n",
       "    </tr>\n",
       "    <tr>\n",
       "      <th>3</th>\n",
       "      <td>2015</td>\n",
       "      <td>Brooklyn</td>\n",
       "      <td>0</td>\n",
       "      <td>11000000.0</td>\n",
       "      <td>187281.0</td>\n",
       "      <td>7.5</td>\n",
       "      <td>Drama, Romance</td>\n",
       "      <td>0</td>\n",
       "      <td>0</td>\n",
       "      <td>3</td>\n",
       "      <td>1</td>\n",
       "      <td>6</td>\n",
       "      <td>tt2381111</td>\n",
       "      <td>0</td>\n",
       "      <td>0</td>\n",
       "      <td>0</td>\n",
       "      <td>3</td>\n",
       "      <td>87.0</td>\n",
       "    </tr>\n",
       "    <tr>\n",
       "      <th>4</th>\n",
       "      <td>2015</td>\n",
       "      <td>Mad Max: Fury Road</td>\n",
       "      <td>0</td>\n",
       "      <td>150000000.0</td>\n",
       "      <td>45428128.0</td>\n",
       "      <td>8.1</td>\n",
       "      <td>Action, Adventure, Sci-Fi, Thriller</td>\n",
       "      <td>0</td>\n",
       "      <td>0</td>\n",
       "      <td>10</td>\n",
       "      <td>2</td>\n",
       "      <td>7</td>\n",
       "      <td>tt1392190</td>\n",
       "      <td>0</td>\n",
       "      <td>0</td>\n",
       "      <td>0</td>\n",
       "      <td>4</td>\n",
       "      <td>90.0</td>\n",
       "    </tr>\n",
       "  </tbody>\n",
       "</table>\n",
       "</div>"
      ],
      "text/plain": [
       "   Year               Movie  Won?       Budget  Opening Weekend  IMDB Rating  \\\n",
       "0  2015           Spotlight     1   20000000.0         295009.0          8.1   \n",
       "1  2015       The Big Short     0   28000000.0       10531026.0          7.8   \n",
       "2  2015     Bridge of Spies     0   40000000.0       15371203.0          7.6   \n",
       "3  2015            Brooklyn     0   11000000.0         187281.0          7.5   \n",
       "4  2015  Mad Max: Fury Road     0  150000000.0       45428128.0          8.1   \n",
       "\n",
       "                                Genres  Won Golden Globe  Won Bafta  \\\n",
       "0                Crime, Drama, History                 0          0   \n",
       "1    Biography, Comedy, Drama, History                 0          0   \n",
       "2             Drama, History, Thriller                 0          0   \n",
       "3                       Drama, Romance                 0          0   \n",
       "4  Action, Adventure, Sci-Fi, Thriller                 0          0   \n",
       "\n",
       "   Oscar Nominations  Golden Globe Nominations  Bafta Nominations    IMdB id  \\\n",
       "0                  6                         3                  3  tt1895587   \n",
       "1                  5                         4                  5  tt1596363   \n",
       "2                  6                         1                  9  tt3682448   \n",
       "3                  3                         1                  6  tt2381111   \n",
       "4                 10                         2                  7  tt1392190   \n",
       "\n",
       "   Won Producers  Won Directors  Won Actors Rate  Metascore  \n",
       "0              0              0           1    4       93.0  \n",
       "1              1              0           0    4       81.0  \n",
       "2              0              0           0    3       81.0  \n",
       "3              0              0           0    3       87.0  \n",
       "4              0              0           0    4       90.0  "
      ]
     },
     "execution_count": 6,
     "metadata": {},
     "output_type": "execute_result"
    }
   ],
   "source": [
    "train.head(5)"
   ]
  },
  {
   "cell_type": "markdown",
   "metadata": {},
   "source": [
    "## Cleaning your Data"
   ]
  },
  {
   "cell_type": "code",
   "execution_count": 7,
   "metadata": {
    "collapsed": false
   },
   "outputs": [],
   "source": [
    "train[\"IMDB Rating\"].fillna(train[\"IMDB Rating\"].median(), inplace=True)\n",
    "test[\"IMDB Rating\"].fillna(test[\"IMDB Rating\"].median(), inplace=True)\n",
    "\n",
    "train[\"Metascore\"].fillna(train[\"Metascore\"].median(), inplace=True)\n",
    "test[\"Metascore\"].fillna(train[\"Metascore\"].median(), inplace=True)"
   ]
  },
  {
   "cell_type": "markdown",
   "metadata": {},
   "source": [
    "## Decision Tree"
   ]
  },
  {
   "cell_type": "code",
   "execution_count": 21,
   "metadata": {
    "collapsed": false
   },
   "outputs": [],
   "source": [
    "target = train[\"Won?\"].values\n",
    "\n",
    "feature_names = [\n",
    "    \"Oscar Nominations\",\n",
    "    \"Won Golden Globe\",\n",
    "    \"Golden Globe Nominations\",\n",
    "    \"Won Bafta\",\n",
    "    \"Bafta Nominations\",\n",
    "    \"Won Producers\",\n",
    "    \"Won Actors\",\n",
    "    \"Won Directors\",\n",
    "    \"Metascore\",\n",
    "    \"IMDB Rating\"]\n",
    "\n",
    "features = train[feature_names].values\n",
    "\n",
    "# Fit your first decision tree: my_tree\n",
    "my_tree = tree.DecisionTreeClassifier()\n",
    "my_tree = my_tree.fit(features, target)"
   ]
  },
  {
   "cell_type": "code",
   "execution_count": 22,
   "metadata": {
    "collapsed": false
   },
   "outputs": [
    {
     "name": "stdout",
     "output_type": "stream",
     "text": [
      "                          Importances\n",
      "Oscar Nominations            0.103140\n",
      "Won Golden Globe             0.067384\n",
      "Golden Globe Nominations     0.066598\n",
      "Won Bafta                    0.000000\n",
      "Bafta Nominations            0.148232\n",
      "Won Producers                0.032166\n",
      "Won Actors                   0.040028\n",
      "Won Directors                0.447840\n",
      "Metascore                    0.031822\n",
      "IMDB Rating                  0.062790\n",
      "('Score', 1.0)\n"
     ]
    }
   ],
   "source": [
    "tree_importances = pd.DataFrame(my_tree.feature_importances_, feature_names, columns=[\"Importances\"])\n",
    "\n",
    "print(tree_importances)\n",
    "print('Score', my_tree.score(features, target))"
   ]
  },
  {
   "cell_type": "markdown",
   "metadata": {},
   "source": [
    "## Predicting"
   ]
  },
  {
   "cell_type": "code",
   "execution_count": 23,
   "metadata": {
    "collapsed": false
   },
   "outputs": [],
   "source": [
    "test_features = test[feature_names].values\n",
    "\n",
    "pred_tree = my_tree.predict_proba(test_features)[:, 1]\n",
    "\n",
    "movie_name = np.array(test[\"Movie\"])\n",
    "year = np.array(test[\"Year\"])\n",
    "won = np.array(test[\"Won?\"])\n",
    "\n",
    "tree_prediction = pd.DataFrame(pred_tree.round(2), movie_name, columns=[\"Probability\"])\n",
    "tree_prediction[\"Year\"] = year\n",
    "tree_prediction[\"Actually Won?\"] = won"
   ]
  },
  {
   "cell_type": "code",
   "execution_count": 24,
   "metadata": {
    "collapsed": false
   },
   "outputs": [
    {
     "data": {
      "text/html": [
       "<div>\n",
       "<table border=\"1\" class=\"dataframe\">\n",
       "  <thead>\n",
       "    <tr style=\"text-align: right;\">\n",
       "      <th></th>\n",
       "      <th>Probability</th>\n",
       "      <th>Year</th>\n",
       "      <th>Actually Won?</th>\n",
       "    </tr>\n",
       "  </thead>\n",
       "  <tbody>\n",
       "    <tr>\n",
       "      <th>Avatar</th>\n",
       "      <td>0.0</td>\n",
       "      <td>2009</td>\n",
       "      <td>0</td>\n",
       "    </tr>\n",
       "    <tr>\n",
       "      <th>The Blind Side</th>\n",
       "      <td>0.0</td>\n",
       "      <td>2009</td>\n",
       "      <td>0</td>\n",
       "    </tr>\n",
       "    <tr>\n",
       "      <th>District 9</th>\n",
       "      <td>0.0</td>\n",
       "      <td>2009</td>\n",
       "      <td>0</td>\n",
       "    </tr>\n",
       "    <tr>\n",
       "      <th>An Education</th>\n",
       "      <td>0.0</td>\n",
       "      <td>2009</td>\n",
       "      <td>0</td>\n",
       "    </tr>\n",
       "    <tr>\n",
       "      <th>The Hurt Locker</th>\n",
       "      <td>0.0</td>\n",
       "      <td>2009</td>\n",
       "      <td>1</td>\n",
       "    </tr>\n",
       "    <tr>\n",
       "      <th>Inglourious Basterds</th>\n",
       "      <td>1.0</td>\n",
       "      <td>2009</td>\n",
       "      <td>0</td>\n",
       "    </tr>\n",
       "    <tr>\n",
       "      <th>Precious: Based on the Novel 'Push' by Sapphire</th>\n",
       "      <td>0.0</td>\n",
       "      <td>2009</td>\n",
       "      <td>0</td>\n",
       "    </tr>\n",
       "    <tr>\n",
       "      <th>A Serious Man</th>\n",
       "      <td>0.0</td>\n",
       "      <td>2009</td>\n",
       "      <td>0</td>\n",
       "    </tr>\n",
       "    <tr>\n",
       "      <th>Up</th>\n",
       "      <td>0.0</td>\n",
       "      <td>2009</td>\n",
       "      <td>0</td>\n",
       "    </tr>\n",
       "    <tr>\n",
       "      <th>Up in the Air</th>\n",
       "      <td>0.0</td>\n",
       "      <td>2009</td>\n",
       "      <td>0</td>\n",
       "    </tr>\n",
       "    <tr>\n",
       "      <th>The English Patient</th>\n",
       "      <td>1.0</td>\n",
       "      <td>1996</td>\n",
       "      <td>1</td>\n",
       "    </tr>\n",
       "    <tr>\n",
       "      <th>Fargo</th>\n",
       "      <td>0.0</td>\n",
       "      <td>1996</td>\n",
       "      <td>0</td>\n",
       "    </tr>\n",
       "    <tr>\n",
       "      <th>Jerry Maguire</th>\n",
       "      <td>0.0</td>\n",
       "      <td>1996</td>\n",
       "      <td>0</td>\n",
       "    </tr>\n",
       "    <tr>\n",
       "      <th>Secrets &amp; Lies</th>\n",
       "      <td>0.0</td>\n",
       "      <td>1996</td>\n",
       "      <td>0</td>\n",
       "    </tr>\n",
       "    <tr>\n",
       "      <th>Shine</th>\n",
       "      <td>0.0</td>\n",
       "      <td>1996</td>\n",
       "      <td>0</td>\n",
       "    </tr>\n",
       "    <tr>\n",
       "      <th>Amadeus</th>\n",
       "      <td>1.0</td>\n",
       "      <td>1984</td>\n",
       "      <td>1</td>\n",
       "    </tr>\n",
       "    <tr>\n",
       "      <th>The Killing Fields</th>\n",
       "      <td>0.0</td>\n",
       "      <td>1984</td>\n",
       "      <td>0</td>\n",
       "    </tr>\n",
       "    <tr>\n",
       "      <th>A Passage to India</th>\n",
       "      <td>0.0</td>\n",
       "      <td>1984</td>\n",
       "      <td>0</td>\n",
       "    </tr>\n",
       "    <tr>\n",
       "      <th>Places in the Heart</th>\n",
       "      <td>0.0</td>\n",
       "      <td>1984</td>\n",
       "      <td>0</td>\n",
       "    </tr>\n",
       "    <tr>\n",
       "      <th>A Soldier's Story</th>\n",
       "      <td>0.0</td>\n",
       "      <td>1984</td>\n",
       "      <td>0</td>\n",
       "    </tr>\n",
       "    <tr>\n",
       "      <th>All the President's Men</th>\n",
       "      <td>0.0</td>\n",
       "      <td>1976</td>\n",
       "      <td>0</td>\n",
       "    </tr>\n",
       "    <tr>\n",
       "      <th>Bound for Glory</th>\n",
       "      <td>0.0</td>\n",
       "      <td>1976</td>\n",
       "      <td>0</td>\n",
       "    </tr>\n",
       "    <tr>\n",
       "      <th>Network</th>\n",
       "      <td>0.0</td>\n",
       "      <td>1976</td>\n",
       "      <td>0</td>\n",
       "    </tr>\n",
       "    <tr>\n",
       "      <th>Rocky</th>\n",
       "      <td>1.0</td>\n",
       "      <td>1976</td>\n",
       "      <td>1</td>\n",
       "    </tr>\n",
       "    <tr>\n",
       "      <th>Taxi Driver</th>\n",
       "      <td>0.0</td>\n",
       "      <td>1976</td>\n",
       "      <td>0</td>\n",
       "    </tr>\n",
       "  </tbody>\n",
       "</table>\n",
       "</div>"
      ],
      "text/plain": [
       "                                                 Probability  Year  \\\n",
       "Avatar                                                   0.0  2009   \n",
       "The Blind Side                                           0.0  2009   \n",
       "District 9                                               0.0  2009   \n",
       "An Education                                             0.0  2009   \n",
       "The Hurt Locker                                          0.0  2009   \n",
       "Inglourious Basterds                                     1.0  2009   \n",
       "Precious: Based on the Novel 'Push' by Sapphire          0.0  2009   \n",
       "A Serious Man                                            0.0  2009   \n",
       "Up                                                       0.0  2009   \n",
       "Up in the Air                                            0.0  2009   \n",
       "The English Patient                                      1.0  1996   \n",
       "Fargo                                                    0.0  1996   \n",
       "Jerry Maguire                                            0.0  1996   \n",
       "Secrets & Lies                                           0.0  1996   \n",
       "Shine                                                    0.0  1996   \n",
       "Amadeus                                                  1.0  1984   \n",
       "The Killing Fields                                       0.0  1984   \n",
       "A Passage to India                                       0.0  1984   \n",
       "Places in the Heart                                      0.0  1984   \n",
       "A Soldier's Story                                        0.0  1984   \n",
       "All the President's Men                                  0.0  1976   \n",
       "Bound for Glory                                          0.0  1976   \n",
       "Network                                                  0.0  1976   \n",
       "Rocky                                                    1.0  1976   \n",
       "Taxi Driver                                              0.0  1976   \n",
       "\n",
       "                                                 Actually Won?  \n",
       "Avatar                                                       0  \n",
       "The Blind Side                                               0  \n",
       "District 9                                                   0  \n",
       "An Education                                                 0  \n",
       "The Hurt Locker                                              1  \n",
       "Inglourious Basterds                                         0  \n",
       "Precious: Based on the Novel 'Push' by Sapphire              0  \n",
       "A Serious Man                                                0  \n",
       "Up                                                           0  \n",
       "Up in the Air                                                0  \n",
       "The English Patient                                          1  \n",
       "Fargo                                                        0  \n",
       "Jerry Maguire                                                0  \n",
       "Secrets & Lies                                               0  \n",
       "Shine                                                        0  \n",
       "Amadeus                                                      1  \n",
       "The Killing Fields                                           0  \n",
       "A Passage to India                                           0  \n",
       "Places in the Heart                                          0  \n",
       "A Soldier's Story                                            0  \n",
       "All the President's Men                                      0  \n",
       "Bound for Glory                                              0  \n",
       "Network                                                      0  \n",
       "Rocky                                                        1  \n",
       "Taxi Driver                                                  0  "
      ]
     },
     "execution_count": 24,
     "metadata": {},
     "output_type": "execute_result"
    }
   ],
   "source": [
    "tree_prediction[tree_prediction['Year'] != 2016]"
   ]
  },
  {
   "cell_type": "markdown",
   "metadata": {},
   "source": [
    "## Overfitting\n",
    "\n",
    "* Resulting model too tied to the training set.\n",
    "* It doesn’t generalize to new data, which is the point of prediction."
   ]
  },
  {
   "cell_type": "markdown",
   "metadata": {},
   "source": [
    "## Random Forest Classifier\n",
    "\n",
    "Random Forest Classifiers use many decision trees to build a classifier.  The data is randomly subset, a decision tree is built, and this process is repeated many times (1000 times in our case).  Finally the information that is gained through the many decision trees is used to create the random forest classifier"
   ]
  },
  {
   "cell_type": "code",
   "execution_count": 25,
   "metadata": {
    "collapsed": false
   },
   "outputs": [],
   "source": [
    "forest = RandomForestClassifier(\n",
    "    max_depth=25,\n",
    "    min_samples_split=15,\n",
    "    n_estimators=1000,\n",
    "    random_state=1)\n",
    "\n",
    "my_forest = forest.fit(features, target)"
   ]
  },
  {
   "cell_type": "code",
   "execution_count": 26,
   "metadata": {
    "collapsed": false
   },
   "outputs": [
    {
     "name": "stdout",
     "output_type": "stream",
     "text": [
      "                          Importances\n",
      "Oscar Nominations            0.121838\n",
      "Won Golden Globe             0.047893\n",
      "Golden Globe Nominations     0.048486\n",
      "Won Bafta                    0.016283\n",
      "Bafta Nominations            0.060315\n",
      "Won Producers                0.133330\n",
      "Won Actors                   0.069735\n",
      "Won Directors                0.375788\n",
      "Metascore                    0.037767\n",
      "IMDB Rating                  0.088565\n",
      "('Score', 0.94148936170212771)\n"
     ]
    }
   ],
   "source": [
    "forest_importances = pd.DataFrame(my_forest.feature_importances_, feature_names, columns=[\"Importances\"])\n",
    "\n",
    "print(forest_importances)\n",
    "print('Score', my_forest.score(features, target))"
   ]
  },
  {
   "cell_type": "markdown",
   "metadata": {
    "collapsed": false
   },
   "source": [
    "## Predicting with Random Forest Classifier"
   ]
  },
  {
   "cell_type": "code",
   "execution_count": 27,
   "metadata": {
    "collapsed": false
   },
   "outputs": [],
   "source": [
    "pred_forest = my_forest.predict_proba(test_features)[:, 1]\n",
    "\n",
    "forest_prediction = pd.DataFrame(pred_forest, movie_name, columns=[\"Probability\"])\n",
    "forest_prediction[\"Year\"] = year\n",
    "forest_prediction[\"Actually Won?\"] = won"
   ]
  },
  {
   "cell_type": "code",
   "execution_count": 28,
   "metadata": {
    "collapsed": false
   },
   "outputs": [],
   "source": [
    "normalized_prediction = forest_prediction.copy()\n",
    "\n",
    "for index, row in normalized_prediction.iterrows():\n",
    "    normalized_prediction.loc[index, \"Probability\"] = \\\n",
    "        (row[\"Probability\"] / forest_prediction[\"Probability\"][forest_prediction[\"Year\"] == row[\"Year\"]].sum()).round(2)"
   ]
  },
  {
   "cell_type": "code",
   "execution_count": 29,
   "metadata": {
    "collapsed": false
   },
   "outputs": [
    {
     "data": {
      "text/html": [
       "<div>\n",
       "<table border=\"1\" class=\"dataframe\">\n",
       "  <thead>\n",
       "    <tr style=\"text-align: right;\">\n",
       "      <th></th>\n",
       "      <th>Probability</th>\n",
       "      <th>Year</th>\n",
       "      <th>Actually Won?</th>\n",
       "    </tr>\n",
       "  </thead>\n",
       "  <tbody>\n",
       "    <tr>\n",
       "      <th>Rocky</th>\n",
       "      <td>0.74</td>\n",
       "      <td>1976</td>\n",
       "      <td>1</td>\n",
       "    </tr>\n",
       "    <tr>\n",
       "      <th>Network</th>\n",
       "      <td>0.13</td>\n",
       "      <td>1976</td>\n",
       "      <td>0</td>\n",
       "    </tr>\n",
       "    <tr>\n",
       "      <th>Taxi Driver</th>\n",
       "      <td>0.09</td>\n",
       "      <td>1976</td>\n",
       "      <td>0</td>\n",
       "    </tr>\n",
       "    <tr>\n",
       "      <th>All the President's Men</th>\n",
       "      <td>0.03</td>\n",
       "      <td>1976</td>\n",
       "      <td>0</td>\n",
       "    </tr>\n",
       "    <tr>\n",
       "      <th>Bound for Glory</th>\n",
       "      <td>0.00</td>\n",
       "      <td>1976</td>\n",
       "      <td>0</td>\n",
       "    </tr>\n",
       "  </tbody>\n",
       "</table>\n",
       "</div>"
      ],
      "text/plain": [
       "                         Probability  Year  Actually Won?\n",
       "Rocky                           0.74  1976              1\n",
       "Network                         0.13  1976              0\n",
       "Taxi Driver                     0.09  1976              0\n",
       "All the President's Men         0.03  1976              0\n",
       "Bound for Glory                 0.00  1976              0"
      ]
     },
     "execution_count": 29,
     "metadata": {},
     "output_type": "execute_result"
    }
   ],
   "source": [
    "normalized_prediction[normalized_prediction[\"Year\"] == 1976].sort_values(\"Probability\", ascending=False)"
   ]
  },
  {
   "cell_type": "code",
   "execution_count": 30,
   "metadata": {
    "collapsed": false
   },
   "outputs": [
    {
     "data": {
      "text/html": [
       "<div>\n",
       "<table border=\"1\" class=\"dataframe\">\n",
       "  <thead>\n",
       "    <tr style=\"text-align: right;\">\n",
       "      <th></th>\n",
       "      <th>Probability</th>\n",
       "      <th>Year</th>\n",
       "      <th>Actually Won?</th>\n",
       "    </tr>\n",
       "  </thead>\n",
       "  <tbody>\n",
       "    <tr>\n",
       "      <th>Amadeus</th>\n",
       "      <td>0.77</td>\n",
       "      <td>1984</td>\n",
       "      <td>1</td>\n",
       "    </tr>\n",
       "    <tr>\n",
       "      <th>A Passage to India</th>\n",
       "      <td>0.12</td>\n",
       "      <td>1984</td>\n",
       "      <td>0</td>\n",
       "    </tr>\n",
       "    <tr>\n",
       "      <th>The Killing Fields</th>\n",
       "      <td>0.09</td>\n",
       "      <td>1984</td>\n",
       "      <td>0</td>\n",
       "    </tr>\n",
       "    <tr>\n",
       "      <th>A Soldier's Story</th>\n",
       "      <td>0.02</td>\n",
       "      <td>1984</td>\n",
       "      <td>0</td>\n",
       "    </tr>\n",
       "    <tr>\n",
       "      <th>Places in the Heart</th>\n",
       "      <td>0.00</td>\n",
       "      <td>1984</td>\n",
       "      <td>0</td>\n",
       "    </tr>\n",
       "  </tbody>\n",
       "</table>\n",
       "</div>"
      ],
      "text/plain": [
       "                     Probability  Year  Actually Won?\n",
       "Amadeus                     0.77  1984              1\n",
       "A Passage to India          0.12  1984              0\n",
       "The Killing Fields          0.09  1984              0\n",
       "A Soldier's Story           0.02  1984              0\n",
       "Places in the Heart         0.00  1984              0"
      ]
     },
     "execution_count": 30,
     "metadata": {},
     "output_type": "execute_result"
    }
   ],
   "source": [
    "normalized_prediction[normalized_prediction[\"Year\"] == 1984].sort_values(\"Probability\", ascending=False)"
   ]
  },
  {
   "cell_type": "code",
   "execution_count": 31,
   "metadata": {
    "collapsed": false
   },
   "outputs": [
    {
     "data": {
      "text/html": [
       "<div>\n",
       "<table border=\"1\" class=\"dataframe\">\n",
       "  <thead>\n",
       "    <tr style=\"text-align: right;\">\n",
       "      <th></th>\n",
       "      <th>Probability</th>\n",
       "      <th>Year</th>\n",
       "      <th>Actually Won?</th>\n",
       "    </tr>\n",
       "  </thead>\n",
       "  <tbody>\n",
       "    <tr>\n",
       "      <th>The English Patient</th>\n",
       "      <td>0.89</td>\n",
       "      <td>1996</td>\n",
       "      <td>1</td>\n",
       "    </tr>\n",
       "    <tr>\n",
       "      <th>Fargo</th>\n",
       "      <td>0.07</td>\n",
       "      <td>1996</td>\n",
       "      <td>0</td>\n",
       "    </tr>\n",
       "    <tr>\n",
       "      <th>Secrets &amp; Lies</th>\n",
       "      <td>0.03</td>\n",
       "      <td>1996</td>\n",
       "      <td>0</td>\n",
       "    </tr>\n",
       "    <tr>\n",
       "      <th>Shine</th>\n",
       "      <td>0.01</td>\n",
       "      <td>1996</td>\n",
       "      <td>0</td>\n",
       "    </tr>\n",
       "    <tr>\n",
       "      <th>Jerry Maguire</th>\n",
       "      <td>0.00</td>\n",
       "      <td>1996</td>\n",
       "      <td>0</td>\n",
       "    </tr>\n",
       "  </tbody>\n",
       "</table>\n",
       "</div>"
      ],
      "text/plain": [
       "                     Probability  Year  Actually Won?\n",
       "The English Patient         0.89  1996              1\n",
       "Fargo                       0.07  1996              0\n",
       "Secrets & Lies              0.03  1996              0\n",
       "Shine                       0.01  1996              0\n",
       "Jerry Maguire               0.00  1996              0"
      ]
     },
     "execution_count": 31,
     "metadata": {},
     "output_type": "execute_result"
    }
   ],
   "source": [
    "normalized_prediction[normalized_prediction[\"Year\"] == 1996].sort_values(\"Probability\", ascending=False)"
   ]
  },
  {
   "cell_type": "code",
   "execution_count": 32,
   "metadata": {
    "collapsed": false
   },
   "outputs": [
    {
     "data": {
      "text/html": [
       "<div>\n",
       "<table border=\"1\" class=\"dataframe\">\n",
       "  <thead>\n",
       "    <tr style=\"text-align: right;\">\n",
       "      <th></th>\n",
       "      <th>Probability</th>\n",
       "      <th>Year</th>\n",
       "      <th>Actually Won?</th>\n",
       "    </tr>\n",
       "  </thead>\n",
       "  <tbody>\n",
       "    <tr>\n",
       "      <th>The Hurt Locker</th>\n",
       "      <td>0.41</td>\n",
       "      <td>2009</td>\n",
       "      <td>1</td>\n",
       "    </tr>\n",
       "    <tr>\n",
       "      <th>Inglourious Basterds</th>\n",
       "      <td>0.28</td>\n",
       "      <td>2009</td>\n",
       "      <td>0</td>\n",
       "    </tr>\n",
       "    <tr>\n",
       "      <th>Up</th>\n",
       "      <td>0.16</td>\n",
       "      <td>2009</td>\n",
       "      <td>0</td>\n",
       "    </tr>\n",
       "    <tr>\n",
       "      <th>Avatar</th>\n",
       "      <td>0.07</td>\n",
       "      <td>2009</td>\n",
       "      <td>0</td>\n",
       "    </tr>\n",
       "    <tr>\n",
       "      <th>A Serious Man</th>\n",
       "      <td>0.02</td>\n",
       "      <td>2009</td>\n",
       "      <td>0</td>\n",
       "    </tr>\n",
       "    <tr>\n",
       "      <th>Up in the Air</th>\n",
       "      <td>0.02</td>\n",
       "      <td>2009</td>\n",
       "      <td>0</td>\n",
       "    </tr>\n",
       "    <tr>\n",
       "      <th>The Blind Side</th>\n",
       "      <td>0.01</td>\n",
       "      <td>2009</td>\n",
       "      <td>0</td>\n",
       "    </tr>\n",
       "    <tr>\n",
       "      <th>District 9</th>\n",
       "      <td>0.01</td>\n",
       "      <td>2009</td>\n",
       "      <td>0</td>\n",
       "    </tr>\n",
       "    <tr>\n",
       "      <th>An Education</th>\n",
       "      <td>0.01</td>\n",
       "      <td>2009</td>\n",
       "      <td>0</td>\n",
       "    </tr>\n",
       "    <tr>\n",
       "      <th>Precious: Based on the Novel 'Push' by Sapphire</th>\n",
       "      <td>0.00</td>\n",
       "      <td>2009</td>\n",
       "      <td>0</td>\n",
       "    </tr>\n",
       "  </tbody>\n",
       "</table>\n",
       "</div>"
      ],
      "text/plain": [
       "                                                 Probability  Year  \\\n",
       "The Hurt Locker                                         0.41  2009   \n",
       "Inglourious Basterds                                    0.28  2009   \n",
       "Up                                                      0.16  2009   \n",
       "Avatar                                                  0.07  2009   \n",
       "A Serious Man                                           0.02  2009   \n",
       "Up in the Air                                           0.02  2009   \n",
       "The Blind Side                                          0.01  2009   \n",
       "District 9                                              0.01  2009   \n",
       "An Education                                            0.01  2009   \n",
       "Precious: Based on the Novel 'Push' by Sapphire         0.00  2009   \n",
       "\n",
       "                                                 Actually Won?  \n",
       "The Hurt Locker                                              1  \n",
       "Inglourious Basterds                                         0  \n",
       "Up                                                           0  \n",
       "Avatar                                                       0  \n",
       "A Serious Man                                                0  \n",
       "Up in the Air                                                0  \n",
       "The Blind Side                                               0  \n",
       "District 9                                                   0  \n",
       "An Education                                                 0  \n",
       "Precious: Based on the Novel 'Push' by Sapphire              0  "
      ]
     },
     "execution_count": 32,
     "metadata": {},
     "output_type": "execute_result"
    }
   ],
   "source": [
    "normalized_prediction[normalized_prediction[\"Year\"] == 2009].sort_values(\"Probability\", ascending=False)"
   ]
  },
  {
   "cell_type": "code",
   "execution_count": 33,
   "metadata": {
    "collapsed": false
   },
   "outputs": [
    {
     "data": {
      "text/html": [
       "<div>\n",
       "<table border=\"1\" class=\"dataframe\">\n",
       "  <thead>\n",
       "    <tr style=\"text-align: right;\">\n",
       "      <th></th>\n",
       "      <th>Probability</th>\n",
       "      <th>Year</th>\n",
       "      <th>Actually Won?</th>\n",
       "    </tr>\n",
       "  </thead>\n",
       "  <tbody>\n",
       "    <tr>\n",
       "      <th>La La Land</th>\n",
       "      <td>0.53</td>\n",
       "      <td>2016</td>\n",
       "      <td>0</td>\n",
       "    </tr>\n",
       "    <tr>\n",
       "      <th>Hidden Figures</th>\n",
       "      <td>0.17</td>\n",
       "      <td>2016</td>\n",
       "      <td>0</td>\n",
       "    </tr>\n",
       "    <tr>\n",
       "      <th>Moonlight</th>\n",
       "      <td>0.13</td>\n",
       "      <td>2016</td>\n",
       "      <td>1</td>\n",
       "    </tr>\n",
       "    <tr>\n",
       "      <th>Manchester by the Sea</th>\n",
       "      <td>0.09</td>\n",
       "      <td>2016</td>\n",
       "      <td>0</td>\n",
       "    </tr>\n",
       "    <tr>\n",
       "      <th>Arrival</th>\n",
       "      <td>0.04</td>\n",
       "      <td>2016</td>\n",
       "      <td>0</td>\n",
       "    </tr>\n",
       "    <tr>\n",
       "      <th>Hacksaw Ridge</th>\n",
       "      <td>0.03</td>\n",
       "      <td>2016</td>\n",
       "      <td>0</td>\n",
       "    </tr>\n",
       "    <tr>\n",
       "      <th>Lion</th>\n",
       "      <td>0.02</td>\n",
       "      <td>2016</td>\n",
       "      <td>0</td>\n",
       "    </tr>\n",
       "    <tr>\n",
       "      <th>Fences</th>\n",
       "      <td>0.00</td>\n",
       "      <td>2016</td>\n",
       "      <td>0</td>\n",
       "    </tr>\n",
       "    <tr>\n",
       "      <th>Hell or High Water</th>\n",
       "      <td>0.00</td>\n",
       "      <td>2016</td>\n",
       "      <td>0</td>\n",
       "    </tr>\n",
       "  </tbody>\n",
       "</table>\n",
       "</div>"
      ],
      "text/plain": [
       "                       Probability  Year  Actually Won?\n",
       "La La Land                    0.53  2016              0\n",
       "Hidden Figures                0.17  2016              0\n",
       "Moonlight                     0.13  2016              1\n",
       "Manchester by the Sea         0.09  2016              0\n",
       "Arrival                       0.04  2016              0\n",
       "Hacksaw Ridge                 0.03  2016              0\n",
       "Lion                          0.02  2016              0\n",
       "Fences                        0.00  2016              0\n",
       "Hell or High Water            0.00  2016              0"
      ]
     },
     "execution_count": 33,
     "metadata": {},
     "output_type": "execute_result"
    }
   ],
   "source": [
    "normalized_prediction[normalized_prediction[\"Year\"] == 2016].sort_values(\"Probability\", ascending=False)"
   ]
  },
  {
   "cell_type": "code",
   "execution_count": null,
   "metadata": {
    "collapsed": true
   },
   "outputs": [],
   "source": []
  }
 ],
 "metadata": {
  "kernelspec": {
   "display_name": "Python 2",
   "language": "python",
   "name": "python2"
  },
  "language_info": {
   "codemirror_mode": {
    "name": "ipython",
    "version": 2
   },
   "file_extension": ".py",
   "mimetype": "text/x-python",
   "name": "python",
   "nbconvert_exporter": "python",
   "pygments_lexer": "ipython2",
   "version": "2.7.12"
  }
 },
 "nbformat": 4,
 "nbformat_minor": 2
}
